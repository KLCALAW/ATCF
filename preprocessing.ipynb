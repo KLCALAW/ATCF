{
 "cells": [
  {
   "cell_type": "code",
   "execution_count": 1,
   "id": "d8041c20-df0d-459c-b7e3-39102d4a8049",
   "metadata": {},
   "outputs": [],
   "source": [
    "import pandas as pd\n",
    "import numpy as np\n",
    "import plotly.graph_objects as go\n",
    "from plotly.subplots import make_subplots\n",
    "import plotly.colors as pc\n",
    "from modified_spectral_method import *\n",
    "from modified_louvain_method import *\n",
    "from proxy_methods_final import *\n",
    "import cvxpy as cp\n",
    "import copy\n",
    "import matplotlib.pyplot as plt"
   ]
  },
  {
   "cell_type": "code",
   "execution_count": 56,
   "id": "feca142c-e998-4fb6-a664-a947ae395af6",
   "metadata": {},
   "outputs": [],
   "source": [
    "metadata = pd.read_csv('data/metadata.csv')\n",
    "reshaped_data = pd.read_csv('data/reshaped_data.csv')"
   ]
  },
  {
   "cell_type": "markdown",
   "id": "6c0c1362-d14e-4d77-a2bc-11dada6e6c6c",
   "metadata": {},
   "source": [
    "### (i)\n",
    "Remove all ‘CCC-’ and ‘D’-rated entities since their\r\n",
    "spreads contain a large percentage of outliers which\r\n",
    "makes our analysis inaccurate. Furthermore, for these\r\n",
    "close-to-default entities, banks might decide to use a special methodology instead of the standard proxy method."
   ]
  },
  {
   "cell_type": "code",
   "execution_count": 59,
   "id": "78328517-e4f6-4d4f-8c0a-b6431d32908b",
   "metadata": {},
   "outputs": [],
   "source": [
    "# Remove all ratings below CCC- ( AverageRating > 19 )\n",
    "filtered_metadata = metadata[metadata['AverageRating'] <= 19]\n",
    "\n",
    "# Extract the tickers from the metadata\n",
    "valid_tickers = filtered_metadata['Ticker']\n",
    "\n",
    "# Filter the reshaped_data to only keep columns with tickers in metadata, including the \"Date\" column\n",
    "filtered_reshaped_data = reshaped_data[['Date'] + [col for col in reshaped_data.columns if col in valid_tickers.values]]"
   ]
  },
  {
   "cell_type": "code",
   "execution_count": 65,
   "id": "d3e743a8-2664-4650-b581-7cf6ede044b9",
   "metadata": {},
   "outputs": [
    {
     "data": {
      "text/plain": [
       "(2515, 318)"
      ]
     },
     "execution_count": 65,
     "metadata": {},
     "output_type": "execute_result"
    }
   ],
   "source": [
    "filtered_reshaped_data.shape"
   ]
  },
  {
   "cell_type": "markdown",
   "id": "0851f391-3261-422d-a7b1-bb9901e875d2",
   "metadata": {},
   "source": [
    "### (iv)\n",
    "Remove the quotes from the ‘Government’ sector since\r\n",
    "sovereign CDS’s have been studied independently in\r\n",
    "the literature"
   ]
  },
  {
   "cell_type": "code",
   "execution_count": 67,
   "id": "f2f14bf3-0763-486d-bf51-6a97803c19dd",
   "metadata": {},
   "outputs": [],
   "source": [
    "# Remove \"Government\" sector tickers from filtered_metadata\n",
    "filtered_metadata = filtered_metadata[filtered_metadata['Sector'] != 'Government']\n",
    "\n",
    "# Update the list of valid tickers\n",
    "valid_tickers = filtered_metadata['Ticker']\n",
    "\n",
    "# Filter the reshaped_data again to only keep columns with tickers in the updated metadata, including the \"Date\" column\n",
    "filtered_reshaped_data = reshaped_data[['Date'] + [col for col in reshaped_data.columns if col in valid_tickers.values]]\n"
   ]
  },
  {
   "cell_type": "code",
   "execution_count": 69,
   "id": "aedc9c61-bc37-4187-b4c5-9c1b46804db3",
   "metadata": {},
   "outputs": [
    {
     "data": {
      "text/plain": [
       "(2515, 298)"
      ]
     },
     "execution_count": 69,
     "metadata": {},
     "output_type": "execute_result"
    }
   ],
   "source": [
    "filtered_reshaped_data.shape"
   ]
  },
  {
   "cell_type": "markdown",
   "id": "2ac75709-ce98-4df2-82c7-c9bb2062d87c",
   "metadata": {},
   "source": [
    "### (vii)\n",
    "Remove quotes for entities which are above 1000 basis\r\n",
    "points. This allows us to have a more accurate estimate of\r\n",
    "errors in proxying, and similar to ‘CCC-’ and ‘D’-rated\r\n",
    "entities, banks might decide to use a special methodology instead of the standard proxy method for these\r\n",
    "entities."
   ]
  },
  {
   "cell_type": "code",
   "execution_count": 75,
   "id": "b0691677-4b4d-4abb-9ae5-5d93cbfd908d",
   "metadata": {},
   "outputs": [
    {
     "data": {
      "text/plain": [
       "6426"
      ]
     },
     "execution_count": 75,
     "metadata": {},
     "output_type": "execute_result"
    }
   ],
   "source": [
    "# Remove quotes for entities with values above 1000 basis points in the reshaped data\n",
    "# Excluding the 'Date' column, apply the filtering condition\n",
    "filtered_reshaped_data = filtered_reshaped_data.copy()\n",
    "for column in filtered_reshaped_data.columns[1:]:  # Exclude 'Date'\n",
    "    filtered_reshaped_data[column] = filtered_reshaped_data[column].where(filtered_reshaped_data[column] <= 1000)\n",
    "\n",
    "# Count the total number of NaN values in the filtered dataset\n",
    "# ( Values above 1000 are turned into NaNs )\n",
    "nan_count = filtered_reshaped_data.isna().sum().sum()\n",
    "\n",
    "nan_count"
   ]
  },
  {
   "cell_type": "code",
   "execution_count": 77,
   "id": "22bdf005-cd71-4c0c-bfd0-3d8d6579c952",
   "metadata": {},
   "outputs": [],
   "source": [
    "# Remove columns that contain any NaN values\n",
    "filtered_reshaped_data = filtered_reshaped_data.dropna(axis=1)"
   ]
  },
  {
   "cell_type": "code",
   "execution_count": 79,
   "id": "c9ae1dc1-d853-4a27-a799-4c1ad3c02525",
   "metadata": {},
   "outputs": [
    {
     "data": {
      "text/plain": [
       "(2515, 271)"
      ]
     },
     "execution_count": 79,
     "metadata": {},
     "output_type": "execute_result"
    }
   ],
   "source": [
    "filtered_reshaped_data.shape"
   ]
  },
  {
   "cell_type": "code",
   "execution_count": 81,
   "id": "056b581d-c183-4b01-9bf2-0f0dbd3655b9",
   "metadata": {},
   "outputs": [
    {
     "name": "stdout",
     "output_type": "stream",
     "text": [
      "          Ticker                          ShortName             Sector  \\\n",
      "1            ABE        Abertis Infraestructuras SA        Industrials   \n",
      "2         ABHLTD           Alliance Boots Hldgs Ltd  Consumer Services   \n",
      "3          ACAFP                     Cr Agricole SA         Financials   \n",
      "4      ACAFP-CIB  Cr Agricole Corporate and Invt Bk         Financials   \n",
      "5          ACCOR                              ACCOR  Consumer Services   \n",
      "..           ...                                ...                ...   \n",
      "312         WENL                             WENDEL         Financials   \n",
      "314       WOLKLU                 Wolters Kluwer N V  Consumer Services   \n",
      "315  WPPGRP-2005                       WPP 2005 Ltd  Consumer Services   \n",
      "316       YORPOW               Yorkshire Pwr Gp Ltd          Utilities   \n",
      "317        ZINCO                  Zurich Ins Co Ltd         Financials   \n",
      "\n",
      "     Region         Country  AverageRating  \n",
      "1    Europe           Spain              9  \n",
      "2    Europe  United Kingdom             10  \n",
      "3    Europe          France              5  \n",
      "4    Europe          France             10  \n",
      "5    Europe          France             10  \n",
      "..      ...             ...            ...  \n",
      "312  Europe          France             10  \n",
      "314  Europe     Netherlands              9  \n",
      "315  Europe  United Kingdom             17  \n",
      "316  Europe  United Kingdom             10  \n",
      "317  Europe     Switzerland              1  \n",
      "\n",
      "[270 rows x 6 columns]\n"
     ]
    }
   ],
   "source": [
    "# Extract the list of tickers from the final filtered reshaped data (excluding the 'Date' column)\n",
    "final_tickers = set(filtered_reshaped_data_no_nans.columns[1:])\n",
    "\n",
    "# Filter the metadata to include only tickers that are in the final reshaped data\n",
    "filtered_metadata_final = filtered_metadata[filtered_metadata['Ticker'].isin(final_tickers)]\n",
    "\n",
    "# Display the filtered metadata\n",
    "print(filtered_metadata_final)\n"
   ]
  },
  {
   "cell_type": "code",
   "execution_count": 83,
   "id": "e3e0e2f8-3125-4544-b222-b68ef4b96cdf",
   "metadata": {},
   "outputs": [],
   "source": [
    "# Export the final filtered metadata to a CSV file\n",
    "filtered_metadata_final.to_csv('data/new_metadata.csv', index=False)\n",
    "\n",
    "# Export the final filtered reshaped data to a CSV file\n",
    "filtered_reshaped_data_no_nans.to_csv('data/new_reshaped_data.csv', index=False)"
   ]
  },
  {
   "cell_type": "code",
   "execution_count": null,
   "id": "5e2b3da8-21f2-4fa4-ad1a-c54f25f37a81",
   "metadata": {},
   "outputs": [],
   "source": []
  }
 ],
 "metadata": {
  "kernelspec": {
   "display_name": "Python 3 (ipykernel)",
   "language": "python",
   "name": "python3"
  },
  "language_info": {
   "codemirror_mode": {
    "name": "ipython",
    "version": 3
   },
   "file_extension": ".py",
   "mimetype": "text/x-python",
   "name": "python",
   "nbconvert_exporter": "python",
   "pygments_lexer": "ipython3",
   "version": "3.12.4"
  }
 },
 "nbformat": 4,
 "nbformat_minor": 5
}
