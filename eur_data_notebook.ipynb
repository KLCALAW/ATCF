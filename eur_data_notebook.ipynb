{
 "cells": [
  {
   "cell_type": "code",
   "execution_count": 1,
   "metadata": {},
   "outputs": [],
   "source": [
    "import pandas as pd\n",
    "import numpy as np"
   ]
  },
  {
   "cell_type": "code",
   "execution_count": 2,
   "metadata": {},
   "outputs": [],
   "source": [
    "file_path = 'eur_data.xlsx'\n",
    "df = pd.read_excel(file_path)\n",
    "\n",
    "# Retain metadata columns separately\n",
    "metadata_columns = ['Ticker', 'ShortName', 'Sector', 'Region', 'Country']\n",
    "metadata = df[metadata_columns]\n",
    "metadata.to_csv('metadata.csv', index=False)\n",
    "\n",
    "df.drop(columns=metadata_columns[1:] + ['Unnamed: 0'], inplace=True)\n",
    "df.set_index('Ticker', drop=True, inplace=True)\n",
    "df = df.T\n",
    "df.index.name = \"Date\"\n",
    "df.to_csv('reshaped_data.csv')\n"
   ]
  },
  {
   "cell_type": "code",
   "execution_count": 3,
   "metadata": {},
   "outputs": [],
   "source": [
    "data = pd.read_csv('reshaped_data.csv', parse_dates=['Date'], index_col='Date')\n",
    "data = data.apply(pd.to_numeric, errors='coerce')\n",
    "\n",
    "# Calculate log returns for all columns at once\n",
    "log_returns = np.log(data).diff()\n",
    "log_returns.dropna(inplace=True)\n",
    "\n",
    "# Standardize returns in a vectorized way\n",
    "standardized_returns = (log_returns - log_returns.mean()) / log_returns.std()\n",
    "\n",
    "# Save to separate CSV files\n",
    "log_returns.to_csv('eur_data_log_returns.csv')\n",
    "standardized_returns.to_csv('eur_data_standardized_returns.csv')"
   ]
  },
  {
   "cell_type": "code",
   "execution_count": null,
   "metadata": {},
   "outputs": [],
   "source": []
  }
 ],
 "metadata": {
  "kernelspec": {
   "display_name": "Python 3",
   "language": "python",
   "name": "python3"
  },
  "language_info": {
   "codemirror_mode": {
    "name": "ipython",
    "version": 3
   },
   "file_extension": ".py",
   "mimetype": "text/x-python",
   "name": "python",
   "nbconvert_exporter": "python",
   "pygments_lexer": "ipython3",
   "version": "3.12.0"
  }
 },
 "nbformat": 4,
 "nbformat_minor": 2
}
