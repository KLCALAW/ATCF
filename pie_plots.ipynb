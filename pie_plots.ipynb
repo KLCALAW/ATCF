{
 "cells": [
  {
   "cell_type": "code",
   "execution_count": 9,
   "id": "7a8eea8a-291f-4afa-8446-794b7f9c925c",
   "metadata": {},
   "outputs": [
    {
     "data": {
      "application/vnd.plotly.v1+json": {
       "config": {
        "plotlyServerURL": "https://plot.ly"
       },
       "data": [
        {
         "domain": {
          "x": [
           0,
           0.2888888888888889
          ],
          "y": [
           0,
           1
          ]
         },
         "labels": [
          "Financials",
          "Government",
          "Utilities",
          "Telecommunications",
          "Consumer Services",
          "Basic Materials",
          "Industrials"
         ],
         "marker": {
          "colors": [
           "#AB63FA",
           "#B6E880",
           "#FFA15A",
           "#2E91E5",
           "#00CC96",
           "#636EFA",
           "#EF553B"
          ]
         },
         "showlegend": false,
         "type": "pie",
         "values": [
          26,
          6,
          3,
          3,
          1,
          1,
          1
         ]
        },
        {
         "domain": {
          "x": [
           0.35555555555555557,
           0.6444444444444445
          ],
          "y": [
           0,
           1
          ]
         },
         "labels": [
          "Consumer Goods",
          "Consumer Services",
          "Basic Materials",
          "Industrials",
          "Utilities",
          "Telecommunications",
          "Health Care",
          "Oil & Gas",
          "Technology",
          "Financials"
         ],
         "marker": {
          "colors": [
           "#19D3F3",
           "#00CC96",
           "#636EFA",
           "#EF553B",
           "#FFA15A",
           "#2E91E5",
           "#FF97FF",
           "#FECB52",
           "#FF6692",
           "#AB63FA"
          ]
         },
         "showlegend": false,
         "type": "pie",
         "values": [
          17,
          16,
          14,
          13,
          7,
          7,
          4,
          4,
          2,
          1
         ]
        },
        {
         "domain": {
          "x": [
           0.7111111111111111,
           1
          ],
          "y": [
           0,
           1
          ]
         },
         "labels": [
          "Financials",
          "Consumer Services",
          "Utilities",
          "Industrials",
          "Consumer Goods",
          "Government",
          "Basic Materials",
          "Telecommunications",
          "Technology",
          "Oil & Gas",
          "Health Care"
         ],
         "marker": {
          "colors": [
           "#AB63FA",
           "#00CC96",
           "#FFA15A",
           "#EF553B",
           "#19D3F3",
           "#B6E880",
           "#636EFA",
           "#2E91E5",
           "#FF6692",
           "#FECB52",
           "#FF97FF"
          ]
         },
         "showlegend": false,
         "type": "pie",
         "values": [
          61,
          25,
          24,
          23,
          17,
          14,
          11,
          7,
          4,
          3,
          3
         ]
        },
        {
         "marker": {
          "color": "#636EFA",
          "size": 10
         },
         "mode": "markers",
         "name": "Basic Materials",
         "type": "scatter",
         "x": [
          null
         ],
         "y": [
          null
         ]
        },
        {
         "marker": {
          "color": "#EF553B",
          "size": 10
         },
         "mode": "markers",
         "name": "Industrials",
         "type": "scatter",
         "x": [
          null
         ],
         "y": [
          null
         ]
        },
        {
         "marker": {
          "color": "#00CC96",
          "size": 10
         },
         "mode": "markers",
         "name": "Consumer Services",
         "type": "scatter",
         "x": [
          null
         ],
         "y": [
          null
         ]
        },
        {
         "marker": {
          "color": "#AB63FA",
          "size": 10
         },
         "mode": "markers",
         "name": "Financials",
         "type": "scatter",
         "x": [
          null
         ],
         "y": [
          null
         ]
        },
        {
         "marker": {
          "color": "#FFA15A",
          "size": 10
         },
         "mode": "markers",
         "name": "Utilities",
         "type": "scatter",
         "x": [
          null
         ],
         "y": [
          null
         ]
        },
        {
         "marker": {
          "color": "#19D3F3",
          "size": 10
         },
         "mode": "markers",
         "name": "Consumer Goods",
         "type": "scatter",
         "x": [
          null
         ],
         "y": [
          null
         ]
        },
        {
         "marker": {
          "color": "#FF6692",
          "size": 10
         },
         "mode": "markers",
         "name": "Technology",
         "type": "scatter",
         "x": [
          null
         ],
         "y": [
          null
         ]
        },
        {
         "marker": {
          "color": "#B6E880",
          "size": 10
         },
         "mode": "markers",
         "name": "Government",
         "type": "scatter",
         "x": [
          null
         ],
         "y": [
          null
         ]
        },
        {
         "marker": {
          "color": "#FF97FF",
          "size": 10
         },
         "mode": "markers",
         "name": "Health Care",
         "type": "scatter",
         "x": [
          null
         ],
         "y": [
          null
         ]
        },
        {
         "marker": {
          "color": "#FECB52",
          "size": 10
         },
         "mode": "markers",
         "name": "Oil & Gas",
         "type": "scatter",
         "x": [
          null
         ],
         "y": [
          null
         ]
        },
        {
         "marker": {
          "color": "#2E91E5",
          "size": 10
         },
         "mode": "markers",
         "name": "Telecommunications",
         "type": "scatter",
         "x": [
          null
         ],
         "y": [
          null
         ]
        }
       ],
       "layout": {
        "annotations": [
         {
          "font": {
           "size": 16
          },
          "showarrow": false,
          "text": "Group 1",
          "x": 0.14444444444444446,
          "xanchor": "center",
          "xref": "paper",
          "y": 1,
          "yanchor": "bottom",
          "yref": "paper"
         },
         {
          "font": {
           "size": 16
          },
          "showarrow": false,
          "text": "Group 2",
          "x": 0.5,
          "xanchor": "center",
          "xref": "paper",
          "y": 1,
          "yanchor": "bottom",
          "yref": "paper"
         },
         {
          "font": {
           "size": 16
          },
          "showarrow": false,
          "text": "Group 3",
          "x": 0.8555555555555556,
          "xanchor": "center",
          "xref": "paper",
          "y": 1,
          "yanchor": "bottom",
          "yref": "paper"
         }
        ],
        "autosize": true,
        "legend": {
         "font": {
          "size": 10
         },
         "orientation": "h",
         "title": {
          "text": "Sector"
         },
         "x": 0.5,
         "xanchor": "center",
         "y": -0.3,
         "yanchor": "bottom"
        },
        "showlegend": true,
        "template": {
         "data": {
          "bar": [
           {
            "error_x": {
             "color": "#2a3f5f"
            },
            "error_y": {
             "color": "#2a3f5f"
            },
            "marker": {
             "line": {
              "color": "#E5ECF6",
              "width": 0.5
             },
             "pattern": {
              "fillmode": "overlay",
              "size": 10,
              "solidity": 0.2
             }
            },
            "type": "bar"
           }
          ],
          "barpolar": [
           {
            "marker": {
             "line": {
              "color": "#E5ECF6",
              "width": 0.5
             },
             "pattern": {
              "fillmode": "overlay",
              "size": 10,
              "solidity": 0.2
             }
            },
            "type": "barpolar"
           }
          ],
          "carpet": [
           {
            "aaxis": {
             "endlinecolor": "#2a3f5f",
             "gridcolor": "white",
             "linecolor": "white",
             "minorgridcolor": "white",
             "startlinecolor": "#2a3f5f"
            },
            "baxis": {
             "endlinecolor": "#2a3f5f",
             "gridcolor": "white",
             "linecolor": "white",
             "minorgridcolor": "white",
             "startlinecolor": "#2a3f5f"
            },
            "type": "carpet"
           }
          ],
          "choropleth": [
           {
            "colorbar": {
             "outlinewidth": 0,
             "ticks": ""
            },
            "type": "choropleth"
           }
          ],
          "contour": [
           {
            "colorbar": {
             "outlinewidth": 0,
             "ticks": ""
            },
            "colorscale": [
             [
              0,
              "#0d0887"
             ],
             [
              0.1111111111111111,
              "#46039f"
             ],
             [
              0.2222222222222222,
              "#7201a8"
             ],
             [
              0.3333333333333333,
              "#9c179e"
             ],
             [
              0.4444444444444444,
              "#bd3786"
             ],
             [
              0.5555555555555556,
              "#d8576b"
             ],
             [
              0.6666666666666666,
              "#ed7953"
             ],
             [
              0.7777777777777778,
              "#fb9f3a"
             ],
             [
              0.8888888888888888,
              "#fdca26"
             ],
             [
              1,
              "#f0f921"
             ]
            ],
            "type": "contour"
           }
          ],
          "contourcarpet": [
           {
            "colorbar": {
             "outlinewidth": 0,
             "ticks": ""
            },
            "type": "contourcarpet"
           }
          ],
          "heatmap": [
           {
            "colorbar": {
             "outlinewidth": 0,
             "ticks": ""
            },
            "colorscale": [
             [
              0,
              "#0d0887"
             ],
             [
              0.1111111111111111,
              "#46039f"
             ],
             [
              0.2222222222222222,
              "#7201a8"
             ],
             [
              0.3333333333333333,
              "#9c179e"
             ],
             [
              0.4444444444444444,
              "#bd3786"
             ],
             [
              0.5555555555555556,
              "#d8576b"
             ],
             [
              0.6666666666666666,
              "#ed7953"
             ],
             [
              0.7777777777777778,
              "#fb9f3a"
             ],
             [
              0.8888888888888888,
              "#fdca26"
             ],
             [
              1,
              "#f0f921"
             ]
            ],
            "type": "heatmap"
           }
          ],
          "heatmapgl": [
           {
            "colorbar": {
             "outlinewidth": 0,
             "ticks": ""
            },
            "colorscale": [
             [
              0,
              "#0d0887"
             ],
             [
              0.1111111111111111,
              "#46039f"
             ],
             [
              0.2222222222222222,
              "#7201a8"
             ],
             [
              0.3333333333333333,
              "#9c179e"
             ],
             [
              0.4444444444444444,
              "#bd3786"
             ],
             [
              0.5555555555555556,
              "#d8576b"
             ],
             [
              0.6666666666666666,
              "#ed7953"
             ],
             [
              0.7777777777777778,
              "#fb9f3a"
             ],
             [
              0.8888888888888888,
              "#fdca26"
             ],
             [
              1,
              "#f0f921"
             ]
            ],
            "type": "heatmapgl"
           }
          ],
          "histogram": [
           {
            "marker": {
             "pattern": {
              "fillmode": "overlay",
              "size": 10,
              "solidity": 0.2
             }
            },
            "type": "histogram"
           }
          ],
          "histogram2d": [
           {
            "colorbar": {
             "outlinewidth": 0,
             "ticks": ""
            },
            "colorscale": [
             [
              0,
              "#0d0887"
             ],
             [
              0.1111111111111111,
              "#46039f"
             ],
             [
              0.2222222222222222,
              "#7201a8"
             ],
             [
              0.3333333333333333,
              "#9c179e"
             ],
             [
              0.4444444444444444,
              "#bd3786"
             ],
             [
              0.5555555555555556,
              "#d8576b"
             ],
             [
              0.6666666666666666,
              "#ed7953"
             ],
             [
              0.7777777777777778,
              "#fb9f3a"
             ],
             [
              0.8888888888888888,
              "#fdca26"
             ],
             [
              1,
              "#f0f921"
             ]
            ],
            "type": "histogram2d"
           }
          ],
          "histogram2dcontour": [
           {
            "colorbar": {
             "outlinewidth": 0,
             "ticks": ""
            },
            "colorscale": [
             [
              0,
              "#0d0887"
             ],
             [
              0.1111111111111111,
              "#46039f"
             ],
             [
              0.2222222222222222,
              "#7201a8"
             ],
             [
              0.3333333333333333,
              "#9c179e"
             ],
             [
              0.4444444444444444,
              "#bd3786"
             ],
             [
              0.5555555555555556,
              "#d8576b"
             ],
             [
              0.6666666666666666,
              "#ed7953"
             ],
             [
              0.7777777777777778,
              "#fb9f3a"
             ],
             [
              0.8888888888888888,
              "#fdca26"
             ],
             [
              1,
              "#f0f921"
             ]
            ],
            "type": "histogram2dcontour"
           }
          ],
          "mesh3d": [
           {
            "colorbar": {
             "outlinewidth": 0,
             "ticks": ""
            },
            "type": "mesh3d"
           }
          ],
          "parcoords": [
           {
            "line": {
             "colorbar": {
              "outlinewidth": 0,
              "ticks": ""
             }
            },
            "type": "parcoords"
           }
          ],
          "pie": [
           {
            "automargin": true,
            "type": "pie"
           }
          ],
          "scatter": [
           {
            "fillpattern": {
             "fillmode": "overlay",
             "size": 10,
             "solidity": 0.2
            },
            "type": "scatter"
           }
          ],
          "scatter3d": [
           {
            "line": {
             "colorbar": {
              "outlinewidth": 0,
              "ticks": ""
             }
            },
            "marker": {
             "colorbar": {
              "outlinewidth": 0,
              "ticks": ""
             }
            },
            "type": "scatter3d"
           }
          ],
          "scattercarpet": [
           {
            "marker": {
             "colorbar": {
              "outlinewidth": 0,
              "ticks": ""
             }
            },
            "type": "scattercarpet"
           }
          ],
          "scattergeo": [
           {
            "marker": {
             "colorbar": {
              "outlinewidth": 0,
              "ticks": ""
             }
            },
            "type": "scattergeo"
           }
          ],
          "scattergl": [
           {
            "marker": {
             "colorbar": {
              "outlinewidth": 0,
              "ticks": ""
             }
            },
            "type": "scattergl"
           }
          ],
          "scattermapbox": [
           {
            "marker": {
             "colorbar": {
              "outlinewidth": 0,
              "ticks": ""
             }
            },
            "type": "scattermapbox"
           }
          ],
          "scatterpolar": [
           {
            "marker": {
             "colorbar": {
              "outlinewidth": 0,
              "ticks": ""
             }
            },
            "type": "scatterpolar"
           }
          ],
          "scatterpolargl": [
           {
            "marker": {
             "colorbar": {
              "outlinewidth": 0,
              "ticks": ""
             }
            },
            "type": "scatterpolargl"
           }
          ],
          "scatterternary": [
           {
            "marker": {
             "colorbar": {
              "outlinewidth": 0,
              "ticks": ""
             }
            },
            "type": "scatterternary"
           }
          ],
          "surface": [
           {
            "colorbar": {
             "outlinewidth": 0,
             "ticks": ""
            },
            "colorscale": [
             [
              0,
              "#0d0887"
             ],
             [
              0.1111111111111111,
              "#46039f"
             ],
             [
              0.2222222222222222,
              "#7201a8"
             ],
             [
              0.3333333333333333,
              "#9c179e"
             ],
             [
              0.4444444444444444,
              "#bd3786"
             ],
             [
              0.5555555555555556,
              "#d8576b"
             ],
             [
              0.6666666666666666,
              "#ed7953"
             ],
             [
              0.7777777777777778,
              "#fb9f3a"
             ],
             [
              0.8888888888888888,
              "#fdca26"
             ],
             [
              1,
              "#f0f921"
             ]
            ],
            "type": "surface"
           }
          ],
          "table": [
           {
            "cells": {
             "fill": {
              "color": "#EBF0F8"
             },
             "line": {
              "color": "white"
             }
            },
            "header": {
             "fill": {
              "color": "#C8D4E3"
             },
             "line": {
              "color": "white"
             }
            },
            "type": "table"
           }
          ]
         },
         "layout": {
          "annotationdefaults": {
           "arrowcolor": "#2a3f5f",
           "arrowhead": 0,
           "arrowwidth": 1
          },
          "autotypenumbers": "strict",
          "coloraxis": {
           "colorbar": {
            "outlinewidth": 0,
            "ticks": ""
           }
          },
          "colorscale": {
           "diverging": [
            [
             0,
             "#8e0152"
            ],
            [
             0.1,
             "#c51b7d"
            ],
            [
             0.2,
             "#de77ae"
            ],
            [
             0.3,
             "#f1b6da"
            ],
            [
             0.4,
             "#fde0ef"
            ],
            [
             0.5,
             "#f7f7f7"
            ],
            [
             0.6,
             "#e6f5d0"
            ],
            [
             0.7,
             "#b8e186"
            ],
            [
             0.8,
             "#7fbc41"
            ],
            [
             0.9,
             "#4d9221"
            ],
            [
             1,
             "#276419"
            ]
           ],
           "sequential": [
            [
             0,
             "#0d0887"
            ],
            [
             0.1111111111111111,
             "#46039f"
            ],
            [
             0.2222222222222222,
             "#7201a8"
            ],
            [
             0.3333333333333333,
             "#9c179e"
            ],
            [
             0.4444444444444444,
             "#bd3786"
            ],
            [
             0.5555555555555556,
             "#d8576b"
            ],
            [
             0.6666666666666666,
             "#ed7953"
            ],
            [
             0.7777777777777778,
             "#fb9f3a"
            ],
            [
             0.8888888888888888,
             "#fdca26"
            ],
            [
             1,
             "#f0f921"
            ]
           ],
           "sequentialminus": [
            [
             0,
             "#0d0887"
            ],
            [
             0.1111111111111111,
             "#46039f"
            ],
            [
             0.2222222222222222,
             "#7201a8"
            ],
            [
             0.3333333333333333,
             "#9c179e"
            ],
            [
             0.4444444444444444,
             "#bd3786"
            ],
            [
             0.5555555555555556,
             "#d8576b"
            ],
            [
             0.6666666666666666,
             "#ed7953"
            ],
            [
             0.7777777777777778,
             "#fb9f3a"
            ],
            [
             0.8888888888888888,
             "#fdca26"
            ],
            [
             1,
             "#f0f921"
            ]
           ]
          },
          "colorway": [
           "#636efa",
           "#EF553B",
           "#00cc96",
           "#ab63fa",
           "#FFA15A",
           "#19d3f3",
           "#FF6692",
           "#B6E880",
           "#FF97FF",
           "#FECB52"
          ],
          "font": {
           "color": "#2a3f5f"
          },
          "geo": {
           "bgcolor": "white",
           "lakecolor": "white",
           "landcolor": "#E5ECF6",
           "showlakes": true,
           "showland": true,
           "subunitcolor": "white"
          },
          "hoverlabel": {
           "align": "left"
          },
          "hovermode": "closest",
          "mapbox": {
           "style": "light"
          },
          "paper_bgcolor": "white",
          "plot_bgcolor": "#E5ECF6",
          "polar": {
           "angularaxis": {
            "gridcolor": "white",
            "linecolor": "white",
            "ticks": ""
           },
           "bgcolor": "#E5ECF6",
           "radialaxis": {
            "gridcolor": "white",
            "linecolor": "white",
            "ticks": ""
           }
          },
          "scene": {
           "xaxis": {
            "backgroundcolor": "#E5ECF6",
            "gridcolor": "white",
            "gridwidth": 2,
            "linecolor": "white",
            "showbackground": true,
            "ticks": "",
            "zerolinecolor": "white"
           },
           "yaxis": {
            "backgroundcolor": "#E5ECF6",
            "gridcolor": "white",
            "gridwidth": 2,
            "linecolor": "white",
            "showbackground": true,
            "ticks": "",
            "zerolinecolor": "white"
           },
           "zaxis": {
            "backgroundcolor": "#E5ECF6",
            "gridcolor": "white",
            "gridwidth": 2,
            "linecolor": "white",
            "showbackground": true,
            "ticks": "",
            "zerolinecolor": "white"
           }
          },
          "shapedefaults": {
           "line": {
            "color": "#2a3f5f"
           }
          },
          "ternary": {
           "aaxis": {
            "gridcolor": "white",
            "linecolor": "white",
            "ticks": ""
           },
           "baxis": {
            "gridcolor": "white",
            "linecolor": "white",
            "ticks": ""
           },
           "bgcolor": "#E5ECF6",
           "caxis": {
            "gridcolor": "white",
            "linecolor": "white",
            "ticks": ""
           }
          },
          "title": {
           "x": 0.05
          },
          "xaxis": {
           "automargin": true,
           "gridcolor": "white",
           "linecolor": "white",
           "ticks": "",
           "title": {
            "standoff": 15
           },
           "zerolinecolor": "white",
           "zerolinewidth": 2
          },
          "yaxis": {
           "automargin": true,
           "gridcolor": "white",
           "linecolor": "white",
           "ticks": "",
           "title": {
            "standoff": 15
           },
           "zerolinecolor": "white",
           "zerolinewidth": 2
          }
         }
        },
        "title": {
         "text": "Sector Distribution for Groups"
        },
        "xaxis": {
         "autorange": true,
         "range": [
          -1,
          6
         ]
        },
        "yaxis": {
         "autorange": true,
         "range": [
          -1,
          4
         ]
        }
       }
      },
      "image/png": "[encoded data removed]",
      "text/html": [
       "<div>                            <div id=\"51bdb964-8239-4a22-90b9-a97da2635fb7\" class=\"plotly-graph-div\" style=\"height:525px; width:100%;\"></div>            <script type=\"text/javascript\">                require([\"plotly\"], function(Plotly) {                    window.PLOTLYENV=window.PLOTLYENV || {};                                    if (document.getElementById(\"51bdb964-8239-4a22-90b9-a97da2635fb7\")) {                    Plotly.newPlot(                        \"51bdb964-8239-4a22-90b9-a97da2635fb7\",                        [{\"labels\":[\"Financials\",\"Government\",\"Utilities\",\"Telecommunications\",\"Consumer Services\",\"Basic Materials\",\"Industrials\"],\"marker\":{\"colors\":[\"#AB63FA\",\"#B6E880\",\"#FFA15A\",\"#2E91E5\",\"#00CC96\",\"#636EFA\",\"#EF553B\"]},\"showlegend\":false,\"values\":[26,6,3,3,1,1,1],\"type\":\"pie\",\"domain\":{\"x\":[0.0,0.2888888888888889],\"y\":[0.0,1.0]}},{\"labels\":[\"Consumer Goods\",\"Consumer Services\",\"Basic Materials\",\"Industrials\",\"Utilities\",\"Telecommunications\",\"Health Care\",\"Oil & Gas\",\"Technology\",\"Financials\"],\"marker\":{\"colors\":[\"#19D3F3\",\"#00CC96\",\"#636EFA\",\"#EF553B\",\"#FFA15A\",\"#2E91E5\",\"#FF97FF\",\"#FECB52\",\"#FF6692\",\"#AB63FA\"]},\"showlegend\":false,\"values\":[17,16,14,13,7,7,4,4,2,1],\"type\":\"pie\",\"domain\":{\"x\":[0.35555555555555557,0.6444444444444445],\"y\":[0.0,1.0]}},{\"labels\":[\"Financials\",\"Consumer Services\",\"Utilities\",\"Industrials\",\"Consumer Goods\",\"Government\",\"Basic Materials\",\"Telecommunications\",\"Technology\",\"Oil & Gas\",\"Health Care\"],\"marker\":{\"colors\":[\"#AB63FA\",\"#00CC96\",\"#FFA15A\",\"#EF553B\",\"#19D3F3\",\"#B6E880\",\"#636EFA\",\"#2E91E5\",\"#FF6692\",\"#FECB52\",\"#FF97FF\"]},\"showlegend\":false,\"values\":[61,25,24,23,17,14,11,7,4,3,3],\"type\":\"pie\",\"domain\":{\"x\":[0.7111111111111111,1.0],\"y\":[0.0,1.0]}},{\"marker\":{\"color\":\"#636EFA\",\"size\":10},\"mode\":\"markers\",\"name\":\"Basic Materials\",\"x\":[null],\"y\":[null],\"type\":\"scatter\"},{\"marker\":{\"color\":\"#EF553B\",\"size\":10},\"mode\":\"markers\",\"name\":\"Industrials\",\"x\":[null],\"y\":[null],\"type\":\"scatter\"},{\"marker\":{\"color\":\"#00CC96\",\"size\":10},\"mode\":\"markers\",\"name\":\"Consumer Services\",\"x\":[null],\"y\":[null],\"type\":\"scatter\"},{\"marker\":{\"color\":\"#AB63FA\",\"size\":10},\"mode\":\"markers\",\"name\":\"Financials\",\"x\":[null],\"y\":[null],\"type\":\"scatter\"},{\"marker\":{\"color\":\"#FFA15A\",\"size\":10},\"mode\":\"markers\",\"name\":\"Utilities\",\"x\":[null],\"y\":[null],\"type\":\"scatter\"},{\"marker\":{\"color\":\"#19D3F3\",\"size\":10},\"mode\":\"markers\",\"name\":\"Consumer Goods\",\"x\":[null],\"y\":[null],\"type\":\"scatter\"},{\"marker\":{\"color\":\"#FF6692\",\"size\":10},\"mode\":\"markers\",\"name\":\"Technology\",\"x\":[null],\"y\":[null],\"type\":\"scatter\"},{\"marker\":{\"color\":\"#B6E880\",\"size\":10},\"mode\":\"markers\",\"name\":\"Government\",\"x\":[null],\"y\":[null],\"type\":\"scatter\"},{\"marker\":{\"color\":\"#FF97FF\",\"size\":10},\"mode\":\"markers\",\"name\":\"Health Care\",\"x\":[null],\"y\":[null],\"type\":\"scatter\"},{\"marker\":{\"color\":\"#FECB52\",\"size\":10},\"mode\":\"markers\",\"name\":\"Oil & Gas\",\"x\":[null],\"y\":[null],\"type\":\"scatter\"},{\"marker\":{\"color\":\"#2E91E5\",\"size\":10},\"mode\":\"markers\",\"name\":\"Telecommunications\",\"x\":[null],\"y\":[null],\"type\":\"scatter\"}],                        {\"template\":{\"data\":{\"histogram2dcontour\":[{\"type\":\"histogram2dcontour\",\"colorbar\":{\"outlinewidth\":0,\"ticks\":\"\"},\"colorscale\":[[0.0,\"#0d0887\"],[0.1111111111111111,\"#46039f\"],[0.2222222222222222,\"#7201a8\"],[0.3333333333333333,\"#9c179e\"],[0.4444444444444444,\"#bd3786\"],[0.5555555555555556,\"#d8576b\"],[0.6666666666666666,\"#ed7953\"],[0.7777777777777778,\"#fb9f3a\"],[0.8888888888888888,\"#fdca26\"],[1.0,\"#f0f921\"]]}],\"choropleth\":[{\"type\":\"choropleth\",\"colorbar\":{\"outlinewidth\":0,\"ticks\":\"\"}}],\"histogram2d\":[{\"type\":\"histogram2d\",\"colorbar\":{\"outlinewidth\":0,\"ticks\":\"\"},\"colorscale\":[[0.0,\"#0d0887\"],[0.1111111111111111,\"#46039f\"],[0.2222222222222222,\"#7201a8\"],[0.3333333333333333,\"#9c179e\"],[0.4444444444444444,\"#bd3786\"],[0.5555555555555556,\"#d8576b\"],[0.6666666666666666,\"#ed7953\"],[0.7777777777777778,\"#fb9f3a\"],[0.8888888888888888,\"#fdca26\"],[1.0,\"#f0f921\"]]}],\"heatmap\":[{\"type\":\"heatmap\",\"colorbar\":{\"outlinewidth\":0,\"ticks\":\"\"},\"colorscale\":[[0.0,\"#0d0887\"],[0.1111111111111111,\"#46039f\"],[0.2222222222222222,\"#7201a8\"],[0.3333333333333333,\"#9c179e\"],[0.4444444444444444,\"#bd3786\"],[0.5555555555555556,\"#d8576b\"],[0.6666666666666666,\"#ed7953\"],[0.7777777777777778,\"#fb9f3a\"],[0.8888888888888888,\"#fdca26\"],[1.0,\"#f0f921\"]]}],\"heatmapgl\":[{\"type\":\"heatmapgl\",\"colorbar\":{\"outlinewidth\":0,\"ticks\":\"\"},\"colorscale\":[[0.0,\"#0d0887\"],[0.1111111111111111,\"#46039f\"],[0.2222222222222222,\"#7201a8\"],[0.3333333333333333,\"#9c179e\"],[0.4444444444444444,\"#bd3786\"],[0.5555555555555556,\"#d8576b\"],[0.6666666666666666,\"#ed7953\"],[0.7777777777777778,\"#fb9f3a\"],[0.8888888888888888,\"#fdca26\"],[1.0,\"#f0f921\"]]}],\"contourcarpet\":[{\"type\":\"contourcarpet\",\"colorbar\":{\"outlinewidth\":0,\"ticks\":\"\"}}],\"contour\":[{\"type\":\"contour\",\"colorbar\":{\"outlinewidth\":0,\"ticks\":\"\"},\"colorscale\":[[0.0,\"#0d0887\"],[0.1111111111111111,\"#46039f\"],[0.2222222222222222,\"#7201a8\"],[0.3333333333333333,\"#9c179e\"],[0.4444444444444444,\"#bd3786\"],[0.5555555555555556,\"#d8576b\"],[0.6666666666666666,\"#ed7953\"],[0.7777777777777778,\"#fb9f3a\"],[0.8888888888888888,\"#fdca26\"],[1.0,\"#f0f921\"]]}],\"surface\":[{\"type\":\"surface\",\"colorbar\":{\"outlinewidth\":0,\"ticks\":\"\"},\"colorscale\":[[0.0,\"#0d0887\"],[0.1111111111111111,\"#46039f\"],[0.2222222222222222,\"#7201a8\"],[0.3333333333333333,\"#9c179e\"],[0.4444444444444444,\"#bd3786\"],[0.5555555555555556,\"#d8576b\"],[0.6666666666666666,\"#ed7953\"],[0.7777777777777778,\"#fb9f3a\"],[0.8888888888888888,\"#fdca26\"],[1.0,\"#f0f921\"]]}],\"mesh3d\":[{\"type\":\"mesh3d\",\"colorbar\":{\"outlinewidth\":0,\"ticks\":\"\"}}],\"scatter\":[{\"fillpattern\":{\"fillmode\":\"overlay\",\"size\":10,\"solidity\":0.2},\"type\":\"scatter\"}],\"parcoords\":[{\"type\":\"parcoords\",\"line\":{\"colorbar\":{\"outlinewidth\":0,\"ticks\":\"\"}}}],\"scatterpolargl\":[{\"type\":\"scatterpolargl\",\"marker\":{\"colorbar\":{\"outlinewidth\":0,\"ticks\":\"\"}}}],\"bar\":[{\"error_x\":{\"color\":\"#2a3f5f\"},\"error_y\":{\"color\":\"#2a3f5f\"},\"marker\":{\"line\":{\"color\":\"#E5ECF6\",\"width\":0.5},\"pattern\":{\"fillmode\":\"overlay\",\"size\":10,\"solidity\":0.2}},\"type\":\"bar\"}],\"scattergeo\":[{\"type\":\"scattergeo\",\"marker\":{\"colorbar\":{\"outlinewidth\":0,\"ticks\":\"\"}}}],\"scatterpolar\":[{\"type\":\"scatterpolar\",\"marker\":{\"colorbar\":{\"outlinewidth\":0,\"ticks\":\"\"}}}],\"histogram\":[{\"marker\":{\"pattern\":{\"fillmode\":\"overlay\",\"size\":10,\"solidity\":0.2}},\"type\":\"histogram\"}],\"scattergl\":[{\"type\":\"scattergl\",\"marker\":{\"colorbar\":{\"outlinewidth\":0,\"ticks\":\"\"}}}],\"scatter3d\":[{\"type\":\"scatter3d\",\"line\":{\"colorbar\":{\"outlinewidth\":0,\"ticks\":\"\"}},\"marker\":{\"colorbar\":{\"outlinewidth\":0,\"ticks\":\"\"}}}],\"scattermapbox\":[{\"type\":\"scattermapbox\",\"marker\":{\"colorbar\":{\"outlinewidth\":0,\"ticks\":\"\"}}}],\"scatterternary\":[{\"type\":\"scatterternary\",\"marker\":{\"colorbar\":{\"outlinewidth\":0,\"ticks\":\"\"}}}],\"scattercarpet\":[{\"type\":\"scattercarpet\",\"marker\":{\"colorbar\":{\"outlinewidth\":0,\"ticks\":\"\"}}}],\"carpet\":[{\"aaxis\":{\"endlinecolor\":\"#2a3f5f\",\"gridcolor\":\"white\",\"linecolor\":\"white\",\"minorgridcolor\":\"white\",\"startlinecolor\":\"#2a3f5f\"},\"baxis\":{\"endlinecolor\":\"#2a3f5f\",\"gridcolor\":\"white\",\"linecolor\":\"white\",\"minorgridcolor\":\"white\",\"startlinecolor\":\"#2a3f5f\"},\"type\":\"carpet\"}],\"table\":[{\"cells\":{\"fill\":{\"color\":\"#EBF0F8\"},\"line\":{\"color\":\"white\"}},\"header\":{\"fill\":{\"color\":\"#C8D4E3\"},\"line\":{\"color\":\"white\"}},\"type\":\"table\"}],\"barpolar\":[{\"marker\":{\"line\":{\"color\":\"#E5ECF6\",\"width\":0.5},\"pattern\":{\"fillmode\":\"overlay\",\"size\":10,\"solidity\":0.2}},\"type\":\"barpolar\"}],\"pie\":[{\"automargin\":true,\"type\":\"pie\"}]},\"layout\":{\"autotypenumbers\":\"strict\",\"colorway\":[\"#636efa\",\"#EF553B\",\"#00cc96\",\"#ab63fa\",\"#FFA15A\",\"#19d3f3\",\"#FF6692\",\"#B6E880\",\"#FF97FF\",\"#FECB52\"],\"font\":{\"color\":\"#2a3f5f\"},\"hovermode\":\"closest\",\"hoverlabel\":{\"align\":\"left\"},\"paper_bgcolor\":\"white\",\"plot_bgcolor\":\"#E5ECF6\",\"polar\":{\"bgcolor\":\"#E5ECF6\",\"angularaxis\":{\"gridcolor\":\"white\",\"linecolor\":\"white\",\"ticks\":\"\"},\"radialaxis\":{\"gridcolor\":\"white\",\"linecolor\":\"white\",\"ticks\":\"\"}},\"ternary\":{\"bgcolor\":\"#E5ECF6\",\"aaxis\":{\"gridcolor\":\"white\",\"linecolor\":\"white\",\"ticks\":\"\"},\"baxis\":{\"gridcolor\":\"white\",\"linecolor\":\"white\",\"ticks\":\"\"},\"caxis\":{\"gridcolor\":\"white\",\"linecolor\":\"white\",\"ticks\":\"\"}},\"coloraxis\":{\"colorbar\":{\"outlinewidth\":0,\"ticks\":\"\"}},\"colorscale\":{\"sequential\":[[0.0,\"#0d0887\"],[0.1111111111111111,\"#46039f\"],[0.2222222222222222,\"#7201a8\"],[0.3333333333333333,\"#9c179e\"],[0.4444444444444444,\"#bd3786\"],[0.5555555555555556,\"#d8576b\"],[0.6666666666666666,\"#ed7953\"],[0.7777777777777778,\"#fb9f3a\"],[0.8888888888888888,\"#fdca26\"],[1.0,\"#f0f921\"]],\"sequentialminus\":[[0.0,\"#0d0887\"],[0.1111111111111111,\"#46039f\"],[0.2222222222222222,\"#7201a8\"],[0.3333333333333333,\"#9c179e\"],[0.4444444444444444,\"#bd3786\"],[0.5555555555555556,\"#d8576b\"],[0.6666666666666666,\"#ed7953\"],[0.7777777777777778,\"#fb9f3a\"],[0.8888888888888888,\"#fdca26\"],[1.0,\"#f0f921\"]],\"diverging\":[[0,\"#8e0152\"],[0.1,\"#c51b7d\"],[0.2,\"#de77ae\"],[0.3,\"#f1b6da\"],[0.4,\"#fde0ef\"],[0.5,\"#f7f7f7\"],[0.6,\"#e6f5d0\"],[0.7,\"#b8e186\"],[0.8,\"#7fbc41\"],[0.9,\"#4d9221\"],[1,\"#276419\"]]},\"xaxis\":{\"gridcolor\":\"white\",\"linecolor\":\"white\",\"ticks\":\"\",\"title\":{\"standoff\":15},\"zerolinecolor\":\"white\",\"automargin\":true,\"zerolinewidth\":2},\"yaxis\":{\"gridcolor\":\"white\",\"linecolor\":\"white\",\"ticks\":\"\",\"title\":{\"standoff\":15},\"zerolinecolor\":\"white\",\"automargin\":true,\"zerolinewidth\":2},\"scene\":{\"xaxis\":{\"backgroundcolor\":\"#E5ECF6\",\"gridcolor\":\"white\",\"linecolor\":\"white\",\"showbackground\":true,\"ticks\":\"\",\"zerolinecolor\":\"white\",\"gridwidth\":2},\"yaxis\":{\"backgroundcolor\":\"#E5ECF6\",\"gridcolor\":\"white\",\"linecolor\":\"white\",\"showbackground\":true,\"ticks\":\"\",\"zerolinecolor\":\"white\",\"gridwidth\":2},\"zaxis\":{\"backgroundcolor\":\"#E5ECF6\",\"gridcolor\":\"white\",\"linecolor\":\"white\",\"showbackground\":true,\"ticks\":\"\",\"zerolinecolor\":\"white\",\"gridwidth\":2}},\"shapedefaults\":{\"line\":{\"color\":\"#2a3f5f\"}},\"annotationdefaults\":{\"arrowcolor\":\"#2a3f5f\",\"arrowhead\":0,\"arrowwidth\":1},\"geo\":{\"bgcolor\":\"white\",\"landcolor\":\"#E5ECF6\",\"subunitcolor\":\"white\",\"showland\":true,\"showlakes\":true,\"lakecolor\":\"white\"},\"title\":{\"x\":0.05},\"mapbox\":{\"style\":\"light\"}}},\"annotations\":[{\"font\":{\"size\":16},\"showarrow\":false,\"text\":\"Group 1\",\"x\":0.14444444444444446,\"xanchor\":\"center\",\"xref\":\"paper\",\"y\":1.0,\"yanchor\":\"bottom\",\"yref\":\"paper\"},{\"font\":{\"size\":16},\"showarrow\":false,\"text\":\"Group 2\",\"x\":0.5,\"xanchor\":\"center\",\"xref\":\"paper\",\"y\":1.0,\"yanchor\":\"bottom\",\"yref\":\"paper\"},{\"font\":{\"size\":16},\"showarrow\":false,\"text\":\"Group 3\",\"x\":0.8555555555555556,\"xanchor\":\"center\",\"xref\":\"paper\",\"y\":1.0,\"yanchor\":\"bottom\",\"yref\":\"paper\"}],\"title\":{\"text\":\"Sector Distribution for Groups\"},\"legend\":{\"font\":{\"size\":10},\"title\":{\"text\":\"Sector\"},\"orientation\":\"h\",\"yanchor\":\"bottom\",\"y\":-0.3,\"xanchor\":\"center\",\"x\":0.5},\"showlegend\":true},                        {\"responsive\": true}                    ).then(function(){\n",
       "                            \n",
       "var gd = document.getElementById('51bdb964-8239-4a22-90b9-a97da2635fb7');\n",
       "var x = new MutationObserver(function (mutations, observer) {{\n",
       "        var display = window.getComputedStyle(gd).display;\n",
       "        if (!display || display === 'none') {{\n",
       "            console.log([gd, 'removed!']);\n",
       "            Plotly.purge(gd);\n",
       "            observer.disconnect();\n",
       "        }}\n",
       "}});\n",
       "\n",
       "// Listen for the removal of the full notebook cells\n",
       "var notebookContainer = gd.closest('#notebook-container');\n",
       "if (notebookContainer) {{\n",
       "    x.observe(notebookContainer, {childList: true});\n",
       "}}\n",
       "\n",
       "// Listen for the clearing of the current output cell\n",
       "var outputEl = gd.closest('.output');\n",
       "if (outputEl) {{\n",
       "    x.observe(outputEl, {childList: true});\n",
       "}}\n",
       "\n",
       "                        })                };                });            </script>        </div>"
      ]
     },
     "metadata": {},
     "output_type": "display_data"
    }
   ],
   "source": [
    "import pandas as pd\n",
    "import numpy as np\n",
    "import os\n",
    "import plotly.graph_objects as go\n",
    "from plotly.subplots import make_subplots\n",
    "import seaborn as sns\n",
    "import matplotlib.pyplot as plt\n",
    "import plotly.colors as pc\n",
    "from modified_spectral_method import recursive_spectral_method, create_correlation_matrix, calculate_C_g\n",
    "from modified_louvain_method import *\n",
    "from itertools import product\n",
    "from collections import Counter\n",
    "\n",
    "# Function to plot pie charts by user-selected criteria (sector, region, or country) using Plotly\n",
    "def plot_group_distribution(groups, df, criteria='Sector'):\n",
    "    \n",
    "    unique_sectors = df['Sector'].unique()\n",
    "    unique_regions = df['Region'].unique()\n",
    "    unique_countries = df['Country'].unique()\n",
    "\n",
    "    # Define a more distinguishable color palette\n",
    "    color_palette = pc.qualitative.Plotly + pc.qualitative.Dark24 + pc.qualitative.Light24\n",
    "    sector_colors = dict(zip(unique_sectors, color_palette[:len(unique_sectors)]))\n",
    "    region_colors = dict(zip(unique_regions, color_palette[:len(unique_regions)]))\n",
    "    country_colors = dict(zip(unique_countries, color_palette[:len(unique_countries)]))\n",
    "\n",
    "    if criteria not in ['Sector', 'Region', 'Country']:\n",
    "        raise ValueError(\"Invalid criteria! Use 'Sector', 'Region', or 'Country'.\")\n",
    "\n",
    "    color_dict_sector = {'Sector': sector_colors, 'Region': region_colors, 'Country': country_colors}\n",
    "    color_dict = color_dict_sector[criteria]\n",
    "    \n",
    "    # Setting up the subplot grid\n",
    "    num_groups = len(groups)\n",
    "    ncols = 3  # Maximum of 3 columns\n",
    "    nrows = (num_groups + ncols - 1) // ncols  # Calculate required rows based on number of groups\n",
    "    fig = make_subplots(rows=nrows, cols=ncols, subplot_titles=[f'Group {i+1}' for i in range(num_groups)], specs=[[{'type': 'domain'}]*ncols]*nrows)\n",
    "    \n",
    "    # Add each group's pie chart to the subplots\n",
    "    for idx, tickers in enumerate(groups):\n",
    "        row = idx // ncols + 1\n",
    "        col = idx % ncols + 1\n",
    "\n",
    "        # Filter data for the current group\n",
    "        group_data = df[df['Ticker'].isin(tickers)]\n",
    "\n",
    "        # Count the occurrences of each sector, region, or country\n",
    "        counts = group_data[criteria].value_counts()\n",
    "        \n",
    "        # Prepare colors for the pie chart\n",
    "        colors = [color_dict[key] for key in counts.index]\n",
    "\n",
    "        # Add the pie chart to the subplot\n",
    "        fig.add_trace(go.Pie(labels=counts.index, values=counts, marker=dict(colors=colors), showlegend=False), row=row, col=col)\n",
    "\n",
    "    # Create a legend manually at the bottom of the figure\n",
    "    fig.update_layout(\n",
    "        title_text=f\"{criteria} Distribution for Groups\",\n",
    "        showlegend=True,\n",
    "        legend=dict(\n",
    "            title=criteria,\n",
    "            orientation=\"h\",\n",
    "            yanchor=\"bottom\",\n",
    "            y=-0.3,  # Adjust to move legend up or down\n",
    "            xanchor=\"center\",\n",
    "            x=0.5,\n",
    "            font=dict(size=10)\n",
    "        )\n",
    "    )\n",
    "\n",
    "    # Add dummy traces to populate the shared legend with colors\n",
    "    for label, color in color_dict.items():\n",
    "        fig.add_trace(go.Scatter(x=[None], y=[None], mode='markers', marker=dict(size=10, color=color), name=label))\n",
    "\n",
    "    fig.show()\n",
    "\n",
    "\n",
    "if __name__ == '__main__':\n",
    "    df = pd.read_csv('metadata.csv')\n",
    "    correlation_matrix, T, N, company_names = create_correlation_matrix('eur_data_standardized_returns.csv')  \n",
    "    C_g = calculate_C_g(correlation_matrix, T, N)\n",
    "    result_communities, company_communities, modularities = recursive_spectral_method(C_g, correlation_matrix, company_names, min_size=2, modularity_threshold=0.00001)\n",
    "\n",
    "    plot_group_distribution(company_communities, df, criteria='Sector')"
   ]
  },
  {
   "cell_type": "code",
   "execution_count": 21,
   "id": "285d3a04-26db-4d3f-973c-60a09aba84d0",
   "metadata": {},
   "outputs": [
    {
     "name": "stdout",
     "output_type": "stream",
     "text": [
      "Plot saved to plots\\group_distribution_with_legend.png\n"
     ]
    },
    {
     "data": {
      "image/png": "[encoded data removed]",
      "text/plain": [
       "<Figure size 1500x500 with 3 Axes>"
      ]
     },
     "metadata": {},
     "output_type": "display_data"
    }
   ],
   "source": [
    "import matplotlib.pyplot as plt\n",
    "import matplotlib.colors as mcolors\n",
    "import pandas as pd\n",
    "import os\n",
    "from itertools import cycle\n",
    "\n",
    "def plot_group_distribution_with_legend(groups, df, criteria='Sector', save_path='plots', save_name='group_distribution_with_legend.png'):\n",
    "    # Ensure save directory exists\n",
    "    os.makedirs(save_path, exist_ok=True)\n",
    "\n",
    "    unique_sectors = df['Sector'].unique()\n",
    "    unique_regions = df['Region'].unique()\n",
    "    unique_countries = df['Country'].unique()\n",
    "\n",
    "    # Define a distinguishable color palette\n",
    "    color_palette = list(mcolors.TABLEAU_COLORS.values()) + list(mcolors.CSS4_COLORS.values())\n",
    "    sector_colors = dict(zip(unique_sectors, cycle(color_palette)))\n",
    "    region_colors = dict(zip(unique_regions, cycle(color_palette)))\n",
    "    country_colors = dict(zip(unique_countries, cycle(color_palette)))\n",
    "\n",
    "    if criteria not in ['Sector', 'Region', 'Country']:\n",
    "        raise ValueError(\"Invalid criteria! Use 'Sector', 'Region', or 'Country'.\")\n",
    "\n",
    "    color_dict_sector = {'Sector': sector_colors, 'Region': region_colors, 'Country': country_colors}\n",
    "    color_dict = color_dict_sector[criteria]\n",
    "\n",
    "    # Setting up the subplot grid\n",
    "    num_groups = len(groups)\n",
    "    ncols = 3  # Maximum of 3 columns\n",
    "    nrows = (num_groups + ncols - 1) // ncols  # Calculate required rows based on number of groups\n",
    "    fig, axes = plt.subplots(nrows=nrows, ncols=ncols, figsize=(15, nrows * 5), facecolor='black')\n",
    "    axes = axes.flatten()\n",
    "\n",
    "    # Create a dictionary to track the legend elements\n",
    "    legend_handles = []\n",
    "\n",
    "    for idx, tickers in enumerate(groups):\n",
    "        # Filter data for the current group\n",
    "        group_data = df[df['Ticker'].isin(tickers)]\n",
    "\n",
    "        # Count the occurrences of each sector, region, or country\n",
    "        counts = group_data[criteria].value_counts()\n",
    "\n",
    "        # Prepare colors for the pie chart\n",
    "        colors = [color_dict[key] for key in counts.index]\n",
    "\n",
    "        # Create pie chart with percentages\n",
    "        wedges, texts, autotexts = axes[idx].pie(\n",
    "            counts,\n",
    "            colors=colors,\n",
    "            autopct='%1.1f%%',  # Display percentages\n",
    "            textprops={'color': 'white'}  # White text for readability\n",
    "        )\n",
    "\n",
    "        # Set title for the subplot\n",
    "        axes[idx].set_title(f'Community {idx + 1}', color='white')\n",
    "\n",
    "        # Add each wedge to the legend handles if not already included\n",
    "        for label, wedge in zip(counts.index, wedges):\n",
    "            if label not in [h.get_label() for h in legend_handles]:\n",
    "                legend_handles.append(plt.Line2D([0], [0], color=wedge.get_facecolor(), lw=4, label=label))\n",
    "\n",
    "\n",
    "    # Hide unused subplots\n",
    "    for ax in axes[num_groups:]:\n",
    "        ax.axis('off')\n",
    "\n",
    "    # Add a centralized legend\n",
    "    fig.legend(handles=legend_handles, loc='lower center', bbox_to_anchor=(0.5, -0.05), ncol=5, fontsize=10, frameon=False, title=criteria, title_fontsize=12, labelcolor=\"white\")\n",
    "\n",
    "    # Set a global title\n",
    "    fig.suptitle(f'{criteria} Distribution for Communities in the CDS data', color='white', fontsize=16)\n",
    "\n",
    "    # Save the plot\n",
    "    file_path = os.path.join(save_path, save_name)\n",
    "    plt.savefig(file_path, facecolor=fig.get_facecolor(), bbox_inches='tight')\n",
    "    print(f\"Plot saved to {file_path}\")\n",
    "\n",
    "    plt.show()\n",
    "\n",
    "\n",
    "if __name__ == '__main__':\n",
    "    df = pd.read_csv('metadata.csv')\n",
    "    correlation_matrix, T, N, company_names = create_correlation_matrix('eur_data_standardized_returns.csv')  \n",
    "    C_g = calculate_C_g(correlation_matrix, T, N)\n",
    "    result_communities, company_communities, modularities = recursive_spectral_method(C_g, correlation_matrix, company_names, min_size=2, modularity_threshold=0.00001)\n",
    "\n",
    "    # Use Matplotlib-based function with legend\n",
    "    plot_group_distribution_with_legend(company_communities, df, criteria='Sector')\n"
   ]
  },
  {
   "cell_type": "code",
   "execution_count": 3,
   "id": "b5c12893-d7c2-44ee-aa3d-0d887d570efa",
   "metadata": {},
   "outputs": [
    {
     "ename": "NameError",
     "evalue": "name 'results_FTSE' is not defined",
     "output_type": "error",
     "traceback": [
      "\u001b[1;31m---------------------------------------------------------------------------\u001b[0m",
      "\u001b[1;31mNameError\u001b[0m                                 Traceback (most recent call last)",
      "Cell \u001b[1;32mIn[3], line 15\u001b[0m\n\u001b[0;32m     11\u001b[0m methods \u001b[38;5;241m=\u001b[39m [\u001b[38;5;124m'\u001b[39m\u001b[38;5;124mLouvain Method\u001b[39m\u001b[38;5;124m'\u001b[39m, \u001b[38;5;124m'\u001b[39m\u001b[38;5;124mSpectral Method\u001b[39m\u001b[38;5;124m'\u001b[39m]\n\u001b[0;32m     13\u001b[0m \u001b[38;5;66;03m# Extract modularity and number of communities for each dataset and method\u001b[39;00m\n\u001b[0;32m     14\u001b[0m modularity_scores \u001b[38;5;241m=\u001b[39m [\n\u001b[1;32m---> 15\u001b[0m     results_FTSE[\u001b[38;5;124m'\u001b[39m\u001b[38;5;124mModified Louvain\u001b[39m\u001b[38;5;124m'\u001b[39m][\u001b[38;5;124m'\u001b[39m\u001b[38;5;124mModularity\u001b[39m\u001b[38;5;124m'\u001b[39m],\n\u001b[0;32m     16\u001b[0m     results_FTSE[\u001b[38;5;124m'\u001b[39m\u001b[38;5;124mRecursive Spectral\u001b[39m\u001b[38;5;124m'\u001b[39m][\u001b[38;5;124m'\u001b[39m\u001b[38;5;124mModularity\u001b[39m\u001b[38;5;124m'\u001b[39m],\n\u001b[0;32m     17\u001b[0m     results[\u001b[38;5;124m'\u001b[39m\u001b[38;5;124mModified Louvain\u001b[39m\u001b[38;5;124m'\u001b[39m][\u001b[38;5;124m'\u001b[39m\u001b[38;5;124mModularity\u001b[39m\u001b[38;5;124m'\u001b[39m],\n\u001b[0;32m     18\u001b[0m     results[\u001b[38;5;124m'\u001b[39m\u001b[38;5;124mRecursive Spectral\u001b[39m\u001b[38;5;124m'\u001b[39m][\u001b[38;5;124m'\u001b[39m\u001b[38;5;124mModularity\u001b[39m\u001b[38;5;124m'\u001b[39m]\n\u001b[0;32m     19\u001b[0m ]\n\u001b[0;32m     21\u001b[0m community_counts \u001b[38;5;241m=\u001b[39m [\n\u001b[0;32m     22\u001b[0m     results_FTSE[\u001b[38;5;124m'\u001b[39m\u001b[38;5;124mModified Louvain\u001b[39m\u001b[38;5;124m'\u001b[39m][\u001b[38;5;124m'\u001b[39m\u001b[38;5;124mNumber of Communities\u001b[39m\u001b[38;5;124m'\u001b[39m],\n\u001b[0;32m     23\u001b[0m     results_FTSE[\u001b[38;5;124m'\u001b[39m\u001b[38;5;124mRecursive Spectral\u001b[39m\u001b[38;5;124m'\u001b[39m][\u001b[38;5;124m'\u001b[39m\u001b[38;5;124mNumber of Communities\u001b[39m\u001b[38;5;124m'\u001b[39m],\n\u001b[0;32m     24\u001b[0m     results[\u001b[38;5;124m'\u001b[39m\u001b[38;5;124mModified Louvain\u001b[39m\u001b[38;5;124m'\u001b[39m][\u001b[38;5;124m'\u001b[39m\u001b[38;5;124mNumber of Communities\u001b[39m\u001b[38;5;124m'\u001b[39m],\n\u001b[0;32m     25\u001b[0m     results[\u001b[38;5;124m'\u001b[39m\u001b[38;5;124mRecursive Spectral\u001b[39m\u001b[38;5;124m'\u001b[39m][\u001b[38;5;124m'\u001b[39m\u001b[38;5;124mNumber of Communities\u001b[39m\u001b[38;5;124m'\u001b[39m]\n\u001b[0;32m     26\u001b[0m ]\n\u001b[0;32m     28\u001b[0m \u001b[38;5;66;03m# X-axis positions\u001b[39;00m\n",
      "\u001b[1;31mNameError\u001b[0m: name 'results_FTSE' is not defined"
     ]
    }
   ],
   "source": [
    "import os\n",
    "import matplotlib.pyplot as plt\n",
    "import numpy as np\n",
    "\n",
    "# Ensure the 'plots' directory exists\n",
    "if not os.path.exists('plots'):\n",
    "    os.makedirs('plots')\n",
    "\n",
    "# Data from results\n",
    "datasets = ['FTSE 100', 'S&P500']\n",
    "methods = ['Louvain Method', 'Spectral Method']\n",
    "\n",
    "# Extract modularity and number of communities for each dataset and method\n",
    "modularity_scores = [\n",
    "    results_FTSE['Modified Louvain']['Modularity'],\n",
    "    results_FTSE['Recursive Spectral']['Modularity'],\n",
    "    results['Modified Louvain']['Modularity'],\n",
    "    results['Recursive Spectral']['Modularity']\n",
    "]\n",
    "\n",
    "community_counts = [\n",
    "    results_FTSE['Modified Louvain']['Number of Communities'],\n",
    "    results_FTSE['Recursive Spectral']['Number of Communities'],\n",
    "    results['Modified Louvain']['Number of Communities'],\n",
    "    results['Recursive Spectral']['Number of Communities']\n",
    "]\n",
    "\n",
    "# X-axis positions\n",
    "x = np.arange(len(datasets))  # Number of datasets\n",
    "width = 0.35  # Width of each bar\n",
    "\n",
    "# **Modularity Bar Plot**\n",
    "fig, ax = plt.subplots(figsize=(10, 6), facecolor='black')\n",
    "ax.set_facecolor('black')\n",
    "\n",
    "# Plot modularity\n",
    "ax.bar(x - width/2, [modularity_scores[0], modularity_scores[2]], width, label='Louvain Method', color='green')\n",
    "ax.bar(x + width/2, [modularity_scores[1], modularity_scores[3]], width, label='Spectral Method', color='cyan')\n",
    "\n",
    "# Customize plot\n",
    "ax.set_title('Modularity Comparison', fontsize=14, fontweight='bold', color='white')\n",
    "ax.set_ylabel('Modularity', fontsize=12, color='white')\n",
    "ax.set_xticks(x)\n",
    "ax.set_xticklabels(datasets, fontsize=12, color='white')\n",
    "ax.tick_params(axis='y', colors='white')  # Set y-axis tick labels to white\n",
    "ax.legend(fontsize=10, facecolor='black', edgecolor='white', labelcolor='white')\n",
    "ax.grid(color='gray', linestyle='--', linewidth=0.5, alpha=0.7)\n",
    "for spine in ax.spines.values():\n",
    "    spine.set_color('white')\n",
    "\n",
    "# Save and show the plot\n",
    "modularity_plot_path = os.path.join('plots', 'modularity_comparison.png')\n",
    "plt.tight_layout()\n",
    "plt.savefig(modularity_plot_path, dpi=300, facecolor=fig.get_facecolor())\n",
    "plt.show()\n",
    "print(f\"Modularity plot saved to {modularity_plot_path}\")\n",
    "\n",
    "# **Number of Communities Bar Plot**\n",
    "fig, ax = plt.subplots(figsize=(10, 6), facecolor='black')\n",
    "ax.set_facecolor('black')\n",
    "\n",
    "# Plot number of communities\n",
    "ax.bar(x - width/2, [community_counts[0], community_counts[2]], width, label='Louvain Method', color='green')\n",
    "ax.bar(x + width/2, [community_counts[1], community_counts[3]], width, label='Spectral Method', color='cyan')\n",
    "\n",
    "# Customize plot\n",
    "ax.set_title('Number of Communities Comparison', fontsize=14, fontweight='bold', color='white')\n",
    "ax.set_ylabel('Number of Communities', fontsize=12, color='white')\n",
    "ax.set_xticks(x)\n",
    "ax.set_xticklabels(datasets, fontsize=12, color='white')\n",
    "ax.tick_params(axis='y', colors='white')  # Set y-axis tick labels to white\n",
    "ax.legend(fontsize=10, facecolor='black', edgecolor='white', labelcolor='white')\n",
    "ax.grid(color='gray', linestyle='--', linewidth=0.5, alpha=0.7)\n",
    "for spine in ax.spines.values():\n",
    "    spine.set_color('white')\n",
    "\n",
    "# Save and show the plot\n",
    "communities_plot_path = os.path.join('plots', 'communities_comparison.png')\n",
    "plt.tight_layout()\n",
    "plt.savefig(communities_plot_path, dpi=300, facecolor=fig.get_facecolor())\n",
    "plt.show()\n",
    "print(f\"Number of communities plot saved to {communities_plot_path}\")\n"
   ]
  },
  {
   "cell_type": "code",
   "execution_count": null,
   "id": "e6aa0e1b-4166-4dbd-9d31-8f99463a3a8d",
   "metadata": {},
   "outputs": [],
   "source": []
  }
 ],
 "metadata": {
  "kernelspec": {
   "display_name": "Python 3 (ipykernel)",
   "language": "python",
   "name": "python3"
  },
  "language_info": {
   "codemirror_mode": {
    "name": "ipython",
    "version": 3
   },
   "file_extension": ".py",
   "mimetype": "text/x-python",
   "name": "python",
   "nbconvert_exporter": "python",
   "pygments_lexer": "ipython3",
   "version": "3.12.4"
  }
 },
 "nbformat": 4,
 "nbformat_minor": 5
}
