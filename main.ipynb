{
 "cells": [
  {
   "cell_type": "code",
   "execution_count": 1,
   "metadata": {},
   "outputs": [],
   "source": [
    "import pandas as pd\n",
    "import numpy as np\n",
    "from modified_spectral_method import *\n",
    "from modified_louvain_method import *"
   ]
  },
  {
   "cell_type": "code",
   "execution_count": 2,
   "metadata": {},
   "outputs": [],
   "source": [
    "correlation_matrix,T,N,company_names = create_correlation_matrix('returns_standardized.csv')  \n",
    "C_g = calculate_C_g(correlation_matrix,T,N) #Modularity matrix"
   ]
  },
  {
   "cell_type": "code",
   "execution_count": 3,
   "metadata": {},
   "outputs": [
    {
     "name": "stdout",
     "output_type": "stream",
     "text": [
      "Detected 5 Initially\n",
      "Final number of communities: 4\n"
     ]
    }
   ],
   "source": [
    "louvain_communities = modified_louvain(C_g)\n",
    "spectral_communities, company_communities_spectral, modularities = recursive_spectral_method(C_g, company_names,min_size=2, modularity_threshold=0.00001)"
   ]
  },
  {
   "cell_type": "code",
   "execution_count": 4,
   "metadata": {},
   "outputs": [
    {
     "name": "stdout",
     "output_type": "stream",
     "text": [
      "Global modularity of modified Louvain method:  15.055117808984397\n",
      "Global modularity of spectral method:  14.87421549519166\n"
     ]
    }
   ],
   "source": [
    "print(\"Global modularity of modified Louvain method: \", calculate_global_modularity(louvain_communities, C_g))\n",
    "print(\"Global modularity of spectral method: \", calculate_global_modularity(spectral_communities, C_g))"
   ]
  },
  {
   "cell_type": "code",
   "execution_count": 5,
   "metadata": {},
   "outputs": [
    {
     "name": "stdout",
     "output_type": "stream",
     "text": [
      "SPECTRAL COMPANY COMMUNITIES\n",
      "---------------------------\n",
      "['ADM.L', 'ABF.L', 'AZN.L', 'BA.L', 'BP.L', 'BATS.L', 'BT-A.L', 'BNZL.L', 'CNA.L', 'CPG.L', 'DGE.L', 'EXPN.L', 'FCIT.L', 'GSK.L', 'HL.L', 'HIK.L', 'IMB.L', 'NG.L', 'PSON.L', 'RKT.L', 'REL.L', 'RR.L', 'SGE.L', 'SBRY.L', 'SDR.L', 'SVT.L', 'SHEL.L', 'SN.L', 'SMIN.L', 'SSE.L', 'TSCO.L', 'ULVR.L', 'UU.L', 'VOD.L', 'WPP.L']\n",
      "['AAL.L', 'ANTO.L', 'FRES.L', 'RIO.L']\n",
      "['III.L', 'AV.L', 'BARC.L', 'HSBA.L', 'LGEN.L', 'LLOY.L', 'NWG.L', 'PRU.L', 'SMT.L', 'STAN.L']\n",
      "['AHT.L', 'BDEV.L', 'BEZ.L', 'BKG.L', 'BLND.L', 'CRDA.L', 'DCC.L', 'DPLM.L', 'EZJ.L', 'ENT.L', 'FRAS.L', 'GLEN.L', 'HLMA.L', 'HSX.L', 'HWDN.L', 'IHG.L', 'IMI.L', 'INF.L', 'IAG.L', 'ITRK.L', 'JD.L', 'KGF.L', 'LAND.L', 'LMP.L', 'LSEG.L', 'MKS.L', 'MRO.L', 'MNDI.L', 'NXT.L', 'PSN.L', 'PHNX.L', 'RTO.L', 'RMV.L', 'SGRO.L', 'SMDS.L', 'SPX.L', 'TW.L', 'UTG.L', 'VTY.L', 'WEIR.L', 'WTB.L']\n",
      "LOUVAIN COMPANY COMMUNITIES\n",
      "---------------------------\n",
      "['ANTO.L', 'RIO.L', 'FRES.L', 'AAL.L']\n",
      "['NWG.L', 'III.L', 'AV.L', 'SDR.L', 'LLOY.L', 'LGEN.L', 'RR.L', 'STAN.L', 'WPP.L', 'HSBA.L', 'BARC.L', 'PRU.L', 'IAG.L', 'SMT.L', 'LSEG.L']\n",
      "['RMV.L', 'MRO.L', 'DCC.L', 'HSX.L', 'ADM.L', 'INF.L', 'SPX.L', 'ENT.L', 'IHG.L', 'SMDS.L', 'HLMA.L', 'MNDI.L', 'HL.L', 'BEZ.L', 'IMI.L', 'AHT.L', 'ITRK.L', 'WEIR.L', 'UTG.L', 'JD.L', 'HIK.L', 'CRDA.L', 'FRAS.L', 'GLEN.L', 'DPLM.L', 'PHNX.L', 'LMP.L', 'PSN.L', 'TW.L', 'HWDN.L', 'KGF.L', 'BLND.L', 'LAND.L', 'BDEV.L', 'WTB.L', 'SGRO.L', 'VTY.L', 'RTO.L', 'MKS.L', 'BKG.L', 'NXT.L', 'EZJ.L']\n",
      "['ULVR.L', 'TSCO.L', 'REL.L', 'CNA.L', 'BATS.L', 'VOD.L', 'BT-A.L', 'BP.L', 'UU.L', 'AZN.L', 'IMB.L', 'SSE.L', 'FCIT.L', 'BA.L', 'PSON.L', 'RKT.L', 'SN.L', 'CPG.L', 'SMIN.L', 'SHEL.L', 'DGE.L', 'SVT.L', 'SBRY.L', 'SGE.L', 'ABF.L', 'BNZL.L', 'NG.L', 'GSK.L', 'EXPN.L']\n"
     ]
    }
   ],
   "source": [
    "spectral_company_communities = map_communities_to_company_names(spectral_communities,company_names)\n",
    "louvain_company_communities = map_communities_to_company_names(louvain_communities,company_names)\n",
    "\n",
    "print(\"SPECTRAL COMPANY COMMUNITIES\")\n",
    "print(\"---------------------------\")\n",
    "for spectral_company_community in spectral_company_communities:\n",
    "    print(spectral_company_community)\n",
    "\n",
    "print(\"LOUVAIN COMPANY COMMUNITIES\")\n",
    "print(\"---------------------------\")\n",
    "for louvain_company_community in louvain_company_communities:\n",
    "    print(louvain_company_community)"
   ]
  }
 ],
 "metadata": {
  "kernelspec": {
   "display_name": "base",
   "language": "python",
   "name": "python3"
  },
  "language_info": {
   "codemirror_mode": {
    "name": "ipython",
    "version": 3
   },
   "file_extension": ".py",
   "mimetype": "text/x-python",
   "name": "python",
   "nbconvert_exporter": "python",
   "pygments_lexer": "ipython3",
   "version": "3.11.4"
  }
 },
 "nbformat": 4,
 "nbformat_minor": 2
}
