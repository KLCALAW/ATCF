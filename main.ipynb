{
 "cells": [
  {
   "cell_type": "code",
   "execution_count": 1,
   "metadata": {},
   "outputs": [],
   "source": [
    "import pandas as pd\n",
    "import numpy as np\n",
    "from modified_spectral_method import *\n",
    "from modified_louvain_method import *"
   ]
  },
  {
   "cell_type": "code",
   "execution_count": 2,
   "metadata": {},
   "outputs": [],
   "source": [
    "correlation_matrix,T,N,company_names = create_correlation_matrix('eur_data_standardized_returns.csv')  \n",
    "#correlation_matrix,T,N,company_names = create_correlation_matrix('returns_standardized.csv')  \n",
    "#correlation_matrix,T,N,company_names = create_correlation_matrix('returns_standardized_S&P.csv')  \n",
    "C_g = calculate_C_g(correlation_matrix,T,N) #Modularity matrix"
   ]
  },
  {
   "cell_type": "code",
   "execution_count": 3,
   "metadata": {},
   "outputs": [
    {
     "name": "stdout",
     "output_type": "stream",
     "text": [
      "Detected 3 Initially\n",
      "Final number of communities: 3\n"
     ]
    }
   ],
   "source": [
    "louvain_communities = modified_louvain(C_g)\n",
    "spectral_communities, company_communities_spectral, modularities = recursive_spectral_method(C_g, company_names,min_size=2, modularity_threshold=0.00001)"
   ]
  },
  {
   "cell_type": "code",
   "execution_count": 4,
   "metadata": {},
   "outputs": [
    {
     "name": "stdout",
     "output_type": "stream",
     "text": [
      "Global modularity of modified Louvain method:  1.3589532539736595\n",
      "Global modularity of spectral method:  1.3463154371002461\n"
     ]
    }
   ],
   "source": [
    "print(\"Global modularity of modified Louvain method: \", calculate_global_modularity(louvain_communities, C_g))\n",
    "print(\"Global modularity of spectral method: \", calculate_global_modularity(spectral_communities, C_g))"
   ]
  },
  {
   "cell_type": "code",
   "execution_count": 5,
   "metadata": {},
   "outputs": [
    {
     "name": "stdout",
     "output_type": "stream",
     "text": [
      "SPECTRAL COMPANY COMMUNITIES\n",
      "---------------------------\n",
      "['ACAFP', 'AEGON', 'ALPHBK', 'ALZSE', 'ASSGEN', 'AVLN', 'AXAF', 'BACR-Bank', 'BACRED', 'BBVSM', 'BFCM', 'BNP', 'CMZB', 'CSGAG', 'DANBNK', 'DB', 'DBR', 'EDP', 'ENEL', 'FINL', 'GROUPE', 'IBERDU', 'IRELND', 'MUNRE', 'NSINO', 'OTE', 'PORTUG', 'PRUFIN', 'SANPAO', 'SANTNDR', 'SOCGEN', 'SPAIN', 'STAN-Bank', 'STENA', 'SWREL', 'TELEFO', 'TIIMN', 'UBS', 'UKIN', 'USPA', 'ZINCO']\n",
      "['AAUK', 'ACCOR', 'AIRLIQ', 'AKZO', 'ALSTOM', 'ARMLL', 'ATSPA', 'AZN', 'BAD', 'BAPLC', 'BASFSE', 'BATSLN', 'BMW', 'BOUY', 'BPLN', 'BRITEL-BritTel', 'BYIF', 'CARR', 'CENTRI', 'CLAR', 'CONTI', 'CPGLN', 'DAMLR', 'DANONE', 'DEXO', 'DIAG', 'DT', 'EDF', 'ELTLX', 'ENI', 'EXPGRL-EXPFIN', 'FORTUM', 'FSEKGA', 'GLCORE', 'GSK', 'HEI', 'HEIANA', 'HOFP', 'ITV', 'KDSM', 'KPN', 'LINDE', 'LNX', 'LUFTHA', 'MKS-M+SPlc', 'MOET', 'NESTLE', 'NGP', 'NOKIA', 'NXT', 'PERNOD', 'PEUGOT', 'PREUSS', 'PSON', 'PUBFP', 'RDSPLC', 'RENAUL', 'RNTKIL', 'ROLLS', 'SBRY', 'SIEM', 'SOLVAY', 'STGOBN', 'STM', 'STORA', 'SYNNVX', 'TATELN', 'TELNOR', 'TKA', 'TKAGR', 'TOTALN', 'TSCO', 'ULVR', 'UPMKYM', 'UU', 'VEOLIA', 'VINCI', 'VIVNDI', 'VLOF', 'VLVY', 'VOD', 'VW', 'WENL', 'WOLKLU', 'WPPGRP-2005']\n",
      "['ABE', 'ABHLTD', 'ACAFP-CIB', 'ACEA', 'ADIG', 'AF', 'AF-AirFrance', 'AGASSA', 'AGS', 'AGS-Intl', 'AKZO-ICILD', 'ALCLCT', 'ALINDR', 'ALT', 'ALYD', 'AMROBK', 'ANGLIA', 'ARMLL-FRA', 'ARMLL-Fin', 'ASSAAB', 'ATCOA', 'AUST', 'AWLN-AngWatServ', 'AYLL', 'BAB', 'BANSAB', 'BCPN', 'BELG', 'BKIR', 'BKTSM', 'BNCBPI', 'BOCGP', 'BPBL', 'BRISA', 'BRITLD', 'BRYBDC', 'BRYBDC-Brew', 'BSFSHW', 'BWGPSK', 'BYLAN', 'CAJAME', 'CAWILD', 'CCBP-NATIXI', 'CCLL', 'CIRINT', 'CMFP', 'CTSGL', 'CXGD', 'CYPRUS', 'DAA', 'DBB', 'DENK', 'DEPFA-Bank', 'DEXGRP-CredLoc', 'DFHH', 'DMGOLN', 'DPW', 'DZBK', 'EDP-FinBV', 'ELEBEL', 'ELESM', 'ELIA', 'ELIAC', 'EMIG', 'ENDP', 'EON-PWGLN', 'EON-UK', 'ERGBA', 'ESS', 'EVRGSA', 'F-FCEBank', 'FERRUZ', 'FGPLN', 'FRTR', 'GFCFP', 'GROHE', 'HAMRSN', 'HAVAS', 'HBOS', 'HBOS-ScotBkPLC', 'HEI-HANSN', 'HEIANA-SCOT', 'HENAGK', 'HESLAN', 'HSBC', 'HSBC-HSBCBank', 'IBERDU-Intl', 'IBERDU-ScotPwr', 'ICELND', 'IFX-HldgBV', 'IHOT', 'III', 'IKB', 'INTNED', 'INTNED-BankNV', 'INVSA', 'ISSAS-Global', 'ITALY', 'ITV-Carlton', 'JAPTOB-GGL', 'KEL-YorkWat', 'KEL-YorkWatfltd', 'KINGFI', 'KRCP-BankNV', 'LAFCP', 'LAGARD', 'LAND-SecPlc', 'LAVORO', 'LAZIO', 'LBTG-UPC', 'LBW', 'LGEN', 'LGRDSA-frnc', 'LIFP', 'LMETEL', 'LOREAL', 'MANSE', 'METSO', 'MICHLN', 'MKGA', 'MKS', 'MONTE', 'NDB', 'NETHRS', 'NGGPLC', 'NGP-NGET', 'NIBBNK', 'NIECO', 'NIPSHG-PILKING', 'NORWAY', 'NOVART', 'NXP', 'PAUTO', 'PEUGOT-BanqPsa', 'PIRELN', 'PPWRC', 'RAGAG-EVODEG', 'RBOSCH', 'RDMB', 'RDNA-ShellPet', 'RDNA-ShellPetLt', 'RECSA', 'RENAUL-RCIBanq', 'RENTPL', 'RHEINM-Rheinmet', 'RIOLN', 'RNK', 'ROSW', 'RSA-InsPLC', 'RSAIG', 'RXLDEV', 'SANUK', 'SAPSJ-SGM', 'SCACAP', 'SCANIA', 'SCMNVX', 'SCORS', 'SCOTPO-Ukplc', 'SEB', 'SECURI', 'SESG', 'SGCLN', 'SGRO', 'SICILY', 'SKF', 'SLTRW-Kelda', 'SMIN', 'SOLL', 'STAN', 'STB', 'STLIFE-LifeAss', 'SVSKHB', 'SWED', 'SWEDBK', 'SWEMAT', 'SWISS', 'SWLHLD', 'SWSL', 'SXLTD', 'TATAGP-CORUSLTD', 'TELDAN', 'TFIFP', 'TMSNRP-TRGL', 'TNET', 'TWPLC', 'TYECOG', 'UCBAG', 'VIRFIN', 'VLVY-Treasury', 'WEINBG', 'WINDAQ', 'YORPOW']\n",
      "LOUVAIN COMPANY COMMUNITIES\n",
      "---------------------------\n",
      "['AIRLIQ', 'LNX', 'RNTKIL', 'ALSTOM', 'BYIF', 'VINCI', 'MKGA', 'BATSLN', 'BRITEL-BritTel', 'SYNNVX', 'BASFSE', 'WPPGRP-2005', 'ITV', 'SIEM', 'HENAGK', 'LINDE', 'ULVR', 'DEXO', 'GSK', 'PERNOD', 'KDSM', 'BAPLC', 'TATELN', 'PUBFP', 'TSCO', 'EDF', 'HOFP', 'UU', 'AZN', 'DIAG', 'LMETEL', 'HEIANA', 'VOD', 'CLAR', 'KPN', 'FSEKGA', 'ELTLX', 'VEOLIA', 'STGOBN', 'VIVNDI', 'ROLLS', 'NESTLE', 'DANONE', 'STM', 'SOLVAY', 'FORTUM', 'CARR', 'CONTI', 'NGP', 'WOLKLU', 'PSON', 'NXT', 'CPGLN', 'ATSPA', 'DT', 'AKZO', 'TELNOR', 'BPLN', 'ENI', 'TKA', 'EXPGRL-EXPFIN', 'ACCOR', 'BOUY', 'LUFTHA', 'MOET', 'TOTALN', 'CENTRI', 'RDSPLC', 'MKS-M+SPlc', 'BMW', 'AAUK', 'BAD', 'VW', 'VLOF', 'GLCORE', 'WENL', 'SESG', 'HEI', 'PEUGOT', 'VLVY', 'TKAGR', 'GROUPE', 'STORA', 'NOKIA', 'DAMLR', 'PREUSS', 'STENA', 'UPMKYM', 'SBRY', 'ARMLL', 'RENAUL']\n",
      "['ALZSE', 'MUNRE', 'ASSGEN', 'ALPHBK', 'SANTNDR', 'BACRED', 'STAN-Bank', 'BNP', 'AXAF', 'BBVSM', 'SWREL', 'TIIMN', 'HSBC-HSBCBank', 'USPA', 'AVLN', 'AEGON', 'SOCGEN', 'CMZB', 'UBS', 'DB', 'ZINCO', 'SANPAO', 'BACR-Bank', 'DANBNK', 'ACAFP', 'TELEFO', 'HSBC', 'CSGAG', 'BFCM', 'EDP', 'OTE', 'PRUFIN', 'SPAIN', 'ITALY', 'PORTUG', 'FRTR', 'ENEL', 'IBERDU', 'BELG', 'IRELND', 'AUST', 'NSINO', 'DBR', 'UKIN']\n",
      "['PEUGOT-BanqPsa', 'IBERDU-ScotPwr', 'ARMLL-FRA', 'NDB', 'ELEBEL', 'SGCLN', 'BYLAN', 'LBW', 'HBOS', 'TATAGP-CORUSLTD', 'BRITLD', 'ELIA', 'ROSW', 'AWLN-AngWatServ', 'MICHLN', 'LGRDSA-frnc', 'BKTSM', 'NOVART', 'SECURI', 'ICELND', 'DFHH', 'AGS-Intl', 'BCPN', 'ALT', 'CCBP-NATIXI', 'DMGOLN', 'HEI-HANSN', 'RDNA-ShellPetLt', 'WEINBG', 'SXLTD', 'RXLDEV', 'CMFP', 'RDMB', 'CYPRUS', 'RHEINM-Rheinmet', 'IHOT', 'BOCGP', 'HEIANA-SCOT', 'ESS', 'INVSA', 'CXGD', 'SWED', 'RDNA-ShellPet', 'KRCP-BankNV', 'SWEDBK', 'SCMNVX', 'NIECO', 'BRYBDC', 'SWEMAT', 'BPBL', 'CAJAME', 'DEPFA-Bank', 'SCANIA', 'FERRUZ', 'SOLL', 'SICILY', 'ENDP', 'TWPLC', 'RAGAG-EVODEG', 'EVRGSA', 'RIOLN', 'SLTRW-Kelda', 'LGEN', 'AF', 'SEB', 'LIFP', 'IKB', 'AGS', 'DPW', 'NORWAY', 'EDP-FinBV', 'SANUK', 'FGPLN', 'EMIG', 'LAND-SecPlc', 'RSAIG', 'ERGBA', 'DENK', 'ABHLTD', 'AMROBK', 'BWGPSK', 'IBERDU-Intl', 'EON-UK', 'MANSE', 'BAB', 'CTSGL', 'NIBBNK', 'RNK', 'F-FCEBank', 'SCOTPO-Ukplc', 'TFIFP', 'GFCFP', 'NGP-NGET', 'AYLL', 'SKF', 'JAPTOB-GGL', 'ELESM', 'ITV-Carlton', 'SCACAP', 'CIRINT', 'STB', 'ISSAS-Global', 'PAUTO', 'AGASSA', 'SGRO', 'BKIR', 'SWSL', 'BANSAB', 'HAMRSN', 'BSFSHW', 'RENAUL-RCIBanq', 'BNCBPI', 'SWISS', 'MONTE', 'RBOSCH', 'KEL-YorkWat', 'LAGARD', 'ANGLIA', 'VLVY-Treasury', 'AKZO-ICILD', 'CAWILD', 'EON-PWGLN', 'ASSAAB', 'NGGPLC', 'HESLAN', 'YORPOW', 'ATCOA', 'STAN', 'LAFCP', 'TYECOG', 'SCORS', 'DAA', 'PPWRC', 'ADIG', 'CCLL', 'LOREAL', 'UCBAG', 'RECSA', 'KEL-YorkWatfltd', 'DBB', 'DZBK', 'ELIAC', 'WINDAQ', 'NIPSHG-PILKING', 'AF-AirFrance', 'MKS', 'TNET', 'NETHRS', 'INTNED', 'SWLHLD', 'HAVAS', 'ACAFP-CIB', 'TELDAN', 'ALYD', 'BRISA', 'DEXGRP-CredLoc', 'SAPSJ-SGM', 'SMIN', 'IFX-HldgBV', 'SVSKHB', 'RENTPL', 'GROHE', 'STLIFE-LifeAss', 'ARMLL-Fin', 'TMSNRP-TRGL', 'BRYBDC-Brew', 'LAZIO', 'ABE', 'ALINDR', 'METSO', 'ACEA', 'RSA-InsPLC', 'PIRELN', 'INTNED-BankNV', 'LAVORO', 'III', 'ALCLCT', 'HBOS-ScotBkPLC', 'NXP', 'FINL', 'KINGFI', 'VIRFIN', 'LBTG-UPC']\n"
     ]
    }
   ],
   "source": [
    "spectral_company_communities = map_communities_to_company_names(spectral_communities,company_names)\n",
    "louvain_company_communities = map_communities_to_company_names(louvain_communities,company_names)\n",
    "\n",
    "print(\"SPECTRAL COMPANY COMMUNITIES\")\n",
    "print(\"---------------------------\")\n",
    "for spectral_company_community in spectral_company_communities:\n",
    "    print(spectral_company_community)\n",
    "\n",
    "print(\"LOUVAIN COMPANY COMMUNITIES\")\n",
    "print(\"---------------------------\")\n",
    "for louvain_company_community in louvain_company_communities:\n",
    "    print(louvain_company_community)"
   ]
  },
  {
   "cell_type": "code",
   "execution_count": 6,
   "metadata": {},
   "outputs": [],
   "source": [
    "def calculate_community_overlap(communities1, communities2):\n",
    "    \"\"\"\n",
    "    Calculate overlap between two sets of communities.\n",
    "    Args:\n",
    "        communities1 (list of lists): Communities from interval 1.\n",
    "        communities2 (list of lists): Communities from interval 2.\n",
    "    Returns:\n",
    "        list: Overlap scores for each pair of communities.\n",
    "    \"\"\"\n",
    "    overlap_scores = []\n",
    "    for i, comm1 in enumerate(communities1):\n",
    "        for j, comm2 in enumerate(communities2):\n",
    "            set1, set2 = set(comm1), set(comm2)\n",
    "            intersection = len(set1 & set2)\n",
    "            union = len(set1 | set2)\n",
    "            jaccard_similarity = intersection / union if union > 0 else 0\n",
    "            overlap_scores.append((i, j, jaccard_similarity))\n",
    "    return overlap_scores\n",
    "\n",
    "overlap_scores = calculate_community_overlap(louvain_communities, spectral_communities)"
   ]
  },
  {
   "cell_type": "code",
   "execution_count": 7,
   "metadata": {},
   "outputs": [
    {
     "data": {
      "text/plain": [
       "[(0, 0, 0.015384615384615385),\n",
       " (0, 1, 0.9340659340659341),\n",
       " (0, 2, 0.014336917562724014),\n",
       " (1, 0, 0.8085106382978723),\n",
       " (1, 1, 0.0),\n",
       " (1, 2, 0.02608695652173913),\n",
       " (2, 0, 0.004484304932735426),\n",
       " (2, 1, 0.0),\n",
       " (2, 2, 0.9430051813471503)]"
      ]
     },
     "execution_count": 7,
     "metadata": {},
     "output_type": "execute_result"
    }
   ],
   "source": [
    "overlap_scores"
   ]
  }
 ],
 "metadata": {
  "kernelspec": {
   "display_name": "base",
   "language": "python",
   "name": "python3"
  },
  "language_info": {
   "codemirror_mode": {
    "name": "ipython",
    "version": 3
   },
   "file_extension": ".py",
   "mimetype": "text/x-python",
   "name": "python",
   "nbconvert_exporter": "python",
   "pygments_lexer": "ipython3",
   "version": "3.11.4"
  }
 },
 "nbformat": 4,
 "nbformat_minor": 2
}
