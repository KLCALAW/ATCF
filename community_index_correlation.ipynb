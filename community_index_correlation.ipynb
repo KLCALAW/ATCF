{
 "cells": [
  {
   "cell_type": "code",
   "execution_count": 15,
   "metadata": {},
   "outputs": [],
   "source": [
    "import pandas as pd\n",
    "import numpy as np\n",
    "from modified_spectral_method import *\n",
    "from modified_louvain_method import *\n",
    "from proxy_methods import * \n",
    "import matplotlib.pyplot as plt"
   ]
  },
  {
   "cell_type": "code",
   "execution_count": 2,
   "metadata": {},
   "outputs": [],
   "source": [
    "correlation_matrix,T,N,company_names = create_correlation_matrix('eur_data_standardized_returns.csv')   \n",
    "C_g = calculate_C_g(correlation_matrix,T,N) #Modularity matrix"
   ]
  },
  {
   "cell_type": "code",
   "execution_count": 3,
   "metadata": {},
   "outputs": [
    {
     "name": "stdout",
     "output_type": "stream",
     "text": [
      "Detected 3 Initially\n",
      "Final number of communities: 3\n"
     ]
    }
   ],
   "source": [
    "louvain_communities = modified_louvain(C_g)\n",
    "louvain_company_communities = map_communities_to_company_names(louvain_communities,company_names)\n"
   ]
  },
  {
   "cell_type": "code",
   "execution_count": 4,
   "metadata": {},
   "outputs": [],
   "source": [
    "prices_data = pd.read_csv('reshaped_data.csv')\n",
    "prices_data = prices_data.set_index('Date')\n",
    "meta_data = pd.read_csv('metadata.csv')\n",
    "meta_data = meta_data.set_index('Ticker')\n",
    "sovereign_bond_tickers = meta_data[meta_data['Sector'] == 'Government'].index.tolist()\n",
    "sovereign_bond_price_data = prices_data[sovereign_bond_tickers]\n"
   ]
  },
  {
   "cell_type": "code",
   "execution_count": 5,
   "metadata": {},
   "outputs": [
    {
     "data": {
      "text/html": [
       "<div>\n",
       "<style scoped>\n",
       "    .dataframe tbody tr th:only-of-type {\n",
       "        vertical-align: middle;\n",
       "    }\n",
       "\n",
       "    .dataframe tbody tr th {\n",
       "        vertical-align: top;\n",
       "    }\n",
       "\n",
       "    .dataframe thead th {\n",
       "        text-align: right;\n",
       "    }\n",
       "</style>\n",
       "<table border=\"1\" class=\"dataframe\">\n",
       "  <thead>\n",
       "    <tr style=\"text-align: right;\">\n",
       "      <th></th>\n",
       "      <th>Community 1</th>\n",
       "      <th>Community 2</th>\n",
       "      <th>Community 3</th>\n",
       "    </tr>\n",
       "    <tr>\n",
       "      <th>Date</th>\n",
       "      <th></th>\n",
       "      <th></th>\n",
       "      <th></th>\n",
       "    </tr>\n",
       "  </thead>\n",
       "  <tbody>\n",
       "    <tr>\n",
       "      <th>2010-09-14 00:00:00</th>\n",
       "      <td>189.190705</td>\n",
       "      <td>165.622829</td>\n",
       "      <td>134.361013</td>\n",
       "    </tr>\n",
       "    <tr>\n",
       "      <th>2010-09-15 00:00:00</th>\n",
       "      <td>187.320139</td>\n",
       "      <td>167.532884</td>\n",
       "      <td>134.924571</td>\n",
       "    </tr>\n",
       "    <tr>\n",
       "      <th>2010-09-16 00:00:00</th>\n",
       "      <td>189.869279</td>\n",
       "      <td>168.338796</td>\n",
       "      <td>133.610764</td>\n",
       "    </tr>\n",
       "    <tr>\n",
       "      <th>2010-09-17 00:00:00</th>\n",
       "      <td>188.350589</td>\n",
       "      <td>168.540288</td>\n",
       "      <td>132.518580</td>\n",
       "    </tr>\n",
       "    <tr>\n",
       "      <th>2010-09-20 00:00:00</th>\n",
       "      <td>190.945471</td>\n",
       "      <td>172.863179</td>\n",
       "      <td>133.163238</td>\n",
       "    </tr>\n",
       "    <tr>\n",
       "      <th>...</th>\n",
       "      <td>...</td>\n",
       "      <td>...</td>\n",
       "      <td>...</td>\n",
       "    </tr>\n",
       "    <tr>\n",
       "      <th>2020-04-28 00:00:00</th>\n",
       "      <td>122.470646</td>\n",
       "      <td>456.998255</td>\n",
       "      <td>142.550110</td>\n",
       "    </tr>\n",
       "    <tr>\n",
       "      <th>2020-04-29 00:00:00</th>\n",
       "      <td>122.314846</td>\n",
       "      <td>456.214539</td>\n",
       "      <td>142.751390</td>\n",
       "    </tr>\n",
       "    <tr>\n",
       "      <th>2020-04-30 00:00:00</th>\n",
       "      <td>121.596561</td>\n",
       "      <td>455.404791</td>\n",
       "      <td>140.361122</td>\n",
       "    </tr>\n",
       "    <tr>\n",
       "      <th>2020-05-01 00:00:00</th>\n",
       "      <td>122.469239</td>\n",
       "      <td>456.895093</td>\n",
       "      <td>142.416000</td>\n",
       "    </tr>\n",
       "    <tr>\n",
       "      <th>2020-05-04 00:00:00</th>\n",
       "      <td>123.485185</td>\n",
       "      <td>461.195102</td>\n",
       "      <td>146.708330</td>\n",
       "    </tr>\n",
       "  </tbody>\n",
       "</table>\n",
       "<p>2515 rows × 3 columns</p>\n",
       "</div>"
      ],
      "text/plain": [
       "                     Community 1  Community 2  Community 3\n",
       "Date                                                      \n",
       "2010-09-14 00:00:00   189.190705   165.622829   134.361013\n",
       "2010-09-15 00:00:00   187.320139   167.532884   134.924571\n",
       "2010-09-16 00:00:00   189.869279   168.338796   133.610764\n",
       "2010-09-17 00:00:00   188.350589   168.540288   132.518580\n",
       "2010-09-20 00:00:00   190.945471   172.863179   133.163238\n",
       "...                          ...          ...          ...\n",
       "2020-04-28 00:00:00   122.470646   456.998255   142.550110\n",
       "2020-04-29 00:00:00   122.314846   456.214539   142.751390\n",
       "2020-04-30 00:00:00   121.596561   455.404791   140.361122\n",
       "2020-05-01 00:00:00   122.469239   456.895093   142.416000\n",
       "2020-05-04 00:00:00   123.485185   461.195102   146.708330\n",
       "\n",
       "[2515 rows x 3 columns]"
      ]
     },
     "execution_count": 5,
     "metadata": {},
     "output_type": "execute_result"
    }
   ],
   "source": [
    "community_prices_average_df = pd.DataFrame()\n",
    "\n",
    "for community_number,community in enumerate(louvain_company_communities):\n",
    "\n",
    "    community_prices = prices_data[community]\n",
    "    community_prices_average = community_prices.mean(axis=1)\n",
    "    community_prices_average_df[f\"Community {community_number + 1}\"] = community_prices_average\n",
    "\n",
    "\n",
    "community_prices_average_df"
   ]
  },
  {
   "cell_type": "code",
   "execution_count": 6,
   "metadata": {},
   "outputs": [],
   "source": [
    "community_prices_average_df.to_csv('community_prices_average.csv')"
   ]
  },
  {
   "cell_type": "markdown",
   "metadata": {},
   "source": [
    "# Correlation Matrix\n",
    "---"
   ]
  },
  {
   "cell_type": "code",
   "execution_count": 7,
   "metadata": {},
   "outputs": [],
   "source": [
    "#Community 1\n",
    "time_series_1 = np.array([1, 2, 3, 4, 5])\n",
    "time_series_2 = np.array([5, 1, 3, 10, 1])\n",
    "community_1 = [0,1]\n",
    "\n",
    "#Community 2\n",
    "time_series_3 = np.array([1, 9, 10, 7, 9])\n",
    "time_series_4 = np.array([1, 2, 3, 2, 8])\n",
    "community_2 = [2,3]\n",
    "\n",
    "time_series_matrix = np.stack((time_series_1, time_series_2,time_series_3, time_series_4), axis=0)\n",
    "\n",
    "\n",
    "cov_matrix = np.cov(time_series_matrix) "
   ]
  },
  {
   "cell_type": "code",
   "execution_count": null,
   "metadata": {},
   "outputs": [],
   "source": [
    "# for column in sovereign_bond_price_data.columns:\n",
    "#     time_series_list = sovereign_bond_price_data[column].tolist()\n",
    "#     np_time_series = np.array(time_series_list)\n",
    "\n",
    "merged_df = pd.merge(community_prices_average_df,sovereign_bond_price_data,how='inner',left_index=True,right_index=True)\n",
    "\n",
    "#Calculate correlation matrix\n",
    "correlation_matrix2 = merged_df.corr()\n",
    "    "
   ]
  },
  {
   "cell_type": "code",
   "execution_count": 13,
   "metadata": {},
   "outputs": [],
   "source": [
    "correlation_matrix2\n",
    "\n",
    "#Remove first 3 columns\n",
    "correlation_matrix2 = correlation_matrix2.iloc[:,3:]\n",
    "\n",
    "#Only keep the first 3 rows\n",
    "correlation_matrix2 = correlation_matrix2.iloc[:3,:]"
   ]
  },
  {
   "cell_type": "code",
   "execution_count": 14,
   "metadata": {},
   "outputs": [
    {
     "data": {
      "text/html": [
       "<div>\n",
       "<style scoped>\n",
       "    .dataframe tbody tr th:only-of-type {\n",
       "        vertical-align: middle;\n",
       "    }\n",
       "\n",
       "    .dataframe tbody tr th {\n",
       "        vertical-align: top;\n",
       "    }\n",
       "\n",
       "    .dataframe thead th {\n",
       "        text-align: right;\n",
       "    }\n",
       "</style>\n",
       "<table border=\"1\" class=\"dataframe\">\n",
       "  <thead>\n",
       "    <tr style=\"text-align: right;\">\n",
       "      <th></th>\n",
       "      <th>DBR</th>\n",
       "      <th>DENK</th>\n",
       "      <th>ESS</th>\n",
       "      <th>FINL</th>\n",
       "      <th>FRTR</th>\n",
       "      <th>ICELND</th>\n",
       "      <th>IRELND</th>\n",
       "      <th>ITALY</th>\n",
       "      <th>LAZIO</th>\n",
       "      <th>NETHRS</th>\n",
       "      <th>NORWAY</th>\n",
       "      <th>PORTUG</th>\n",
       "      <th>SICILY</th>\n",
       "      <th>SPAIN</th>\n",
       "      <th>SWED</th>\n",
       "      <th>SWISS</th>\n",
       "      <th>UKIN</th>\n",
       "    </tr>\n",
       "  </thead>\n",
       "  <tbody>\n",
       "    <tr>\n",
       "      <th>Community 1</th>\n",
       "      <td>0.872538</td>\n",
       "      <td>0.912240</td>\n",
       "      <td>0.033354</td>\n",
       "      <td>0.861998</td>\n",
       "      <td>0.924704</td>\n",
       "      <td>0.857880</td>\n",
       "      <td>0.831880</td>\n",
       "      <td>0.872990</td>\n",
       "      <td>0.889627</td>\n",
       "      <td>0.933890</td>\n",
       "      <td>0.879946</td>\n",
       "      <td>0.927454</td>\n",
       "      <td>0.936430</td>\n",
       "      <td>0.962597</td>\n",
       "      <td>0.905305</td>\n",
       "      <td>0.947793</td>\n",
       "      <td>0.886365</td>\n",
       "    </tr>\n",
       "    <tr>\n",
       "      <th>Community 2</th>\n",
       "      <td>0.032440</td>\n",
       "      <td>0.097788</td>\n",
       "      <td>-0.186212</td>\n",
       "      <td>0.064171</td>\n",
       "      <td>0.010216</td>\n",
       "      <td>-0.217757</td>\n",
       "      <td>0.013582</td>\n",
       "      <td>0.224899</td>\n",
       "      <td>0.210141</td>\n",
       "      <td>0.045936</td>\n",
       "      <td>0.024623</td>\n",
       "      <td>0.009833</td>\n",
       "      <td>0.103520</td>\n",
       "      <td>-0.008425</td>\n",
       "      <td>0.081195</td>\n",
       "      <td>-0.108714</td>\n",
       "      <td>0.072595</td>\n",
       "    </tr>\n",
       "    <tr>\n",
       "      <th>Community 3</th>\n",
       "      <td>0.792118</td>\n",
       "      <td>0.823979</td>\n",
       "      <td>0.106253</td>\n",
       "      <td>0.788193</td>\n",
       "      <td>0.835311</td>\n",
       "      <td>0.707850</td>\n",
       "      <td>0.720269</td>\n",
       "      <td>0.849734</td>\n",
       "      <td>0.856189</td>\n",
       "      <td>0.843387</td>\n",
       "      <td>0.852310</td>\n",
       "      <td>0.829946</td>\n",
       "      <td>0.882546</td>\n",
       "      <td>0.871529</td>\n",
       "      <td>0.828247</td>\n",
       "      <td>0.827316</td>\n",
       "      <td>0.831272</td>\n",
       "    </tr>\n",
       "  </tbody>\n",
       "</table>\n",
       "</div>"
      ],
      "text/plain": [
       "                  DBR      DENK       ESS      FINL      FRTR    ICELND  \\\n",
       "Community 1  0.872538  0.912240  0.033354  0.861998  0.924704  0.857880   \n",
       "Community 2  0.032440  0.097788 -0.186212  0.064171  0.010216 -0.217757   \n",
       "Community 3  0.792118  0.823979  0.106253  0.788193  0.835311  0.707850   \n",
       "\n",
       "               IRELND     ITALY     LAZIO    NETHRS    NORWAY    PORTUG  \\\n",
       "Community 1  0.831880  0.872990  0.889627  0.933890  0.879946  0.927454   \n",
       "Community 2  0.013582  0.224899  0.210141  0.045936  0.024623  0.009833   \n",
       "Community 3  0.720269  0.849734  0.856189  0.843387  0.852310  0.829946   \n",
       "\n",
       "               SICILY     SPAIN      SWED     SWISS      UKIN  \n",
       "Community 1  0.936430  0.962597  0.905305  0.947793  0.886365  \n",
       "Community 2  0.103520 -0.008425  0.081195 -0.108714  0.072595  \n",
       "Community 3  0.882546  0.871529  0.828247  0.827316  0.831272  "
      ]
     },
     "execution_count": 14,
     "metadata": {},
     "output_type": "execute_result"
    }
   ],
   "source": [
    "correlation_matrix2"
   ]
  },
  {
   "cell_type": "code",
   "execution_count": 19,
   "metadata": {},
   "outputs": [
    {
     "data": {
      "image/png": "[encoded data removed]",
      "text/plain": [
       "<Figure size 1200x600 with 1 Axes>"
      ]
     },
     "metadata": {},
     "output_type": "display_data"
    }
   ],
   "source": [
    "correlation_matrix2.T.plot(kind=\"bar\", figsize=(12, 6), width=0.8)\n",
    "\n",
    "# Add plot details\n",
    "plt.title(\"Correlation of sovereign CDS bonds by Community\")\n",
    "plt.ylabel(\"Correlation\")\n",
    "plt.xlabel(\"Country\")\n",
    "plt.legend(title=\"Communities\", bbox_to_anchor=(1.05, 1), loc='upper left')\n",
    "plt.tight_layout()\n",
    "\n",
    "# Show the plot\n",
    "plt.show()\n"
   ]
  }
 ],
 "metadata": {
  "kernelspec": {
   "display_name": "base",
   "language": "python",
   "name": "python3"
  },
  "language_info": {
   "codemirror_mode": {
    "name": "ipython",
    "version": 3
   },
   "file_extension": ".py",
   "mimetype": "text/x-python",
   "name": "python",
   "nbconvert_exporter": "python",
   "pygments_lexer": "ipython3",
   "version": "3.11.4"
  }
 },
 "nbformat": 4,
 "nbformat_minor": 2
}
