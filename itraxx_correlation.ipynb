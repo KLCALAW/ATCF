{
 "cells": [
  {
   "cell_type": "code",
   "execution_count": 1,
   "id": "0f219766-5e03-4a37-b56a-f8527cbc829f",
   "metadata": {},
   "outputs": [],
   "source": [
    "import pandas as pd\n",
    "import numpy as np\n",
    "import os\n",
    "import plotly.graph_objects as go\n",
    "from plotly.subplots import make_subplots\n",
    "import seaborn as sns\n",
    "import matplotlib.pyplot as plt\n",
    "import plotly.colors as pc\n",
    "from modified_spectral_method import recursive_spectral_method, create_correlation_matrix, calculate_C_g\n",
    "from modified_louvain_method import *\n",
    "from itertools import product\n",
    "from collections import Counter"
   ]
  },
  {
   "cell_type": "markdown",
   "id": "e3588c6b",
   "metadata": {},
   "source": [
    "# Transform data\n",
    "---"
   ]
  },
  {
   "cell_type": "code",
   "execution_count": 2,
   "id": "f2d4b1ff-c70b-4a91-86a1-1daefe6f9f08",
   "metadata": {},
   "outputs": [],
   "source": [
    "df_cds_data = pd.read_csv('reshaped_eur_data.csv') #The raw original cds eur data (reshaped)\n",
    "df_itraxx = pd.read_csv('ITRAXX-Europe Timeseries 20241127.csv')"
   ]
  },
  {
   "cell_type": "code",
   "execution_count": 3,
   "id": "3f368215",
   "metadata": {},
   "outputs": [
    {
     "name": "stdout",
     "output_type": "stream",
     "text": [
      "cds data shape:  (2515, 319)\n",
      "itraxx data shape:  (5221, 7)\n"
     ]
    }
   ],
   "source": [
    "print(\"cds data shape: \", df_cds_data.shape)\n",
    "print(\"itraxx data shape: \", df_itraxx.shape)"
   ]
  },
  {
   "cell_type": "code",
   "execution_count": 4,
   "id": "54700e41",
   "metadata": {},
   "outputs": [],
   "source": [
    "#Rename date column to Date\n",
    "df_itraxx.rename(columns={'AsOf':'Date'}, inplace=True)"
   ]
  },
  {
   "cell_type": "code",
   "execution_count": 5,
   "id": "b4cfc1b1-6067-44b3-a811-c03b2f1a1eb3",
   "metadata": {},
   "outputs": [
    {
     "data": {
      "text/html": [
       "<div>\n",
       "<style scoped>\n",
       "    .dataframe tbody tr th:only-of-type {\n",
       "        vertical-align: middle;\n",
       "    }\n",
       "\n",
       "    .dataframe tbody tr th {\n",
       "        vertical-align: top;\n",
       "    }\n",
       "\n",
       "    .dataframe thead th {\n",
       "        text-align: right;\n",
       "    }\n",
       "</style>\n",
       "<table border=\"1\" class=\"dataframe\">\n",
       "  <thead>\n",
       "    <tr style=\"text-align: right;\">\n",
       "      <th></th>\n",
       "      <th>Date</th>\n",
       "      <th>Batch</th>\n",
       "      <th>Tenor</th>\n",
       "      <th>Ticker</th>\n",
       "      <th>Series</th>\n",
       "      <th>Version</th>\n",
       "      <th>ConvSpread</th>\n",
       "    </tr>\n",
       "  </thead>\n",
       "  <tbody>\n",
       "    <tr>\n",
       "      <th>5220</th>\n",
       "      <td>2004-10-05</td>\n",
       "      <td>EOD</td>\n",
       "      <td>5Y</td>\n",
       "      <td>ITRAXX-Europe</td>\n",
       "      <td>2</td>\n",
       "      <td>1</td>\n",
       "      <td>35.55</td>\n",
       "    </tr>\n",
       "    <tr>\n",
       "      <th>5219</th>\n",
       "      <td>2004-11-19</td>\n",
       "      <td>EOD</td>\n",
       "      <td>5Y</td>\n",
       "      <td>ITRAXX-Europe</td>\n",
       "      <td>2</td>\n",
       "      <td>1</td>\n",
       "      <td>36.88</td>\n",
       "    </tr>\n",
       "    <tr>\n",
       "      <th>5218</th>\n",
       "      <td>2004-11-22</td>\n",
       "      <td>EOD</td>\n",
       "      <td>5Y</td>\n",
       "      <td>ITRAXX-Europe</td>\n",
       "      <td>2</td>\n",
       "      <td>1</td>\n",
       "      <td>37.25</td>\n",
       "    </tr>\n",
       "    <tr>\n",
       "      <th>5217</th>\n",
       "      <td>2004-11-23</td>\n",
       "      <td>EOD</td>\n",
       "      <td>5Y</td>\n",
       "      <td>ITRAXX-Europe</td>\n",
       "      <td>2</td>\n",
       "      <td>1</td>\n",
       "      <td>36.94</td>\n",
       "    </tr>\n",
       "    <tr>\n",
       "      <th>5216</th>\n",
       "      <td>2004-11-24</td>\n",
       "      <td>EOD</td>\n",
       "      <td>5Y</td>\n",
       "      <td>ITRAXX-Europe</td>\n",
       "      <td>2</td>\n",
       "      <td>1</td>\n",
       "      <td>36.84</td>\n",
       "    </tr>\n",
       "    <tr>\n",
       "      <th>...</th>\n",
       "      <td>...</td>\n",
       "      <td>...</td>\n",
       "      <td>...</td>\n",
       "      <td>...</td>\n",
       "      <td>...</td>\n",
       "      <td>...</td>\n",
       "      <td>...</td>\n",
       "    </tr>\n",
       "    <tr>\n",
       "      <th>4</th>\n",
       "      <td>2024-11-20</td>\n",
       "      <td>EOD</td>\n",
       "      <td>5Y</td>\n",
       "      <td>ITRAXX-Europe</td>\n",
       "      <td>42</td>\n",
       "      <td>1</td>\n",
       "      <td>56.59</td>\n",
       "    </tr>\n",
       "    <tr>\n",
       "      <th>3</th>\n",
       "      <td>2024-11-21</td>\n",
       "      <td>EOD</td>\n",
       "      <td>5Y</td>\n",
       "      <td>ITRAXX-Europe</td>\n",
       "      <td>42</td>\n",
       "      <td>1</td>\n",
       "      <td>56.81</td>\n",
       "    </tr>\n",
       "    <tr>\n",
       "      <th>2</th>\n",
       "      <td>2024-11-22</td>\n",
       "      <td>EOD</td>\n",
       "      <td>5Y</td>\n",
       "      <td>ITRAXX-Europe</td>\n",
       "      <td>42</td>\n",
       "      <td>1</td>\n",
       "      <td>57.55</td>\n",
       "    </tr>\n",
       "    <tr>\n",
       "      <th>1</th>\n",
       "      <td>2024-11-25</td>\n",
       "      <td>EOD</td>\n",
       "      <td>5Y</td>\n",
       "      <td>ITRAXX-Europe</td>\n",
       "      <td>42</td>\n",
       "      <td>1</td>\n",
       "      <td>57.30</td>\n",
       "    </tr>\n",
       "    <tr>\n",
       "      <th>0</th>\n",
       "      <td>2024-11-26</td>\n",
       "      <td>EOD</td>\n",
       "      <td>5Y</td>\n",
       "      <td>ITRAXX-Europe</td>\n",
       "      <td>42</td>\n",
       "      <td>1</td>\n",
       "      <td>58.01</td>\n",
       "    </tr>\n",
       "  </tbody>\n",
       "</table>\n",
       "<p>5221 rows × 7 columns</p>\n",
       "</div>"
      ],
      "text/plain": [
       "           Date Batch Tenor         Ticker  Series  Version  ConvSpread\n",
       "5220 2004-10-05   EOD    5Y  ITRAXX-Europe       2        1       35.55\n",
       "5219 2004-11-19   EOD    5Y  ITRAXX-Europe       2        1       36.88\n",
       "5218 2004-11-22   EOD    5Y  ITRAXX-Europe       2        1       37.25\n",
       "5217 2004-11-23   EOD    5Y  ITRAXX-Europe       2        1       36.94\n",
       "5216 2004-11-24   EOD    5Y  ITRAXX-Europe       2        1       36.84\n",
       "...         ...   ...   ...            ...     ...      ...         ...\n",
       "4    2024-11-20   EOD    5Y  ITRAXX-Europe      42        1       56.59\n",
       "3    2024-11-21   EOD    5Y  ITRAXX-Europe      42        1       56.81\n",
       "2    2024-11-22   EOD    5Y  ITRAXX-Europe      42        1       57.55\n",
       "1    2024-11-25   EOD    5Y  ITRAXX-Europe      42        1       57.30\n",
       "0    2024-11-26   EOD    5Y  ITRAXX-Europe      42        1       58.01\n",
       "\n",
       "[5221 rows x 7 columns]"
      ]
     },
     "execution_count": 5,
     "metadata": {},
     "output_type": "execute_result"
    }
   ],
   "source": [
    "# Convert the 'AsOf' column to a datetime object\n",
    "df_itraxx['Date'] = pd.to_datetime(df_itraxx['Date'], format='%d/%b/%y')\n",
    "\n",
    "# Sort the DataFrame by the 'AsOf' column in descending order by day\n",
    "df_itrax_sorted = df_itraxx.sort_values(by='Date', ascending=True)\n",
    "df_itrax_sorted"
   ]
  },
  {
   "cell_type": "code",
   "execution_count": 9,
   "id": "d856cd0a",
   "metadata": {},
   "outputs": [
    {
     "data": {
      "text/html": [
       "<div>\n",
       "<style scoped>\n",
       "    .dataframe tbody tr th:only-of-type {\n",
       "        vertical-align: middle;\n",
       "    }\n",
       "\n",
       "    .dataframe tbody tr th {\n",
       "        vertical-align: top;\n",
       "    }\n",
       "\n",
       "    .dataframe thead th {\n",
       "        text-align: right;\n",
       "    }\n",
       "</style>\n",
       "<table border=\"1\" class=\"dataframe\">\n",
       "  <thead>\n",
       "    <tr style=\"text-align: right;\">\n",
       "      <th></th>\n",
       "      <th>Date</th>\n",
       "      <th>Batch</th>\n",
       "      <th>Tenor</th>\n",
       "      <th>Ticker</th>\n",
       "      <th>Series</th>\n",
       "      <th>Version</th>\n",
       "      <th>ConvSpread</th>\n",
       "    </tr>\n",
       "  </thead>\n",
       "  <tbody>\n",
       "    <tr>\n",
       "      <th>5220</th>\n",
       "      <td>2004-10-05</td>\n",
       "      <td>EOD</td>\n",
       "      <td>5Y</td>\n",
       "      <td>ITRAXX-Europe</td>\n",
       "      <td>2</td>\n",
       "      <td>1</td>\n",
       "      <td>35.55</td>\n",
       "    </tr>\n",
       "    <tr>\n",
       "      <th>5219</th>\n",
       "      <td>2004-11-19</td>\n",
       "      <td>EOD</td>\n",
       "      <td>5Y</td>\n",
       "      <td>ITRAXX-Europe</td>\n",
       "      <td>2</td>\n",
       "      <td>1</td>\n",
       "      <td>36.88</td>\n",
       "    </tr>\n",
       "    <tr>\n",
       "      <th>5218</th>\n",
       "      <td>2004-11-22</td>\n",
       "      <td>EOD</td>\n",
       "      <td>5Y</td>\n",
       "      <td>ITRAXX-Europe</td>\n",
       "      <td>2</td>\n",
       "      <td>1</td>\n",
       "      <td>37.25</td>\n",
       "    </tr>\n",
       "    <tr>\n",
       "      <th>5217</th>\n",
       "      <td>2004-11-23</td>\n",
       "      <td>EOD</td>\n",
       "      <td>5Y</td>\n",
       "      <td>ITRAXX-Europe</td>\n",
       "      <td>2</td>\n",
       "      <td>1</td>\n",
       "      <td>36.94</td>\n",
       "    </tr>\n",
       "    <tr>\n",
       "      <th>5216</th>\n",
       "      <td>2004-11-24</td>\n",
       "      <td>EOD</td>\n",
       "      <td>5Y</td>\n",
       "      <td>ITRAXX-Europe</td>\n",
       "      <td>2</td>\n",
       "      <td>1</td>\n",
       "      <td>36.84</td>\n",
       "    </tr>\n",
       "    <tr>\n",
       "      <th>...</th>\n",
       "      <td>...</td>\n",
       "      <td>...</td>\n",
       "      <td>...</td>\n",
       "      <td>...</td>\n",
       "      <td>...</td>\n",
       "      <td>...</td>\n",
       "      <td>...</td>\n",
       "    </tr>\n",
       "    <tr>\n",
       "      <th>4</th>\n",
       "      <td>2024-11-20</td>\n",
       "      <td>EOD</td>\n",
       "      <td>5Y</td>\n",
       "      <td>ITRAXX-Europe</td>\n",
       "      <td>42</td>\n",
       "      <td>1</td>\n",
       "      <td>56.59</td>\n",
       "    </tr>\n",
       "    <tr>\n",
       "      <th>3</th>\n",
       "      <td>2024-11-21</td>\n",
       "      <td>EOD</td>\n",
       "      <td>5Y</td>\n",
       "      <td>ITRAXX-Europe</td>\n",
       "      <td>42</td>\n",
       "      <td>1</td>\n",
       "      <td>56.81</td>\n",
       "    </tr>\n",
       "    <tr>\n",
       "      <th>2</th>\n",
       "      <td>2024-11-22</td>\n",
       "      <td>EOD</td>\n",
       "      <td>5Y</td>\n",
       "      <td>ITRAXX-Europe</td>\n",
       "      <td>42</td>\n",
       "      <td>1</td>\n",
       "      <td>57.55</td>\n",
       "    </tr>\n",
       "    <tr>\n",
       "      <th>1</th>\n",
       "      <td>2024-11-25</td>\n",
       "      <td>EOD</td>\n",
       "      <td>5Y</td>\n",
       "      <td>ITRAXX-Europe</td>\n",
       "      <td>42</td>\n",
       "      <td>1</td>\n",
       "      <td>57.30</td>\n",
       "    </tr>\n",
       "    <tr>\n",
       "      <th>0</th>\n",
       "      <td>2024-11-26</td>\n",
       "      <td>EOD</td>\n",
       "      <td>5Y</td>\n",
       "      <td>ITRAXX-Europe</td>\n",
       "      <td>42</td>\n",
       "      <td>1</td>\n",
       "      <td>58.01</td>\n",
       "    </tr>\n",
       "  </tbody>\n",
       "</table>\n",
       "<p>5152 rows × 7 columns</p>\n",
       "</div>"
      ],
      "text/plain": [
       "           Date Batch Tenor         Ticker  Series  Version  ConvSpread\n",
       "5220 2004-10-05   EOD    5Y  ITRAXX-Europe       2        1       35.55\n",
       "5219 2004-11-19   EOD    5Y  ITRAXX-Europe       2        1       36.88\n",
       "5218 2004-11-22   EOD    5Y  ITRAXX-Europe       2        1       37.25\n",
       "5217 2004-11-23   EOD    5Y  ITRAXX-Europe       2        1       36.94\n",
       "5216 2004-11-24   EOD    5Y  ITRAXX-Europe       2        1       36.84\n",
       "...         ...   ...   ...            ...     ...      ...         ...\n",
       "4    2024-11-20   EOD    5Y  ITRAXX-Europe      42        1       56.59\n",
       "3    2024-11-21   EOD    5Y  ITRAXX-Europe      42        1       56.81\n",
       "2    2024-11-22   EOD    5Y  ITRAXX-Europe      42        1       57.55\n",
       "1    2024-11-25   EOD    5Y  ITRAXX-Europe      42        1       57.30\n",
       "0    2024-11-26   EOD    5Y  ITRAXX-Europe      42        1       58.01\n",
       "\n",
       "[5152 rows x 7 columns]"
      ]
     },
     "execution_count": 9,
     "metadata": {},
     "output_type": "execute_result"
    }
   ],
   "source": [
    "#Remove rows with missing values\n",
    "df_itraxx_sorted = df_itrax_sorted.dropna()\n",
    "df_itraxx_sorted"
   ]
  },
  {
   "cell_type": "code",
   "execution_count": 10,
   "id": "1c2f914c-4440-4dc3-900c-4d1cdbc6191d",
   "metadata": {},
   "outputs": [
    {
     "name": "stdout",
     "output_type": "stream",
     "text": [
      "filtered itraxx data shape:  (2491, 7)\n"
     ]
    },
    {
     "name": "stderr",
     "output_type": "stream",
     "text": [
      "/var/folders/rc/tn2ys5g55157vhhlmn0_vfwr0000gq/T/ipykernel_22636/3555815691.py:9: SettingWithCopyWarning: \n",
      "A value is trying to be set on a copy of a slice from a DataFrame.\n",
      "Try using .loc[row_indexer,col_indexer] = value instead\n",
      "\n",
      "See the caveats in the documentation: https://pandas.pydata.org/pandas-docs/stable/user_guide/indexing.html#returning-a-view-versus-a-copy\n",
      "  df_itraxx_filtered['Log_Return'] = np.log(df_itraxx_filtered['ConvSpread'] / df_itraxx_filtered['ConvSpread'].shift(1))\n",
      "/var/folders/rc/tn2ys5g55157vhhlmn0_vfwr0000gq/T/ipykernel_22636/3555815691.py:16: SettingWithCopyWarning: \n",
      "A value is trying to be set on a copy of a slice from a DataFrame.\n",
      "Try using .loc[row_indexer,col_indexer] = value instead\n",
      "\n",
      "See the caveats in the documentation: https://pandas.pydata.org/pandas-docs/stable/user_guide/indexing.html#returning-a-view-versus-a-copy\n",
      "  df_itraxx_log_returns['Standardized_Log_Return'] = (df_itraxx_log_returns['Log_Return'] - log_return_mean) / log_return_std\n"
     ]
    },
    {
     "data": {
      "text/html": [
       "<div>\n",
       "<style scoped>\n",
       "    .dataframe tbody tr th:only-of-type {\n",
       "        vertical-align: middle;\n",
       "    }\n",
       "\n",
       "    .dataframe tbody tr th {\n",
       "        vertical-align: top;\n",
       "    }\n",
       "\n",
       "    .dataframe thead th {\n",
       "        text-align: right;\n",
       "    }\n",
       "</style>\n",
       "<table border=\"1\" class=\"dataframe\">\n",
       "  <thead>\n",
       "    <tr style=\"text-align: right;\">\n",
       "      <th></th>\n",
       "      <th>Date</th>\n",
       "      <th>Batch</th>\n",
       "      <th>Tenor</th>\n",
       "      <th>Ticker</th>\n",
       "      <th>Series</th>\n",
       "      <th>Version</th>\n",
       "      <th>ConvSpread</th>\n",
       "      <th>Log_Return</th>\n",
       "      <th>Standardized_Log_Return</th>\n",
       "    </tr>\n",
       "  </thead>\n",
       "  <tbody>\n",
       "    <tr>\n",
       "      <th>3701</th>\n",
       "      <td>2010-09-15</td>\n",
       "      <td>EOD</td>\n",
       "      <td>5Y</td>\n",
       "      <td>ITRAXX-Europe</td>\n",
       "      <td>13</td>\n",
       "      <td>1</td>\n",
       "      <td>105.58</td>\n",
       "      <td>0.005509</td>\n",
       "      <td>0.181407</td>\n",
       "    </tr>\n",
       "    <tr>\n",
       "      <th>3700</th>\n",
       "      <td>2010-09-16</td>\n",
       "      <td>EOD</td>\n",
       "      <td>5Y</td>\n",
       "      <td>ITRAXX-Europe</td>\n",
       "      <td>13</td>\n",
       "      <td>1</td>\n",
       "      <td>106.28</td>\n",
       "      <td>0.006608</td>\n",
       "      <td>0.217123</td>\n",
       "    </tr>\n",
       "    <tr>\n",
       "      <th>3699</th>\n",
       "      <td>2010-09-17</td>\n",
       "      <td>EOD</td>\n",
       "      <td>5Y</td>\n",
       "      <td>ITRAXX-Europe</td>\n",
       "      <td>13</td>\n",
       "      <td>1</td>\n",
       "      <td>106.96</td>\n",
       "      <td>0.006378</td>\n",
       "      <td>0.209641</td>\n",
       "    </tr>\n",
       "    <tr>\n",
       "      <th>3698</th>\n",
       "      <td>2010-09-20</td>\n",
       "      <td>EOD</td>\n",
       "      <td>5Y</td>\n",
       "      <td>ITRAXX-Europe</td>\n",
       "      <td>14</td>\n",
       "      <td>1</td>\n",
       "      <td>110.97</td>\n",
       "      <td>0.036805</td>\n",
       "      <td>1.197995</td>\n",
       "    </tr>\n",
       "    <tr>\n",
       "      <th>3697</th>\n",
       "      <td>2010-09-21</td>\n",
       "      <td>EOD</td>\n",
       "      <td>5Y</td>\n",
       "      <td>ITRAXX-Europe</td>\n",
       "      <td>14</td>\n",
       "      <td>1</td>\n",
       "      <td>109.85</td>\n",
       "      <td>-0.010144</td>\n",
       "      <td>-0.327034</td>\n",
       "    </tr>\n",
       "    <tr>\n",
       "      <th>...</th>\n",
       "      <td>...</td>\n",
       "      <td>...</td>\n",
       "      <td>...</td>\n",
       "      <td>...</td>\n",
       "      <td>...</td>\n",
       "      <td>...</td>\n",
       "      <td>...</td>\n",
       "      <td>...</td>\n",
       "      <td>...</td>\n",
       "    </tr>\n",
       "    <tr>\n",
       "      <th>1192</th>\n",
       "      <td>2020-04-28</td>\n",
       "      <td>EOD</td>\n",
       "      <td>5Y</td>\n",
       "      <td>ITRAXX-Europe</td>\n",
       "      <td>33</td>\n",
       "      <td>1</td>\n",
       "      <td>81.58</td>\n",
       "      <td>0.005778</td>\n",
       "      <td>0.190153</td>\n",
       "    </tr>\n",
       "    <tr>\n",
       "      <th>1191</th>\n",
       "      <td>2020-04-29</td>\n",
       "      <td>EOD</td>\n",
       "      <td>5Y</td>\n",
       "      <td>ITRAXX-Europe</td>\n",
       "      <td>33</td>\n",
       "      <td>1</td>\n",
       "      <td>78.02</td>\n",
       "      <td>-0.044619</td>\n",
       "      <td>-1.446868</td>\n",
       "    </tr>\n",
       "    <tr>\n",
       "      <th>1190</th>\n",
       "      <td>2020-04-30</td>\n",
       "      <td>EOD</td>\n",
       "      <td>5Y</td>\n",
       "      <td>ITRAXX-Europe</td>\n",
       "      <td>33</td>\n",
       "      <td>1</td>\n",
       "      <td>80.58</td>\n",
       "      <td>0.032285</td>\n",
       "      <td>1.051184</td>\n",
       "    </tr>\n",
       "    <tr>\n",
       "      <th>1189</th>\n",
       "      <td>2020-05-01</td>\n",
       "      <td>EOD</td>\n",
       "      <td>5Y</td>\n",
       "      <td>ITRAXX-Europe</td>\n",
       "      <td>33</td>\n",
       "      <td>1</td>\n",
       "      <td>83.58</td>\n",
       "      <td>0.036554</td>\n",
       "      <td>1.189836</td>\n",
       "    </tr>\n",
       "    <tr>\n",
       "      <th>1188</th>\n",
       "      <td>2020-05-04</td>\n",
       "      <td>EOD</td>\n",
       "      <td>5Y</td>\n",
       "      <td>ITRAXX-Europe</td>\n",
       "      <td>33</td>\n",
       "      <td>1</td>\n",
       "      <td>86.87</td>\n",
       "      <td>0.038608</td>\n",
       "      <td>1.256579</td>\n",
       "    </tr>\n",
       "  </tbody>\n",
       "</table>\n",
       "<p>2490 rows × 9 columns</p>\n",
       "</div>"
      ],
      "text/plain": [
       "           Date Batch Tenor         Ticker  Series  Version  ConvSpread  \\\n",
       "3701 2010-09-15   EOD    5Y  ITRAXX-Europe      13        1      105.58   \n",
       "3700 2010-09-16   EOD    5Y  ITRAXX-Europe      13        1      106.28   \n",
       "3699 2010-09-17   EOD    5Y  ITRAXX-Europe      13        1      106.96   \n",
       "3698 2010-09-20   EOD    5Y  ITRAXX-Europe      14        1      110.97   \n",
       "3697 2010-09-21   EOD    5Y  ITRAXX-Europe      14        1      109.85   \n",
       "...         ...   ...   ...            ...     ...      ...         ...   \n",
       "1192 2020-04-28   EOD    5Y  ITRAXX-Europe      33        1       81.58   \n",
       "1191 2020-04-29   EOD    5Y  ITRAXX-Europe      33        1       78.02   \n",
       "1190 2020-04-30   EOD    5Y  ITRAXX-Europe      33        1       80.58   \n",
       "1189 2020-05-01   EOD    5Y  ITRAXX-Europe      33        1       83.58   \n",
       "1188 2020-05-04   EOD    5Y  ITRAXX-Europe      33        1       86.87   \n",
       "\n",
       "      Log_Return  Standardized_Log_Return  \n",
       "3701    0.005509                 0.181407  \n",
       "3700    0.006608                 0.217123  \n",
       "3699    0.006378                 0.209641  \n",
       "3698    0.036805                 1.197995  \n",
       "3697   -0.010144                -0.327034  \n",
       "...          ...                      ...  \n",
       "1192    0.005778                 0.190153  \n",
       "1191   -0.044619                -1.446868  \n",
       "1190    0.032285                 1.051184  \n",
       "1189    0.036554                 1.189836  \n",
       "1188    0.038608                 1.256579  \n",
       "\n",
       "[2490 rows x 9 columns]"
      ]
     },
     "execution_count": 10,
     "metadata": {},
     "output_type": "execute_result"
    }
   ],
   "source": [
    "#Filter the Itraxx data to only include the dates that are in the eur_data_standardized_returns\n",
    "#---------------------------------------------------------------------------------------------------\n",
    "df_itraxx_filtered = df_itraxx_sorted[df_itraxx_sorted['Date'].isin(df_cds_data['Date'])]\n",
    "print(\"filtered itraxx data shape: \", df_itraxx_filtered.shape)\n",
    "#Take log returns\n",
    "#---------------------------------------------------------------------------------------------------\n",
    "\n",
    "# Calculate the log returns for the CDS spread\n",
    "df_itraxx_filtered['Log_Return'] = np.log(df_itraxx_filtered['ConvSpread'] / df_itraxx_filtered['ConvSpread'].shift(1))\n",
    "\n",
    "# Drop NaN values that occur due to the first row (no previous value to compare)\n",
    "df_itraxx_log_returns = df_itraxx_filtered.dropna()\n",
    "# Standardize the log returns (Z-score normalization)\n",
    "log_return_mean = df_itraxx_log_returns['Log_Return'].mean()\n",
    "log_return_std = df_itraxx_log_returns['Log_Return'].std()\n",
    "df_itraxx_log_returns['Standardized_Log_Return'] = (df_itraxx_log_returns['Log_Return'] - log_return_mean) / log_return_std\n",
    "\n",
    "# Display the filtered DataFrame\n",
    "df_itraxx_log_returns\n"
   ]
  },
  {
   "cell_type": "code",
   "execution_count": null,
   "id": "f6c12e89",
   "metadata": {},
   "outputs": [
    {
     "name": "stderr",
     "output_type": "stream",
     "text": [
      "/var/folders/rc/tn2ys5g55157vhhlmn0_vfwr0000gq/T/ipykernel_22636/1348446952.py:2: FutureWarning: In a future version of pandas all arguments of DataFrame.any and Series.any will be keyword-only.\n",
      "  nan_rows = df_itraxx_log_returns[df_itraxx_log_returns.isnull().any(1)]\n"
     ]
    },
    {
     "data": {
      "text/html": [
       "<div>\n",
       "<style scoped>\n",
       "    .dataframe tbody tr th:only-of-type {\n",
       "        vertical-align: middle;\n",
       "    }\n",
       "\n",
       "    .dataframe tbody tr th {\n",
       "        vertical-align: top;\n",
       "    }\n",
       "\n",
       "    .dataframe thead th {\n",
       "        text-align: right;\n",
       "    }\n",
       "</style>\n",
       "<table border=\"1\" class=\"dataframe\">\n",
       "  <thead>\n",
       "    <tr style=\"text-align: right;\">\n",
       "      <th></th>\n",
       "      <th>Date</th>\n",
       "      <th>Batch</th>\n",
       "      <th>Tenor</th>\n",
       "      <th>Ticker</th>\n",
       "      <th>Series</th>\n",
       "      <th>Version</th>\n",
       "      <th>ConvSpread</th>\n",
       "      <th>Log_Return</th>\n",
       "      <th>Standardized_Log_Return</th>\n",
       "    </tr>\n",
       "  </thead>\n",
       "  <tbody>\n",
       "  </tbody>\n",
       "</table>\n",
       "</div>"
      ],
      "text/plain": [
       "Empty DataFrame\n",
       "Columns: [Date, Batch, Tenor, Ticker, Series, Version, ConvSpread, Log_Return, Standardized_Log_Return]\n",
       "Index: []"
      ]
     },
     "execution_count": 11,
     "metadata": {},
     "output_type": "execute_result"
    }
   ],
   "source": [
    "#Check for anymore rows with NaN values\n",
    "nan_rows = df_itraxx_log_returns[df_itraxx_log_returns.isnull().any(1)]\n",
    "nan_rows"
   ]
  },
  {
   "cell_type": "code",
   "execution_count": 14,
   "id": "94ee67af-90c1-4a9f-b660-b9c208fe1711",
   "metadata": {},
   "outputs": [
    {
     "name": "stderr",
     "output_type": "stream",
     "text": [
      "/var/folders/rc/tn2ys5g55157vhhlmn0_vfwr0000gq/T/ipykernel_22636/175591165.py:5: SettingWithCopyWarning: \n",
      "A value is trying to be set on a copy of a slice from a DataFrame\n",
      "\n",
      "See the caveats in the documentation: https://pandas.pydata.org/pandas-docs/stable/user_guide/indexing.html#returning-a-view-versus-a-copy\n",
      "  df_itraxx_standardised_returns.rename(columns={'Standardized_Log_Return': 'ITRAXX-Europe'}, inplace=True)\n"
     ]
    }
   ],
   "source": [
    "# Create a new DataFrame with only 'Date' and 'Standardized_Log_Return'\n",
    "df_itraxx_standardised_returns= df_itraxx_log_returns[['Date', 'Standardized_Log_Return']]\n",
    "\n",
    "# Rename the 'Standardized_Log_Return' column to 'ITRAXX-Europe'\n",
    "df_itraxx_standardised_returns.rename(columns={'Standardized_Log_Return': 'ITRAXX-Europe'}, inplace=True)\n",
    "\n",
    "df_itraxx_standardised_returns.to_csv('data/standardized_itraxx_returns.csv', index=False)"
   ]
  },
  {
   "cell_type": "markdown",
   "id": "76e53447",
   "metadata": {},
   "source": [
    "# Calculate correlations\n",
    "---"
   ]
  },
  {
   "cell_type": "code",
   "execution_count": 18,
   "id": "ce00a842",
   "metadata": {},
   "outputs": [],
   "source": [
    "#Get average community time series saved previously\n",
    "df_community_returns_average = pd.read_csv('community_returns_average.csv')"
   ]
  },
  {
   "cell_type": "code",
   "execution_count": null,
   "id": "1f0b4977",
   "metadata": {},
   "outputs": [
    {
     "name": "stderr",
     "output_type": "stream",
     "text": [
      "/var/folders/rc/tn2ys5g55157vhhlmn0_vfwr0000gq/T/ipykernel_22636/254960250.py:2: SettingWithCopyWarning: \n",
      "A value is trying to be set on a copy of a slice from a DataFrame.\n",
      "Try using .loc[row_indexer,col_indexer] = value instead\n",
      "\n",
      "See the caveats in the documentation: https://pandas.pydata.org/pandas-docs/stable/user_guide/indexing.html#returning-a-view-versus-a-copy\n",
      "  df_itraxx_standardised_returns['Date'] = pd.to_datetime(df_itraxx_standardised_returns['Date'])\n"
     ]
    }
   ],
   "source": [
    "#Convert the date columns to datetime objects\n",
    "df_community_returns_average['Date'] = pd.to_datetime(df_community_returns_average['Date'])\n",
    "df_itraxx_standardised_returns['Date'] = pd.to_datetime(df_itraxx_standardised_returns['Date'])"
   ]
  },
  {
   "cell_type": "code",
   "execution_count": null,
   "id": "0c54b03e",
   "metadata": {},
   "outputs": [
    {
     "data": {
      "text/html": [
       "<div>\n",
       "<style scoped>\n",
       "    .dataframe tbody tr th:only-of-type {\n",
       "        vertical-align: middle;\n",
       "    }\n",
       "\n",
       "    .dataframe tbody tr th {\n",
       "        vertical-align: top;\n",
       "    }\n",
       "\n",
       "    .dataframe thead th {\n",
       "        text-align: right;\n",
       "    }\n",
       "</style>\n",
       "<table border=\"1\" class=\"dataframe\">\n",
       "  <thead>\n",
       "    <tr style=\"text-align: right;\">\n",
       "      <th></th>\n",
       "      <th>Date</th>\n",
       "      <th>Community 1</th>\n",
       "      <th>Community 2</th>\n",
       "      <th>Community 3</th>\n",
       "    </tr>\n",
       "  </thead>\n",
       "  <tbody>\n",
       "    <tr>\n",
       "      <th>0</th>\n",
       "      <td>2010-09-15</td>\n",
       "      <td>0.013052</td>\n",
       "      <td>0.007300</td>\n",
       "      <td>0.004545</td>\n",
       "    </tr>\n",
       "    <tr>\n",
       "      <th>1</th>\n",
       "      <td>2010-09-16</td>\n",
       "      <td>-0.005645</td>\n",
       "      <td>-0.009831</td>\n",
       "      <td>0.000546</td>\n",
       "    </tr>\n",
       "    <tr>\n",
       "      <th>2</th>\n",
       "      <td>2010-09-17</td>\n",
       "      <td>-0.000017</td>\n",
       "      <td>-0.007869</td>\n",
       "      <td>-0.001524</td>\n",
       "    </tr>\n",
       "    <tr>\n",
       "      <th>3</th>\n",
       "      <td>2010-09-20</td>\n",
       "      <td>0.023052</td>\n",
       "      <td>0.003669</td>\n",
       "      <td>0.002373</td>\n",
       "    </tr>\n",
       "    <tr>\n",
       "      <th>4</th>\n",
       "      <td>2010-09-21</td>\n",
       "      <td>-0.007649</td>\n",
       "      <td>-0.019731</td>\n",
       "      <td>-0.001270</td>\n",
       "    </tr>\n",
       "    <tr>\n",
       "      <th>...</th>\n",
       "      <td>...</td>\n",
       "      <td>...</td>\n",
       "      <td>...</td>\n",
       "      <td>...</td>\n",
       "    </tr>\n",
       "    <tr>\n",
       "      <th>2509</th>\n",
       "      <td>2020-04-28</td>\n",
       "      <td>-0.028556</td>\n",
       "      <td>-0.006785</td>\n",
       "      <td>-0.009186</td>\n",
       "    </tr>\n",
       "    <tr>\n",
       "      <th>2510</th>\n",
       "      <td>2020-04-29</td>\n",
       "      <td>-0.009492</td>\n",
       "      <td>-0.001260</td>\n",
       "      <td>-0.001900</td>\n",
       "    </tr>\n",
       "    <tr>\n",
       "      <th>2511</th>\n",
       "      <td>2020-04-30</td>\n",
       "      <td>-0.012537</td>\n",
       "      <td>-0.018167</td>\n",
       "      <td>-0.005807</td>\n",
       "    </tr>\n",
       "    <tr>\n",
       "      <th>2512</th>\n",
       "      <td>2020-05-01</td>\n",
       "      <td>0.024110</td>\n",
       "      <td>0.015664</td>\n",
       "      <td>0.005099</td>\n",
       "    </tr>\n",
       "    <tr>\n",
       "      <th>2513</th>\n",
       "      <td>2020-05-04</td>\n",
       "      <td>0.027336</td>\n",
       "      <td>0.027324</td>\n",
       "      <td>0.006712</td>\n",
       "    </tr>\n",
       "  </tbody>\n",
       "</table>\n",
       "<p>2490 rows × 4 columns</p>\n",
       "</div>"
      ],
      "text/plain": [
       "           Date  Community 1  Community 2  Community 3\n",
       "0    2010-09-15     0.013052     0.007300     0.004545\n",
       "1    2010-09-16    -0.005645    -0.009831     0.000546\n",
       "2    2010-09-17    -0.000017    -0.007869    -0.001524\n",
       "3    2010-09-20     0.023052     0.003669     0.002373\n",
       "4    2010-09-21    -0.007649    -0.019731    -0.001270\n",
       "...         ...          ...          ...          ...\n",
       "2509 2020-04-28    -0.028556    -0.006785    -0.009186\n",
       "2510 2020-04-29    -0.009492    -0.001260    -0.001900\n",
       "2511 2020-04-30    -0.012537    -0.018167    -0.005807\n",
       "2512 2020-05-01     0.024110     0.015664     0.005099\n",
       "2513 2020-05-04     0.027336     0.027324     0.006712\n",
       "\n",
       "[2490 rows x 4 columns]"
      ]
     },
     "execution_count": 32,
     "metadata": {},
     "output_type": "execute_result"
    }
   ],
   "source": [
    "#Filter the community returns to only include the dates that are in the eur_data_standardized_returns\n",
    "df_community_returns_average_filtered = df_community_returns_average[df_community_returns_average['Date'].isin(df_itraxx_standardised_returns['Date'])]\n",
    "df_community_returns_average_filtered"
   ]
  },
  {
   "cell_type": "code",
   "execution_count": 34,
   "id": "fd0b8eda",
   "metadata": {},
   "outputs": [],
   "source": [
    "#Exclude the date column from both dataframes\n",
    "df_community_returns_average_filtered = df_community_returns_average_filtered.drop(columns=['Date'])\n",
    "df_itraxx_standardised_returns = df_itraxx_standardised_returns.drop(columns=['Date'])"
   ]
  },
  {
   "cell_type": "code",
   "execution_count": 39,
   "id": "760eb755",
   "metadata": {},
   "outputs": [
    {
     "name": "stdout",
     "output_type": "stream",
     "text": [
      "Correlation between  Community 1  and ITRAXX-Europe:  -0.00941392836811746\n",
      "Correlation between  Community 2  and ITRAXX-Europe:  -0.003231888409646981\n",
      "Correlation between  Community 3  and ITRAXX-Europe:  0.039201267121895984\n"
     ]
    }
   ],
   "source": [
    "#Calculate correlations\n",
    "correlations = []\n",
    "for community_average_time_series in df_community_returns_average_filtered.columns:\n",
    "    correlation = df_community_returns_average_filtered[community_average_time_series].corr(df_itraxx_standardised_returns['ITRAXX-Europe'])\n",
    "    print(\"Correlation between \", community_average_time_series, \" and ITRAXX-Europe: \", correlation)\n",
    "    correlations.append(correlation)"
   ]
  },
  {
   "cell_type": "code",
   "execution_count": 55,
   "id": "5f8a0b44",
   "metadata": {},
   "outputs": [
    {
     "data": {
      "application/vnd.plotly.v1+json": {
       "config": {
        "plotlyServerURL": "https://plot.ly"
       },
       "data": [
        {
         "marker": {
          "color": [
           "#39FF14",
           "#FF073A",
           "#0FF0FC"
          ]
         },
         "type": "bar",
         "x": [
          "Community 1",
          "Community 2",
          "Community 3"
         ],
         "y": [
          -0.00941392836811746,
          -0.003231888409646981,
          0.039201267121895984
         ]
        }
       ],
       "layout": {
        "font": {
         "color": "white"
        },
        "paper_bgcolor": "black",
        "plot_bgcolor": "black",
        "template": {
         "data": {
          "bar": [
           {
            "error_x": {
             "color": "#2a3f5f"
            },
            "error_y": {
             "color": "#2a3f5f"
            },
            "marker": {
             "line": {
              "color": "#E5ECF6",
              "width": 0.5
             },
             "pattern": {
              "fillmode": "overlay",
              "size": 10,
              "solidity": 0.2
             }
            },
            "type": "bar"
           }
          ],
          "barpolar": [
           {
            "marker": {
             "line": {
              "color": "#E5ECF6",
              "width": 0.5
             },
             "pattern": {
              "fillmode": "overlay",
              "size": 10,
              "solidity": 0.2
             }
            },
            "type": "barpolar"
           }
          ],
          "carpet": [
           {
            "aaxis": {
             "endlinecolor": "#2a3f5f",
             "gridcolor": "white",
             "linecolor": "white",
             "minorgridcolor": "white",
             "startlinecolor": "#2a3f5f"
            },
            "baxis": {
             "endlinecolor": "#2a3f5f",
             "gridcolor": "white",
             "linecolor": "white",
             "minorgridcolor": "white",
             "startlinecolor": "#2a3f5f"
            },
            "type": "carpet"
           }
          ],
          "choropleth": [
           {
            "colorbar": {
             "outlinewidth": 0,
             "ticks": ""
            },
            "type": "choropleth"
           }
          ],
          "contour": [
           {
            "colorbar": {
             "outlinewidth": 0,
             "ticks": ""
            },
            "colorscale": [
             [
              0,
              "#0d0887"
             ],
             [
              0.1111111111111111,
              "#46039f"
             ],
             [
              0.2222222222222222,
              "#7201a8"
             ],
             [
              0.3333333333333333,
              "#9c179e"
             ],
             [
              0.4444444444444444,
              "#bd3786"
             ],
             [
              0.5555555555555556,
              "#d8576b"
             ],
             [
              0.6666666666666666,
              "#ed7953"
             ],
             [
              0.7777777777777778,
              "#fb9f3a"
             ],
             [
              0.8888888888888888,
              "#fdca26"
             ],
             [
              1,
              "#f0f921"
             ]
            ],
            "type": "contour"
           }
          ],
          "contourcarpet": [
           {
            "colorbar": {
             "outlinewidth": 0,
             "ticks": ""
            },
            "type": "contourcarpet"
           }
          ],
          "heatmap": [
           {
            "colorbar": {
             "outlinewidth": 0,
             "ticks": ""
            },
            "colorscale": [
             [
              0,
              "#0d0887"
             ],
             [
              0.1111111111111111,
              "#46039f"
             ],
             [
              0.2222222222222222,
              "#7201a8"
             ],
             [
              0.3333333333333333,
              "#9c179e"
             ],
             [
              0.4444444444444444,
              "#bd3786"
             ],
             [
              0.5555555555555556,
              "#d8576b"
             ],
             [
              0.6666666666666666,
              "#ed7953"
             ],
             [
              0.7777777777777778,
              "#fb9f3a"
             ],
             [
              0.8888888888888888,
              "#fdca26"
             ],
             [
              1,
              "#f0f921"
             ]
            ],
            "type": "heatmap"
           }
          ],
          "heatmapgl": [
           {
            "colorbar": {
             "outlinewidth": 0,
             "ticks": ""
            },
            "colorscale": [
             [
              0,
              "#0d0887"
             ],
             [
              0.1111111111111111,
              "#46039f"
             ],
             [
              0.2222222222222222,
              "#7201a8"
             ],
             [
              0.3333333333333333,
              "#9c179e"
             ],
             [
              0.4444444444444444,
              "#bd3786"
             ],
             [
              0.5555555555555556,
              "#d8576b"
             ],
             [
              0.6666666666666666,
              "#ed7953"
             ],
             [
              0.7777777777777778,
              "#fb9f3a"
             ],
             [
              0.8888888888888888,
              "#fdca26"
             ],
             [
              1,
              "#f0f921"
             ]
            ],
            "type": "heatmapgl"
           }
          ],
          "histogram": [
           {
            "marker": {
             "pattern": {
              "fillmode": "overlay",
              "size": 10,
              "solidity": 0.2
             }
            },
            "type": "histogram"
           }
          ],
          "histogram2d": [
           {
            "colorbar": {
             "outlinewidth": 0,
             "ticks": ""
            },
            "colorscale": [
             [
              0,
              "#0d0887"
             ],
             [
              0.1111111111111111,
              "#46039f"
             ],
             [
              0.2222222222222222,
              "#7201a8"
             ],
             [
              0.3333333333333333,
              "#9c179e"
             ],
             [
              0.4444444444444444,
              "#bd3786"
             ],
             [
              0.5555555555555556,
              "#d8576b"
             ],
             [
              0.6666666666666666,
              "#ed7953"
             ],
             [
              0.7777777777777778,
              "#fb9f3a"
             ],
             [
              0.8888888888888888,
              "#fdca26"
             ],
             [
              1,
              "#f0f921"
             ]
            ],
            "type": "histogram2d"
           }
          ],
          "histogram2dcontour": [
           {
            "colorbar": {
             "outlinewidth": 0,
             "ticks": ""
            },
            "colorscale": [
             [
              0,
              "#0d0887"
             ],
             [
              0.1111111111111111,
              "#46039f"
             ],
             [
              0.2222222222222222,
              "#7201a8"
             ],
             [
              0.3333333333333333,
              "#9c179e"
             ],
             [
              0.4444444444444444,
              "#bd3786"
             ],
             [
              0.5555555555555556,
              "#d8576b"
             ],
             [
              0.6666666666666666,
              "#ed7953"
             ],
             [
              0.7777777777777778,
              "#fb9f3a"
             ],
             [
              0.8888888888888888,
              "#fdca26"
             ],
             [
              1,
              "#f0f921"
             ]
            ],
            "type": "histogram2dcontour"
           }
          ],
          "mesh3d": [
           {
            "colorbar": {
             "outlinewidth": 0,
             "ticks": ""
            },
            "type": "mesh3d"
           }
          ],
          "parcoords": [
           {
            "line": {
             "colorbar": {
              "outlinewidth": 0,
              "ticks": ""
             }
            },
            "type": "parcoords"
           }
          ],
          "pie": [
           {
            "automargin": true,
            "type": "pie"
           }
          ],
          "scatter": [
           {
            "fillpattern": {
             "fillmode": "overlay",
             "size": 10,
             "solidity": 0.2
            },
            "type": "scatter"
           }
          ],
          "scatter3d": [
           {
            "line": {
             "colorbar": {
              "outlinewidth": 0,
              "ticks": ""
             }
            },
            "marker": {
             "colorbar": {
              "outlinewidth": 0,
              "ticks": ""
             }
            },
            "type": "scatter3d"
           }
          ],
          "scattercarpet": [
           {
            "marker": {
             "colorbar": {
              "outlinewidth": 0,
              "ticks": ""
             }
            },
            "type": "scattercarpet"
           }
          ],
          "scattergeo": [
           {
            "marker": {
             "colorbar": {
              "outlinewidth": 0,
              "ticks": ""
             }
            },
            "type": "scattergeo"
           }
          ],
          "scattergl": [
           {
            "marker": {
             "colorbar": {
              "outlinewidth": 0,
              "ticks": ""
             }
            },
            "type": "scattergl"
           }
          ],
          "scattermapbox": [
           {
            "marker": {
             "colorbar": {
              "outlinewidth": 0,
              "ticks": ""
             }
            },
            "type": "scattermapbox"
           }
          ],
          "scatterpolar": [
           {
            "marker": {
             "colorbar": {
              "outlinewidth": 0,
              "ticks": ""
             }
            },
            "type": "scatterpolar"
           }
          ],
          "scatterpolargl": [
           {
            "marker": {
             "colorbar": {
              "outlinewidth": 0,
              "ticks": ""
             }
            },
            "type": "scatterpolargl"
           }
          ],
          "scatterternary": [
           {
            "marker": {
             "colorbar": {
              "outlinewidth": 0,
              "ticks": ""
             }
            },
            "type": "scatterternary"
           }
          ],
          "surface": [
           {
            "colorbar": {
             "outlinewidth": 0,
             "ticks": ""
            },
            "colorscale": [
             [
              0,
              "#0d0887"
             ],
             [
              0.1111111111111111,
              "#46039f"
             ],
             [
              0.2222222222222222,
              "#7201a8"
             ],
             [
              0.3333333333333333,
              "#9c179e"
             ],
             [
              0.4444444444444444,
              "#bd3786"
             ],
             [
              0.5555555555555556,
              "#d8576b"
             ],
             [
              0.6666666666666666,
              "#ed7953"
             ],
             [
              0.7777777777777778,
              "#fb9f3a"
             ],
             [
              0.8888888888888888,
              "#fdca26"
             ],
             [
              1,
              "#f0f921"
             ]
            ],
            "type": "surface"
           }
          ],
          "table": [
           {
            "cells": {
             "fill": {
              "color": "#EBF0F8"
             },
             "line": {
              "color": "white"
             }
            },
            "header": {
             "fill": {
              "color": "#C8D4E3"
             },
             "line": {
              "color": "white"
             }
            },
            "type": "table"
           }
          ]
         },
         "layout": {
          "annotationdefaults": {
           "arrowcolor": "#2a3f5f",
           "arrowhead": 0,
           "arrowwidth": 1
          },
          "autotypenumbers": "strict",
          "coloraxis": {
           "colorbar": {
            "outlinewidth": 0,
            "ticks": ""
           }
          },
          "colorscale": {
           "diverging": [
            [
             0,
             "#8e0152"
            ],
            [
             0.1,
             "#c51b7d"
            ],
            [
             0.2,
             "#de77ae"
            ],
            [
             0.3,
             "#f1b6da"
            ],
            [
             0.4,
             "#fde0ef"
            ],
            [
             0.5,
             "#f7f7f7"
            ],
            [
             0.6,
             "#e6f5d0"
            ],
            [
             0.7,
             "#b8e186"
            ],
            [
             0.8,
             "#7fbc41"
            ],
            [
             0.9,
             "#4d9221"
            ],
            [
             1,
             "#276419"
            ]
           ],
           "sequential": [
            [
             0,
             "#0d0887"
            ],
            [
             0.1111111111111111,
             "#46039f"
            ],
            [
             0.2222222222222222,
             "#7201a8"
            ],
            [
             0.3333333333333333,
             "#9c179e"
            ],
            [
             0.4444444444444444,
             "#bd3786"
            ],
            [
             0.5555555555555556,
             "#d8576b"
            ],
            [
             0.6666666666666666,
             "#ed7953"
            ],
            [
             0.7777777777777778,
             "#fb9f3a"
            ],
            [
             0.8888888888888888,
             "#fdca26"
            ],
            [
             1,
             "#f0f921"
            ]
           ],
           "sequentialminus": [
            [
             0,
             "#0d0887"
            ],
            [
             0.1111111111111111,
             "#46039f"
            ],
            [
             0.2222222222222222,
             "#7201a8"
            ],
            [
             0.3333333333333333,
             "#9c179e"
            ],
            [
             0.4444444444444444,
             "#bd3786"
            ],
            [
             0.5555555555555556,
             "#d8576b"
            ],
            [
             0.6666666666666666,
             "#ed7953"
            ],
            [
             0.7777777777777778,
             "#fb9f3a"
            ],
            [
             0.8888888888888888,
             "#fdca26"
            ],
            [
             1,
             "#f0f921"
            ]
           ]
          },
          "colorway": [
           "#636efa",
           "#EF553B",
           "#00cc96",
           "#ab63fa",
           "#FFA15A",
           "#19d3f3",
           "#FF6692",
           "#B6E880",
           "#FF97FF",
           "#FECB52"
          ],
          "font": {
           "color": "#2a3f5f"
          },
          "geo": {
           "bgcolor": "white",
           "lakecolor": "white",
           "landcolor": "#E5ECF6",
           "showlakes": true,
           "showland": true,
           "subunitcolor": "white"
          },
          "hoverlabel": {
           "align": "left"
          },
          "hovermode": "closest",
          "mapbox": {
           "style": "light"
          },
          "paper_bgcolor": "white",
          "plot_bgcolor": "#E5ECF6",
          "polar": {
           "angularaxis": {
            "gridcolor": "white",
            "linecolor": "white",
            "ticks": ""
           },
           "bgcolor": "#E5ECF6",
           "radialaxis": {
            "gridcolor": "white",
            "linecolor": "white",
            "ticks": ""
           }
          },
          "scene": {
           "xaxis": {
            "backgroundcolor": "#E5ECF6",
            "gridcolor": "white",
            "gridwidth": 2,
            "linecolor": "white",
            "showbackground": true,
            "ticks": "",
            "zerolinecolor": "white"
           },
           "yaxis": {
            "backgroundcolor": "#E5ECF6",
            "gridcolor": "white",
            "gridwidth": 2,
            "linecolor": "white",
            "showbackground": true,
            "ticks": "",
            "zerolinecolor": "white"
           },
           "zaxis": {
            "backgroundcolor": "#E5ECF6",
            "gridcolor": "white",
            "gridwidth": 2,
            "linecolor": "white",
            "showbackground": true,
            "ticks": "",
            "zerolinecolor": "white"
           }
          },
          "shapedefaults": {
           "line": {
            "color": "#2a3f5f"
           }
          },
          "ternary": {
           "aaxis": {
            "gridcolor": "white",
            "linecolor": "white",
            "ticks": ""
           },
           "baxis": {
            "gridcolor": "white",
            "linecolor": "white",
            "ticks": ""
           },
           "bgcolor": "#E5ECF6",
           "caxis": {
            "gridcolor": "white",
            "linecolor": "white",
            "ticks": ""
           }
          },
          "title": {
           "x": 0.05
          },
          "xaxis": {
           "automargin": true,
           "gridcolor": "white",
           "linecolor": "white",
           "ticks": "",
           "title": {
            "standoff": 15
           },
           "zerolinecolor": "white",
           "zerolinewidth": 2
          },
          "yaxis": {
           "automargin": true,
           "gridcolor": "white",
           "linecolor": "white",
           "ticks": "",
           "title": {
            "standoff": 15
           },
           "zerolinecolor": "white",
           "zerolinewidth": 2
          }
         }
        },
        "title": {
         "font": {
          "size": 15
         },
         "text": "Correlations between Community Average Time Series and ITRAXX-Europe",
         "x": 0.5,
         "xanchor": "center"
        },
        "width": 600,
        "xaxis": {
         "gridcolor": "white"
        },
        "yaxis": {
         "gridcolor": "white"
        }
       }
      }
     },
     "metadata": {},
     "output_type": "display_data"
    }
   ],
   "source": [
    "#Plot correlations between community average time series and ITRAXX-Europe as a bar chart\n",
    "# Define a list of neon colors\n",
    "neon_colors = ['#39FF14', '#FF073A', '#0FF0FC', '#FFFB00', '#FF00FF', '#00FF00', '#00FFFF', '#FF4500']\n",
    "\n",
    "# Ensure the number of colors matches the number of bars\n",
    "num_bars = len(df_community_returns_average_filtered.columns)\n",
    "colors = (neon_colors * (num_bars // len(neon_colors) + 1))[:num_bars]\n",
    "\n",
    "# Plot correlations between community average time series and ITRAXX-Europe as a bar chart\n",
    "fig = go.Figure(data=[go.Bar(x=df_community_returns_average_filtered.columns, y=correlations, marker_color=colors)])\n",
    "fig.update_layout(\n",
    "    title={\n",
    "        'text': 'Correlations between Community Average Time Series and ITRAXX-Europe',\n",
    "        'font': {\n",
    "            'size': 15  # Adjust the font size of the title\n",
    "        },\n",
    "        'x': 0.5,  # Center the title\n",
    "        'xanchor': 'center'\n",
    "    },\n",
    "    plot_bgcolor='black',  # Set the plot background color to black\n",
    "    paper_bgcolor='black',  # Set the paper background color to black\n",
    "    font=dict(color='white'),  # Set the font color to white\n",
    "    xaxis=dict(\n",
    "        gridcolor='white'  # Set the x-axis gridline color to white\n",
    "    ),\n",
    "    yaxis=dict(\n",
    "        gridcolor='white'  # Set the y-axis gridline color to white\n",
    "    ),\n",
    "    width=600,\n",
    ")\n",
    "fig.show()"
   ]
  }
 ],
 "metadata": {
  "kernelspec": {
   "display_name": "base",
   "language": "python",
   "name": "python3"
  },
  "language_info": {
   "codemirror_mode": {
    "name": "ipython",
    "version": 3
   },
   "file_extension": ".py",
   "mimetype": "text/x-python",
   "name": "python",
   "nbconvert_exporter": "python",
   "pygments_lexer": "ipython3",
   "version": "3.11.4"
  }
 },
 "nbformat": 4,
 "nbformat_minor": 5
}
