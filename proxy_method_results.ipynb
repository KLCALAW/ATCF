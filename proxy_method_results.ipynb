{
 "cells": [
  {
   "cell_type": "code",
   "execution_count": 1,
   "metadata": {},
   "outputs": [
    {
     "name": "stderr",
     "output_type": "stream",
     "text": [
      "/Users/alex_1/anaconda3/lib/python3.11/site-packages/pandas/core/arrays/masked.py:60: UserWarning: Pandas requires version '1.3.6' or newer of 'bottleneck' (version '1.3.5' currently installed).\n",
      "  from pandas.core import (\n"
     ]
    }
   ],
   "source": [
    "from proxy_methods_final import *\n",
    "import pandas as pd\n",
    "from scipy.stats import shapiro\n",
    "from scipy.stats import ttest_rel\n"
   ]
  },
  {
   "cell_type": "code",
   "execution_count": 2,
   "metadata": {},
   "outputs": [],
   "source": [
    "#TODO: CHECK SOLVER"
   ]
  },
  {
   "cell_type": "markdown",
   "metadata": {},
   "source": [
    "# Load data\n",
    "---"
   ]
  },
  {
   "cell_type": "code",
   "execution_count": 3,
   "metadata": {},
   "outputs": [
    {
     "name": "stdout",
     "output_type": "stream",
     "text": [
      "AsOf          0\n",
      "Batch         0\n",
      "Tenor         0\n",
      "Ticker        0\n",
      "Series        0\n",
      "Version       0\n",
      "ConvSpread    0\n",
      "dtype: int64\n"
     ]
    }
   ],
   "source": [
    "index_data = pd.read_csv('ITRAXX-Europe Timeseries 20241127.csv') #To be used for b0\n",
    "\n",
    "#Check for Nan values\n",
    "print(index_data.isnull().sum())\n"
   ]
  },
  {
   "cell_type": "code",
   "execution_count": 4,
   "metadata": {},
   "outputs": [
    {
     "name": "stderr",
     "output_type": "stream",
     "text": [
      "/var/folders/rc/tn2ys5g55157vhhlmn0_vfwr0000gq/T/ipykernel_27130/1307506813.py:4: UserWarning: The argument 'infer_datetime_format' is deprecated and will be removed in a future version. A strict version of it is now the default, see https://pandas.pydata.org/pdeps/0004-consistent-to-datetime-parsing.html. You can safely remove this argument.\n",
      "  prices_data['Date'] = pd.to_datetime(prices_data['Date'], infer_datetime_format=True)\n"
     ]
    }
   ],
   "source": [
    "#Prices data\n",
    "#-----------------------------------------\n",
    "prices_data = pd.read_csv('data/reshaped_data.csv')\n",
    "prices_data['Date'] = pd.to_datetime(prices_data['Date'], infer_datetime_format=True)\n",
    "prices_data = prices_data.set_index('Date')\n",
    "\n",
    "#Index data\n",
    "#-----------------------------------------\n",
    "index_data = pd.read_csv('ITRAXX-Europe Timeseries 20241127.csv') #To be used for b0\n",
    "index_data.rename(columns={'AsOf':'Date'}, inplace=True)\n",
    "try:\n",
    "    index_data['Date'] = pd.to_datetime(index_data['Date'], format='%d-%b-%y')\n",
    "except Exception as e:\n",
    "    index_data['Date'] = pd.to_datetime(index_data['Date'], format='%d/%b/%y')\n",
    "index_data = index_data.sort_values(by='Date', ascending=True)\n",
    "#Metadata\n",
    "#-----------------------------------------\n",
    "metadata = pd.read_csv('data/metadata.csv')\n",
    "\n",
    "#Community detection\n",
    "#-----------------------------------------\n",
    "correlation_matrix,T,N,company_names = create_correlation_matrix('data/eur_data_standardized_returns.csv')\n",
    "C_g = calculate_C_g(correlation_matrix, T, N)\n",
    "result_communities, company_communities, modularities = recursive_spectral_method(C_g, correlation_matrix, company_names, min_size=2, modularity_threshold=0.00001)"
   ]
  },
  {
   "cell_type": "markdown",
   "metadata": {},
   "source": [
    "# Normal CSRA vs Community CSRA\n",
    "---"
   ]
  },
  {
   "cell_type": "code",
   "execution_count": 5,
   "metadata": {},
   "outputs": [],
   "source": [
    "# ticker = \"AF\" #Defined for the purposes of getting the liquid bucket (EVEN THOUGH WE USE THE INDEX)\n",
    "# date = '2015-12-30'\n",
    "# liquid_bucket = get_bucket(metadata, company_communities,ticker)[0]\n",
    "# metadata_with_proxies = calculate_proxies_and_add_to_metadata(metadata, company_communities, prices_data, index_data, liquid_bucket, date)\n",
    "# # metadata_with_proxies.to_csv('data/metadata_with_proxies.csv', index=False)"
   ]
  },
  {
   "cell_type": "code",
   "execution_count": 6,
   "metadata": {},
   "outputs": [],
   "source": [
    "#Get matching dates in price data and index data\n",
    "#-----------------------------------------\n",
    "price_dates = prices_data.index.tolist()\n",
    "\n",
    "#Extract date portion of the datetime object in the price data\n",
    "index_dates = index_data['Date'].tolist()\n",
    "\n",
    "matching_dates = [date for date in price_dates if date in index_dates]"
   ]
  },
  {
   "cell_type": "code",
   "execution_count": 7,
   "metadata": {},
   "outputs": [
    {
     "data": {
      "text/plain": [
       "318"
      ]
     },
     "execution_count": 7,
     "metadata": {},
     "output_type": "execute_result"
    }
   ],
   "source": [
    "len(prices_data.columns)"
   ]
  },
  {
   "cell_type": "code",
   "execution_count": 8,
   "metadata": {},
   "outputs": [
    {
     "data": {
      "text/plain": [
       "2515"
      ]
     },
     "execution_count": 8,
     "metadata": {},
     "output_type": "execute_result"
    }
   ],
   "source": [
    "#NUM OF DATES\n",
    "len(matching_dates)"
   ]
  },
  {
   "cell_type": "code",
   "execution_count": null,
   "metadata": {},
   "outputs": [
    {
     "name": "stdout",
     "output_type": "stream",
     "text": [
      "                                                                                                    \r"
     ]
    }
   ],
   "source": [
    "tickers = prices_data.columns.to_list() #First 10 tickers\n",
    "\n",
    "#ALEX DATES\n",
    "#-----------\n",
    "dates = matching_dates[0:839]\n",
    "\n",
    "# #CALVIN DATES\n",
    "# dates = matching_dates[839:1678] \n",
    "\n",
    "# #VINAYS DATES\n",
    "# dates = matching_dates[1678:2515] \n",
    "\n",
    "proxy_time_series_df = calculate_proxy_time_series(tickers, metadata, company_communities, prices_data, index_data, dates)\n",
    "proxy_time_series_df.to_csv('data/proxy_time_series_alex.csv', index=False)"
   ]
  },
  {
   "cell_type": "code",
   "execution_count": 10,
   "metadata": {},
   "outputs": [
    {
     "data": {
      "text/html": [
       "<div>\n",
       "<style scoped>\n",
       "    .dataframe tbody tr th:only-of-type {\n",
       "        vertical-align: middle;\n",
       "    }\n",
       "\n",
       "    .dataframe tbody tr th {\n",
       "        vertical-align: top;\n",
       "    }\n",
       "\n",
       "    .dataframe thead th {\n",
       "        text-align: right;\n",
       "    }\n",
       "</style>\n",
       "<table border=\"1\" class=\"dataframe\">\n",
       "  <thead>\n",
       "    <tr style=\"text-align: right;\">\n",
       "      <th></th>\n",
       "      <th>Ticker</th>\n",
       "      <th>Date</th>\n",
       "      <th>Actual_Spread</th>\n",
       "      <th>Proxy_Intersection</th>\n",
       "      <th>Proxy_Intersection_Community</th>\n",
       "      <th>Proxy_CSRA</th>\n",
       "      <th>Proxy_CSRA_Community</th>\n",
       "    </tr>\n",
       "  </thead>\n",
       "  <tbody>\n",
       "  </tbody>\n",
       "</table>\n",
       "</div>"
      ],
      "text/plain": [
       "Empty DataFrame\n",
       "Columns: [Ticker, Date, Actual_Spread, Proxy_Intersection, Proxy_Intersection_Community, Proxy_CSRA, Proxy_CSRA_Community]\n",
       "Index: []"
      ]
     },
     "execution_count": 10,
     "metadata": {},
     "output_type": "execute_result"
    }
   ],
   "source": [
    "#Return rows with Nan values\n",
    "proxy_time_series_df[proxy_time_series_df.isnull().any(axis=1)]"
   ]
  },
  {
   "cell_type": "code",
   "execution_count": 11,
   "metadata": {},
   "outputs": [],
   "source": [
    "# #TROUBLESHOOTING\n",
    "# #-----------------------------------------\n",
    "# tickers = [prices_data.columns.to_list()[0]] #First ticker\n",
    "# dates = matching_dates[0:1] #1 date\n",
    "# # CALVIN: Changed calculate_proxy_time_series to use get_bucket to obtain bucket of respective ticker\n",
    "# # define liquid bucket \n",
    "# # liquid_bucket = {\n",
    "# #         'Sector': 'Financials',   \n",
    "# #         'Country': 'United Kingdom',\n",
    "# #         'Rating': 10\n",
    "# #     }\n",
    "\n",
    "\n",
    "# proxy_time_series_df = calculate_proxy_time_series(tickers, metadata, company_communities, prices_data, index_data, dates)\n",
    "# proxy_time_series_df\n",
    "# #-----------------------------------------"
   ]
  },
  {
   "cell_type": "code",
   "execution_count": 12,
   "metadata": {},
   "outputs": [
    {
     "data": {
      "text/html": [
       "<div>\n",
       "<style scoped>\n",
       "    .dataframe tbody tr th:only-of-type {\n",
       "        vertical-align: middle;\n",
       "    }\n",
       "\n",
       "    .dataframe tbody tr th {\n",
       "        vertical-align: top;\n",
       "    }\n",
       "\n",
       "    .dataframe thead th {\n",
       "        text-align: right;\n",
       "    }\n",
       "</style>\n",
       "<table border=\"1\" class=\"dataframe\">\n",
       "  <thead>\n",
       "    <tr style=\"text-align: right;\">\n",
       "      <th></th>\n",
       "      <th>Ticker</th>\n",
       "      <th>Date</th>\n",
       "      <th>Actual_Spread</th>\n",
       "      <th>Proxy_Intersection</th>\n",
       "      <th>Proxy_Intersection_Community</th>\n",
       "      <th>Proxy_CSRA</th>\n",
       "      <th>Proxy_CSRA_Community</th>\n",
       "    </tr>\n",
       "  </thead>\n",
       "  <tbody>\n",
       "    <tr>\n",
       "      <th>0</th>\n",
       "      <td>AAUK</td>\n",
       "      <td>2010-09-14</td>\n",
       "      <td>179.666667</td>\n",
       "      <td>105.00</td>\n",
       "      <td>105.00</td>\n",
       "      <td>188.974433</td>\n",
       "      <td>127.596349</td>\n",
       "    </tr>\n",
       "    <tr>\n",
       "      <th>1</th>\n",
       "      <td>AAUK</td>\n",
       "      <td>2010-09-15</td>\n",
       "      <td>175.666667</td>\n",
       "      <td>105.58</td>\n",
       "      <td>105.58</td>\n",
       "      <td>188.816758</td>\n",
       "      <td>128.455915</td>\n",
       "    </tr>\n",
       "    <tr>\n",
       "      <th>2</th>\n",
       "      <td>AAUK</td>\n",
       "      <td>2010-09-16</td>\n",
       "      <td>174.666667</td>\n",
       "      <td>106.28</td>\n",
       "      <td>106.28</td>\n",
       "      <td>187.841680</td>\n",
       "      <td>126.075857</td>\n",
       "    </tr>\n",
       "    <tr>\n",
       "      <th>3</th>\n",
       "      <td>AAUK</td>\n",
       "      <td>2010-09-17</td>\n",
       "      <td>169.500000</td>\n",
       "      <td>106.96</td>\n",
       "      <td>106.96</td>\n",
       "      <td>185.686246</td>\n",
       "      <td>125.608172</td>\n",
       "    </tr>\n",
       "    <tr>\n",
       "      <th>4</th>\n",
       "      <td>AAUK</td>\n",
       "      <td>2010-09-20</td>\n",
       "      <td>171.833333</td>\n",
       "      <td>110.97</td>\n",
       "      <td>110.97</td>\n",
       "      <td>185.298630</td>\n",
       "      <td>125.807404</td>\n",
       "    </tr>\n",
       "    <tr>\n",
       "      <th>...</th>\n",
       "      <td>...</td>\n",
       "      <td>...</td>\n",
       "      <td>...</td>\n",
       "      <td>...</td>\n",
       "      <td>...</td>\n",
       "      <td>...</td>\n",
       "      <td>...</td>\n",
       "    </tr>\n",
       "    <tr>\n",
       "      <th>95</th>\n",
       "      <td>AF</td>\n",
       "      <td>2010-09-21</td>\n",
       "      <td>375.491763</td>\n",
       "      <td>109.85</td>\n",
       "      <td>109.85</td>\n",
       "      <td>131.056471</td>\n",
       "      <td>344.118582</td>\n",
       "    </tr>\n",
       "    <tr>\n",
       "      <th>96</th>\n",
       "      <td>AF</td>\n",
       "      <td>2010-09-22</td>\n",
       "      <td>381.500000</td>\n",
       "      <td>114.08</td>\n",
       "      <td>114.08</td>\n",
       "      <td>131.754695</td>\n",
       "      <td>349.228686</td>\n",
       "    </tr>\n",
       "    <tr>\n",
       "      <th>97</th>\n",
       "      <td>AF</td>\n",
       "      <td>2010-09-23</td>\n",
       "      <td>382.478975</td>\n",
       "      <td>116.68</td>\n",
       "      <td>116.68</td>\n",
       "      <td>136.003757</td>\n",
       "      <td>354.422028</td>\n",
       "    </tr>\n",
       "    <tr>\n",
       "      <th>98</th>\n",
       "      <td>AF</td>\n",
       "      <td>2010-09-24</td>\n",
       "      <td>390.138794</td>\n",
       "      <td>112.71</td>\n",
       "      <td>112.71</td>\n",
       "      <td>136.469680</td>\n",
       "      <td>346.787686</td>\n",
       "    </tr>\n",
       "    <tr>\n",
       "      <th>99</th>\n",
       "      <td>AF</td>\n",
       "      <td>2010-09-27</td>\n",
       "      <td>388.486898</td>\n",
       "      <td>113.37</td>\n",
       "      <td>113.37</td>\n",
       "      <td>136.378934</td>\n",
       "      <td>364.285431</td>\n",
       "    </tr>\n",
       "  </tbody>\n",
       "</table>\n",
       "<p>100 rows × 7 columns</p>\n",
       "</div>"
      ],
      "text/plain": [
       "   Ticker       Date  Actual_Spread  Proxy_Intersection  \\\n",
       "0    AAUK 2010-09-14     179.666667              105.00   \n",
       "1    AAUK 2010-09-15     175.666667              105.58   \n",
       "2    AAUK 2010-09-16     174.666667              106.28   \n",
       "3    AAUK 2010-09-17     169.500000              106.96   \n",
       "4    AAUK 2010-09-20     171.833333              110.97   \n",
       "..    ...        ...            ...                 ...   \n",
       "95     AF 2010-09-21     375.491763              109.85   \n",
       "96     AF 2010-09-22     381.500000              114.08   \n",
       "97     AF 2010-09-23     382.478975              116.68   \n",
       "98     AF 2010-09-24     390.138794              112.71   \n",
       "99     AF 2010-09-27     388.486898              113.37   \n",
       "\n",
       "    Proxy_Intersection_Community  Proxy_CSRA  Proxy_CSRA_Community  \n",
       "0                         105.00  188.974433            127.596349  \n",
       "1                         105.58  188.816758            128.455915  \n",
       "2                         106.28  187.841680            126.075857  \n",
       "3                         106.96  185.686246            125.608172  \n",
       "4                         110.97  185.298630            125.807404  \n",
       "..                           ...         ...                   ...  \n",
       "95                        109.85  131.056471            344.118582  \n",
       "96                        114.08  131.754695            349.228686  \n",
       "97                        116.68  136.003757            354.422028  \n",
       "98                        112.71  136.469680            346.787686  \n",
       "99                        113.37  136.378934            364.285431  \n",
       "\n",
       "[100 rows x 7 columns]"
      ]
     },
     "execution_count": 12,
     "metadata": {},
     "output_type": "execute_result"
    }
   ],
   "source": [
    "proxy_time_series_df"
   ]
  },
  {
   "cell_type": "code",
   "execution_count": 13,
   "metadata": {},
   "outputs": [],
   "source": [
    "rmse_intersection_normal_list, rmse_intersection_communities_list, rmse_csra_normal_list, rmse_csra_communities_list = calculate_rmse_curves(proxy_time_series_df, dates)"
   ]
  },
  {
   "cell_type": "code",
   "execution_count": 14,
   "metadata": {},
   "outputs": [],
   "source": [
    "# set global plotting format\n",
    "plt.style.use('seaborn-v0_8-bright')\n",
    "plt.style.use('seaborn-v0_8-darkgrid')"
   ]
  },
  {
   "cell_type": "code",
   "execution_count": 15,
   "metadata": {},
   "outputs": [
    {
     "data": {
      "image/png": "[encoded data removed]",
      "text/plain": [
       "<Figure size 640x480 with 1 Axes>"
      ]
     },
     "metadata": {},
     "output_type": "display_data"
    }
   ],
   "source": [
    "plot_rmse_curves(rmse_csra_normal_list, rmse_csra_communities_list, dates)"
   ]
  },
  {
   "cell_type": "code",
   "execution_count": 16,
   "metadata": {},
   "outputs": [
    {
     "name": "stdout",
     "output_type": "stream",
     "text": [
      "Number of days where RMSE for normal CSRA method > RMSE for community CSRA method : 10\n",
      "Percentage of days where CSRA Communities method is better: 100.0%\n"
     ]
    }
   ],
   "source": [
    "calculate_percentage_better(rmse_csra_normal_list, rmse_csra_communities_list)"
   ]
  },
  {
   "cell_type": "code",
   "execution_count": 17,
   "metadata": {},
   "outputs": [
    {
     "name": "stdout",
     "output_type": "stream",
     "text": [
      "Shapiro-Wilk Test Statistic: 0.9315325021743774, p-value: 0.4631350636482239\n",
      "CHECKING FOR NORMALITY OF DIFFERENCES\n",
      "--------------------------------------\n",
      "The differences appear to be normally distributed (fail to reject H0).\n",
      "Since the differences are normally distributed, we can perform a paired t-test\n",
      "PAIRED T-TEST RESULTS \n",
      "--------------------------------------\n",
      "Paired T-Test Statistic: 39.07013604090177, p-value: 2.343267036836584e-11\n",
      "Reject the null hypothesis for a one-tailed test: Method 1 has higher RMSE.\n",
      "Therefore the average RMSE for the normal CSRA method is significantly greater than the average RMSE for the community CSRA method.\n"
     ]
    }
   ],
   "source": [
    "paired_t_test(rmse_csra_normal_list, rmse_csra_communities_list)"
   ]
  }
 ],
 "metadata": {
  "kernelspec": {
   "display_name": "base",
   "language": "python",
   "name": "python3"
  },
  "language_info": {
   "codemirror_mode": {
    "name": "ipython",
    "version": 3
   },
   "file_extension": ".py",
   "mimetype": "text/x-python",
   "name": "python",
   "nbconvert_exporter": "python",
   "pygments_lexer": "ipython3",
   "version": "3.11.4"
  }
 },
 "nbformat": 4,
 "nbformat_minor": 4
}
