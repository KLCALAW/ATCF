{
 "cells": [
  {
   "cell_type": "code",
   "execution_count": 1,
   "metadata": {},
   "outputs": [
    {
     "name": "stderr",
     "output_type": "stream",
     "text": [
      "/Users/alex_1/anaconda3/lib/python3.11/site-packages/pandas/core/arrays/masked.py:60: UserWarning: Pandas requires version '1.3.6' or newer of 'bottleneck' (version '1.3.5' currently installed).\n",
      "  from pandas.core import (\n"
     ]
    }
   ],
   "source": [
    "from proxy_methods_final import *\n",
    "import pandas as pd"
   ]
  },
  {
   "cell_type": "code",
   "execution_count": 2,
   "metadata": {},
   "outputs": [],
   "source": [
    "#TODO: MAKE SURE WE ARE COMPARING STANDARDISED TO STANDARDISED\n",
    "#TODO  FORWARD FILL MISSING DATA\n",
    "#TODO: CHECK THAT THE CORRECT PARAMS ARE BEING PASSED IN THE PROXY TIMESERIES METHOD AFTER REMOVING THE TICKER"
   ]
  },
  {
   "cell_type": "markdown",
   "metadata": {},
   "source": [
    "# Load data\n",
    "---"
   ]
  },
  {
   "cell_type": "code",
   "execution_count": 3,
   "metadata": {},
   "outputs": [
    {
     "name": "stderr",
     "output_type": "stream",
     "text": [
      "/var/folders/rc/tn2ys5g55157vhhlmn0_vfwr0000gq/T/ipykernel_27980/3926340139.py:4: UserWarning: The argument 'infer_datetime_format' is deprecated and will be removed in a future version. A strict version of it is now the default, see https://pandas.pydata.org/pdeps/0004-consistent-to-datetime-parsing.html. You can safely remove this argument.\n",
      "  prices_data['Date'] = pd.to_datetime(prices_data['Date'], infer_datetime_format=True)\n"
     ]
    }
   ],
   "source": [
    "#Prices data\n",
    "#-----------------------------------------\n",
    "prices_data = pd.read_csv('data/reshaped_data.csv')\n",
    "prices_data['Date'] = pd.to_datetime(prices_data['Date'], infer_datetime_format=True)\n",
    "prices_data = prices_data.set_index('Date')\n",
    "\n",
    "#Index data\n",
    "#-----------------------------------------\n",
    "index_data = pd.read_csv('ITRAXX-Europe Timeseries 20241127.csv') #To be used for b0\n",
    "index_data.rename(columns={'AsOf':'Date'}, inplace=True)\n",
    "index_data['Date'] = pd.to_datetime(index_data['Date'], format='%d-%b-%y')\n",
    "index_data = index_data.sort_values(by='Date', ascending=True)\n",
    "#Metadata\n",
    "#-----------------------------------------\n",
    "metadata = pd.read_csv('data/metadata.csv')\n",
    "\n",
    "#Community detection\n",
    "#-----------------------------------------\n",
    "correlation_matrix,T,N,company_names = create_correlation_matrix('data/eur_data_standardized_returns.csv')\n",
    "C_g = calculate_C_g(correlation_matrix, T, N)\n",
    "result_communities, company_communities, modularities = recursive_spectral_method(C_g, correlation_matrix, company_names, min_size=2, modularity_threshold=0.00001)"
   ]
  },
  {
   "cell_type": "markdown",
   "metadata": {},
   "source": [
    "# Normal CSRA vs Community CSRA\n",
    "---"
   ]
  },
  {
   "cell_type": "code",
   "execution_count": 4,
   "metadata": {},
   "outputs": [],
   "source": [
    "# ticker = \"AF\" #Defined for the purposes of getting the liquid bucket (EVEN THOUGH WE USE THE INDEX)\n",
    "# date = '2015-12-30'\n",
    "# liquid_bucket = get_bucket(metadata, company_communities,ticker)[0]\n",
    "# metadata_with_proxies = calculate_proxies_and_add_to_metadata(metadata, company_communities, prices_data, index_data, liquid_bucket, date)\n",
    "# # metadata_with_proxies.to_csv('data/metadata_with_proxies.csv', index=False)"
   ]
  },
  {
   "cell_type": "code",
   "execution_count": 5,
   "metadata": {},
   "outputs": [],
   "source": [
    "#metadata_with_proxies"
   ]
  },
  {
   "cell_type": "code",
   "execution_count": null,
   "metadata": {},
   "outputs": [],
   "source": [
    "#Get matching dates in price data and index data\n",
    "#-----------------------------------------\n",
    "price_dates = prices_data.index.tolist()\n",
    "\n",
    "#Extract date portion of the datetime object in the price data\n",
    "index_dates = index_data['Date'].tolist()\n",
    "\n",
    "matching_dates = [date for date in price_dates if date in index_dates]"
   ]
  },
  {
   "cell_type": "code",
   "execution_count": 41,
   "metadata": {},
   "outputs": [
    {
     "name": "stderr",
     "output_type": "stream",
     "text": [
      "/Users/alex_1/anaconda3/lib/python3.11/site-packages/cvxpy/problems/problem.py:1481: UserWarning: Solution may be inaccurate. Try another solver, adjusting the solver settings, or solve with verbose=True for more information.\n",
      "  warnings.warn(\n",
      "/Users/alex_1/anaconda3/lib/python3.11/site-packages/cvxpy/problems/problem.py:1481: UserWarning: Solution may be inaccurate. Try another solver, adjusting the solver settings, or solve with verbose=True for more information.\n",
      "  warnings.warn(\n",
      "/Users/alex_1/anaconda3/lib/python3.11/site-packages/cvxpy/problems/problem.py:1481: UserWarning: Solution may be inaccurate. Try another solver, adjusting the solver settings, or solve with verbose=True for more information.\n",
      "  warnings.warn(\n",
      "/Users/alex_1/anaconda3/lib/python3.11/site-packages/cvxpy/problems/problem.py:1481: UserWarning: Solution may be inaccurate. Try another solver, adjusting the solver settings, or solve with verbose=True for more information.\n",
      "  warnings.warn(\n",
      "/Users/alex_1/anaconda3/lib/python3.11/site-packages/cvxpy/problems/problem.py:1481: UserWarning: Solution may be inaccurate. Try another solver, adjusting the solver settings, or solve with verbose=True for more information.\n",
      "  warnings.warn(\n",
      "/Users/alex_1/anaconda3/lib/python3.11/site-packages/cvxpy/problems/problem.py:1481: UserWarning: Solution may be inaccurate. Try another solver, adjusting the solver settings, or solve with verbose=True for more information.\n",
      "  warnings.warn(\n",
      "/Users/alex_1/anaconda3/lib/python3.11/site-packages/cvxpy/problems/problem.py:1481: UserWarning: Solution may be inaccurate. Try another solver, adjusting the solver settings, or solve with verbose=True for more information.\n",
      "  warnings.warn(\n",
      "/Users/alex_1/anaconda3/lib/python3.11/site-packages/cvxpy/problems/problem.py:1481: UserWarning: Solution may be inaccurate. Try another solver, adjusting the solver settings, or solve with verbose=True for more information.\n",
      "  warnings.warn(\n",
      "/Users/alex_1/anaconda3/lib/python3.11/site-packages/cvxpy/problems/problem.py:1481: UserWarning: Solution may be inaccurate. Try another solver, adjusting the solver settings, or solve with verbose=True for more information.\n",
      "  warnings.warn(\n",
      "/Users/alex_1/anaconda3/lib/python3.11/site-packages/cvxpy/problems/problem.py:1481: UserWarning: Solution may be inaccurate. Try another solver, adjusting the solver settings, or solve with verbose=True for more information.\n",
      "  warnings.warn(\n",
      "/Users/alex_1/anaconda3/lib/python3.11/site-packages/cvxpy/problems/problem.py:1481: UserWarning: Solution may be inaccurate. Try another solver, adjusting the solver settings, or solve with verbose=True for more information.\n",
      "  warnings.warn(\n",
      "/Users/alex_1/anaconda3/lib/python3.11/site-packages/cvxpy/problems/problem.py:1481: UserWarning: Solution may be inaccurate. Try another solver, adjusting the solver settings, or solve with verbose=True for more information.\n",
      "  warnings.warn(\n",
      "/Users/alex_1/anaconda3/lib/python3.11/site-packages/cvxpy/problems/problem.py:1481: UserWarning: Solution may be inaccurate. Try another solver, adjusting the solver settings, or solve with verbose=True for more information.\n",
      "  warnings.warn(\n",
      "/Users/alex_1/anaconda3/lib/python3.11/site-packages/cvxpy/problems/problem.py:1481: UserWarning: Solution may be inaccurate. Try another solver, adjusting the solver settings, or solve with verbose=True for more information.\n",
      "  warnings.warn(\n",
      "/Users/alex_1/anaconda3/lib/python3.11/site-packages/cvxpy/problems/problem.py:1481: UserWarning: Solution may be inaccurate. Try another solver, adjusting the solver settings, or solve with verbose=True for more information.\n",
      "  warnings.warn(\n",
      "/Users/alex_1/anaconda3/lib/python3.11/site-packages/cvxpy/problems/problem.py:1481: UserWarning: Solution may be inaccurate. Try another solver, adjusting the solver settings, or solve with verbose=True for more information.\n",
      "  warnings.warn(\n",
      "/Users/alex_1/anaconda3/lib/python3.11/site-packages/cvxpy/problems/problem.py:1481: UserWarning: Solution may be inaccurate. Try another solver, adjusting the solver settings, or solve with verbose=True for more information.\n",
      "  warnings.warn(\n",
      "/Users/alex_1/anaconda3/lib/python3.11/site-packages/cvxpy/problems/problem.py:1481: UserWarning: Solution may be inaccurate. Try another solver, adjusting the solver settings, or solve with verbose=True for more information.\n",
      "  warnings.warn(\n",
      "/Users/alex_1/anaconda3/lib/python3.11/site-packages/cvxpy/problems/problem.py:1481: UserWarning: Solution may be inaccurate. Try another solver, adjusting the solver settings, or solve with verbose=True for more information.\n",
      "  warnings.warn(\n"
     ]
    }
   ],
   "source": [
    "tickers = prices_data.columns.to_list()[0:10] #First 10 tickers\n",
    "dates = matching_dates[0:30] #First 30 dates\n",
    "liquid_bucket = get_bucket(metadata, company_communities,tickers[0])[0]\n",
    "proxy_time_series_df = calculate_proxy_time_series(tickers, metadata, company_communities, prices_data, index_data, liquid_bucket, dates)"
   ]
  },
  {
   "cell_type": "code",
   "execution_count": 67,
   "metadata": {},
   "outputs": [
    {
     "data": {
      "text/html": [
       "<div>\n",
       "<style scoped>\n",
       "    .dataframe tbody tr th:only-of-type {\n",
       "        vertical-align: middle;\n",
       "    }\n",
       "\n",
       "    .dataframe tbody tr th {\n",
       "        vertical-align: top;\n",
       "    }\n",
       "\n",
       "    .dataframe thead th {\n",
       "        text-align: right;\n",
       "    }\n",
       "</style>\n",
       "<table border=\"1\" class=\"dataframe\">\n",
       "  <thead>\n",
       "    <tr style=\"text-align: right;\">\n",
       "      <th></th>\n",
       "      <th>Ticker</th>\n",
       "      <th>Date</th>\n",
       "      <th>ActualSpread</th>\n",
       "      <th>ProxyCSRA</th>\n",
       "      <th>ProxyCSRACommunity</th>\n",
       "    </tr>\n",
       "  </thead>\n",
       "  <tbody>\n",
       "    <tr>\n",
       "      <th>0</th>\n",
       "      <td>AAUK</td>\n",
       "      <td>2010-09-14</td>\n",
       "      <td>179.666667</td>\n",
       "      <td>188.974635</td>\n",
       "      <td>127.595482</td>\n",
       "    </tr>\n",
       "    <tr>\n",
       "      <th>1</th>\n",
       "      <td>AAUK</td>\n",
       "      <td>2010-09-15</td>\n",
       "      <td>175.666667</td>\n",
       "      <td>188.816959</td>\n",
       "      <td>128.455038</td>\n",
       "    </tr>\n",
       "    <tr>\n",
       "      <th>2</th>\n",
       "      <td>AAUK</td>\n",
       "      <td>2010-09-16</td>\n",
       "      <td>174.666667</td>\n",
       "      <td>187.841878</td>\n",
       "      <td>126.074997</td>\n",
       "    </tr>\n",
       "    <tr>\n",
       "      <th>3</th>\n",
       "      <td>AAUK</td>\n",
       "      <td>2010-09-17</td>\n",
       "      <td>169.500000</td>\n",
       "      <td>185.686441</td>\n",
       "      <td>125.607317</td>\n",
       "    </tr>\n",
       "    <tr>\n",
       "      <th>4</th>\n",
       "      <td>AAUK</td>\n",
       "      <td>2010-09-20</td>\n",
       "      <td>171.833333</td>\n",
       "      <td>185.298821</td>\n",
       "      <td>125.806553</td>\n",
       "    </tr>\n",
       "    <tr>\n",
       "      <th>...</th>\n",
       "      <td>...</td>\n",
       "      <td>...</td>\n",
       "      <td>...</td>\n",
       "      <td>...</td>\n",
       "      <td>...</td>\n",
       "    </tr>\n",
       "    <tr>\n",
       "      <th>295</th>\n",
       "      <td>AF</td>\n",
       "      <td>2010-10-19</td>\n",
       "      <td>355.303434</td>\n",
       "      <td>138.016285</td>\n",
       "      <td>352.016574</td>\n",
       "    </tr>\n",
       "    <tr>\n",
       "      <th>296</th>\n",
       "      <td>AF</td>\n",
       "      <td>2010-10-20</td>\n",
       "      <td>359.310229</td>\n",
       "      <td>138.068778</td>\n",
       "      <td>348.833927</td>\n",
       "    </tr>\n",
       "    <tr>\n",
       "      <th>297</th>\n",
       "      <td>AF</td>\n",
       "      <td>2010-10-21</td>\n",
       "      <td>325.739700</td>\n",
       "      <td>134.464077</td>\n",
       "      <td>339.741876</td>\n",
       "    </tr>\n",
       "    <tr>\n",
       "      <th>298</th>\n",
       "      <td>AF</td>\n",
       "      <td>2010-10-22</td>\n",
       "      <td>323.543303</td>\n",
       "      <td>135.969851</td>\n",
       "      <td>342.817151</td>\n",
       "    </tr>\n",
       "    <tr>\n",
       "      <th>299</th>\n",
       "      <td>AF</td>\n",
       "      <td>2010-10-25</td>\n",
       "      <td>327.293526</td>\n",
       "      <td>135.135803</td>\n",
       "      <td>340.556860</td>\n",
       "    </tr>\n",
       "  </tbody>\n",
       "</table>\n",
       "<p>300 rows × 5 columns</p>\n",
       "</div>"
      ],
      "text/plain": [
       "    Ticker       Date  ActualSpread   ProxyCSRA  ProxyCSRACommunity\n",
       "0     AAUK 2010-09-14    179.666667  188.974635          127.595482\n",
       "1     AAUK 2010-09-15    175.666667  188.816959          128.455038\n",
       "2     AAUK 2010-09-16    174.666667  187.841878          126.074997\n",
       "3     AAUK 2010-09-17    169.500000  185.686441          125.607317\n",
       "4     AAUK 2010-09-20    171.833333  185.298821          125.806553\n",
       "..     ...        ...           ...         ...                 ...\n",
       "295     AF 2010-10-19    355.303434  138.016285          352.016574\n",
       "296     AF 2010-10-20    359.310229  138.068778          348.833927\n",
       "297     AF 2010-10-21    325.739700  134.464077          339.741876\n",
       "298     AF 2010-10-22    323.543303  135.969851          342.817151\n",
       "299     AF 2010-10-25    327.293526  135.135803          340.556860\n",
       "\n",
       "[300 rows x 5 columns]"
      ]
     },
     "execution_count": 67,
     "metadata": {},
     "output_type": "execute_result"
    }
   ],
   "source": [
    "proxy_time_series_df"
   ]
  },
  {
   "cell_type": "code",
   "execution_count": 75,
   "metadata": {},
   "outputs": [],
   "source": [
    "RMSE_csra_normal_list = []\n",
    "RMSE_csra_communities_list = []\n",
    "\n",
    "for date in dates:\n",
    "    #Filter the proxy time series data by the date\n",
    "    ProxyCSRA_spreads_filtered = proxy_time_series_df[proxy_time_series_df['Date'] == date]\n",
    "\n",
    "    #Get the actual spreads and the proxy spreads\n",
    "    actual_spreads = ProxyCSRA_spreads_filtered['ActualSpread']\n",
    "    proxy_spreads_csra_normal = ProxyCSRA_spreads_filtered['ProxyCSRA']\n",
    "    proxy_spreads_csra_communities = ProxyCSRA_spreads_filtered['ProxyCSRACommunity']\n",
    "\n",
    "    #Calculate the RMSE\n",
    "    RMSE_csra_normal = calculate_rmse(actual_spreads, proxy_spreads_csra_normal)\n",
    "    RMSE_csra_communities = calculate_rmse(actual_spreads, proxy_spreads_csra_communities)\n",
    "\n",
    "    RMSE_csra_normal_list.append(RMSE_csra_normal)\n",
    "    RMSE_csra_communities_list.append(RMSE_csra_communities)\n"
   ]
  },
  {
   "cell_type": "code",
   "execution_count": 77,
   "metadata": {},
   "outputs": [],
   "source": [
    "# set global plotting format\n",
    "plt.style.use('seaborn-v0_8-bright')\n",
    "plt.style.use('seaborn-v0_8-darkgrid')"
   ]
  },
  {
   "cell_type": "code",
   "execution_count": 79,
   "metadata": {},
   "outputs": [
    {
     "data": {
      "text/plain": [
       "<matplotlib.legend.Legend at 0x169f1fb90>"
      ]
     },
     "execution_count": 79,
     "metadata": {},
     "output_type": "execute_result"
    },
    {
     "data": {
      "image/png": "[encoded data removed]",
      "text/plain": [
       "<Figure size 640x480 with 1 Axes>"
      ]
     },
     "metadata": {},
     "output_type": "display_data"
    }
   ],
   "source": [
    "#Plot RMSE for CSRA normal and CSRA communities\n",
    "plt.plot(dates, RMSE_csra_normal_list, label='CSRA Normal')\n",
    "plt.plot(dates, RMSE_csra_communities_list, label='CSRA Communities')\n",
    "plt.xlabel('Date')\n",
    "plt.ylabel('RMSE')\n",
    "plt.title(f'RMSE for CSRA Normal and CSRA Communities for the first {len(dates)} dates')\n",
    "plt.legend()\n"
   ]
  }
 ],
 "metadata": {
  "kernelspec": {
   "display_name": "base",
   "language": "python",
   "name": "python3"
  },
  "language_info": {
   "codemirror_mode": {
    "name": "ipython",
    "version": 3
   },
   "file_extension": ".py",
   "mimetype": "text/x-python",
   "name": "python",
   "nbconvert_exporter": "python",
   "pygments_lexer": "ipython3",
   "version": "3.11.4"
  }
 },
 "nbformat": 4,
 "nbformat_minor": 2
}
